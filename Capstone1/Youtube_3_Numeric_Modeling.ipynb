{
 "cells": [
  {
   "cell_type": "code",
   "execution_count": 1,
   "metadata": {},
   "outputs": [
    {
     "name": "stdout",
     "output_type": "stream",
     "text": [
      "<class 'pandas.core.frame.DataFrame'>\n",
      "Int64Index: 989 entries, 0 to 999\n",
      "Data columns (total 16 columns):\n",
      "search_word                  989 non-null object\n",
      "contentDetails.caption       989 non-null bool\n",
      "contentDetails.definition    989 non-null object\n",
      "catID                        989 non-null int64\n",
      "description                  975 non-null object\n",
      "localized.description        974 non-null object\n",
      "localized.title              989 non-null object\n",
      "tags                         930 non-null object\n",
      "title                        989 non-null object\n",
      "commentCount                 989 non-null float64\n",
      "dislikeCount                 989 non-null float64\n",
      "likeCount                    989 non-null float64\n",
      "viewCount                    989 non-null float64\n",
      "view_bucket                  989 non-null float64\n",
      "age_int                      989 non-null int64\n",
      "target                       989 non-null int64\n",
      "dtypes: bool(1), float64(5), int64(3), object(7)\n",
      "memory usage: 124.6+ KB\n",
      "None\n",
      "(989, 16)\n",
      "  search_word  contentDetails.caption contentDetails.definition  catID  \\\n",
      "0     Siemens                   False                        hd     27   \n",
      "1     Siemens                   False                        hd     28   \n",
      "2     Siemens                   False                        hd     28   \n",
      "3     Siemens                   False                        hd     28   \n",
      "4     Siemens                   False                        hd     26   \n",
      "\n",
      "                                         description  \\\n",
      "0  15 Things You Didn't Know About SIEMENS | SUBS...   \n",
      "1  From digitalisation to automation, weƒ??re cha...   \n",
      "2  Are you interested in what Siemens does and wh...   \n",
      "3  The most powerful HVDC transformer in the worl...   \n",
      "4  Articolul complet pe site: https://cavaleria.r...   \n",
      "\n",
      "                               localized.description  \\\n",
      "0  15 Things You Didn't Know About SIEMENS | SUBS...   \n",
      "1  From digitalisation to automation, weƒ??re cha...   \n",
      "2  Are you interested in what Siemens does and wh...   \n",
      "3  The most powerful HVDC transformer in the worl...   \n",
      "4  Articolul complet pe site: https://cavaleria.r...   \n",
      "\n",
      "                                     localized.title  \\\n",
      "0            15 Things You Didn't Know About SIEMENS   \n",
      "1                What is it like to work at Siemens?   \n",
      "2                  Siemens - More than just business   \n",
      "3  Siemens presents: The first 1,100 kV HVDC Tran...   \n",
      "4  Ce ??nseamnŽŸ sŽŸ lucrezi la Siemens - Cavaler...   \n",
      "\n",
      "                                                tags  \\\n",
      "0  ['Alux', 'Alux.com', 'Alux Youtube', 'luxury l...   \n",
      "1  ['Siemens', 'Siemens UK', 'careers', 'jobs', '...   \n",
      "2  ['SIEMENS', 'products', 'Energy', 'Healthcare'...   \n",
      "3  ['Siemens', 'HVDC', 'Transformer', '1100kV', '...   \n",
      "4  ['Cavaleria.ro', 'hacking', 'siemens', 'job', ...   \n",
      "\n",
      "                                               title  commentCount  \\\n",
      "0            15 Things You Didn't Know About SIEMENS    117.000000   \n",
      "1                What is it like to work at Siemens?  11468.477674   \n",
      "2                  Siemens - More than just business  11468.477674   \n",
      "3  Siemens presents: The first 1,100 kV HVDC Tran...  11468.477674   \n",
      "4  Ce ??nseamnŽŸ sŽŸ lucrezi la Siemens - Cavaler...     64.000000   \n",
      "\n",
      "   dislikeCount  likeCount  viewCount  view_bucket  age_int  target  \n",
      "0          80.0      931.0    64279.0          1.0      323       0  \n",
      "1           7.0       70.0     7872.0          1.0      372       0  \n",
      "2          52.0      731.0   238602.0          2.0     1917       0  \n",
      "3         204.0     3835.0   177410.0          1.0       42       2  \n",
      "4          23.0      718.0    18839.0          1.0        0       0  \n"
     ]
    }
   ],
   "source": [
    "#Split and scale the data, train hyper parameters, Model, Evaluate\n",
    "\n",
    "from sklearn.linear_model import LinearRegression\n",
    "from sklearn.model_selection import train_test_split\n",
    "from sklearn.pipeline import make_pipeline\n",
    "#from sklearn import cross_validation, metrics  \n",
    "from sklearn.metrics import mean_squared_error\n",
    "from sklearn.preprocessing import MinMaxScaler\n",
    "from sklearn import preprocessing\n",
    "import pandas as pd\n",
    "from sklearn import datasets, linear_model\n",
    "from matplotlib import pyplot as plt\n",
    "import numpy as np\n",
    "import statsmodels.api as sm\n",
    "from sklearn.metrics import mean_absolute_error\n",
    "\n",
    "from sklearn import ensemble\n",
    "from sklearn.ensemble import GradientBoostingClassifier\n",
    "from sklearn.model_selection import RandomizedSearchCV\n",
    "from sklearn.model_selection import GridSearchCV\n",
    "from sklearn.metrics import classification_report\n",
    "\n",
    "\n",
    "%store -r df\n",
    "\n",
    "print(df.info())\n",
    "print(df.shape)\n",
    "print(df.head())\n",
    "\n",
    "   "
   ]
  },
  {
   "cell_type": "code",
   "execution_count": 2,
   "metadata": {},
   "outputs": [
    {
     "name": "stdout",
     "output_type": "stream",
     "text": [
      "(989, 3)\n",
      "          0         1         2\n",
      "0  0.000190  0.000486  0.000166\n",
      "1  0.018638  0.000043  0.000012\n",
      "2  0.018638  0.000316  0.000130\n",
      "3  0.018638  0.001240  0.000682\n",
      "4  0.000104  0.000140  0.000128\n"
     ]
    }
   ],
   "source": [
    "#Scale all of the count data\n",
    "from sklearn.preprocessing import label_binarize\n",
    "\n",
    "minmax_scale = preprocessing.MinMaxScaler().fit(df[['commentCount','dislikeCount','likeCount']])\n",
    "\n",
    "X = pd.DataFrame(minmax_scale.transform(df[['commentCount','dislikeCount','likeCount']]))\n",
    "print(X.shape)\n",
    "y = df['target']\n",
    "\n",
    "\n",
    "n = pd.get_dummies(df[['search_word','contentDetails.definition','contentDetails.caption']])\n",
    "\n",
    "# X = pd.concat([X, n], axis=1)\n",
    "print(X.head())\n",
    "\n",
    "\n",
    "\n"
   ]
  },
  {
   "cell_type": "code",
   "execution_count": 3,
   "metadata": {},
   "outputs": [
    {
     "data": {
      "text/plain": [
       "(989, 26)"
      ]
     },
     "execution_count": 3,
     "metadata": {},
     "output_type": "execute_result"
    }
   ],
   "source": [
    "# add the dummy columns as variables\n",
    "X = pd.DataFrame(np.hstack([X,n]))\n",
    "X.shape\n",
    "\n"
   ]
  },
  {
   "cell_type": "code",
   "execution_count": 4,
   "metadata": {},
   "outputs": [
    {
     "name": "stdout",
     "output_type": "stream",
     "text": [
      "(989, 27)\n"
     ]
    }
   ],
   "source": [
    "# Normalize the time series data and store as new date column\n",
    "ts = df['age_int']\n",
    "scaled_ts = (ts-ts.min())/(ts.max()-ts.min())\n",
    "\n",
    "X['Age'] = pd.Series(scaled_ts)\n",
    "X['Age'].fillna((X['Age'].mean()), inplace=True)\n",
    "\n",
    "print(X.shape)\n"
   ]
  },
  {
   "cell_type": "code",
   "execution_count": 5,
   "metadata": {},
   "outputs": [
    {
     "data": {
      "text/html": [
       "<div>\n",
       "<style scoped>\n",
       "    .dataframe tbody tr th:only-of-type {\n",
       "        vertical-align: middle;\n",
       "    }\n",
       "\n",
       "    .dataframe tbody tr th {\n",
       "        vertical-align: top;\n",
       "    }\n",
       "\n",
       "    .dataframe thead th {\n",
       "        text-align: right;\n",
       "    }\n",
       "</style>\n",
       "<table border=\"1\" class=\"dataframe\">\n",
       "  <thead>\n",
       "    <tr style=\"text-align: right;\">\n",
       "      <th></th>\n",
       "      <th>0</th>\n",
       "      <th>1</th>\n",
       "      <th>2</th>\n",
       "      <th>3</th>\n",
       "      <th>4</th>\n",
       "      <th>5</th>\n",
       "      <th>6</th>\n",
       "      <th>7</th>\n",
       "      <th>8</th>\n",
       "      <th>9</th>\n",
       "      <th>...</th>\n",
       "      <th>17</th>\n",
       "      <th>18</th>\n",
       "      <th>19</th>\n",
       "      <th>20</th>\n",
       "      <th>21</th>\n",
       "      <th>22</th>\n",
       "      <th>23</th>\n",
       "      <th>24</th>\n",
       "      <th>25</th>\n",
       "      <th>Age</th>\n",
       "    </tr>\n",
       "  </thead>\n",
       "  <tbody>\n",
       "    <tr>\n",
       "      <th>0</th>\n",
       "      <td>0.000190146</td>\n",
       "      <td>0.000486296</td>\n",
       "      <td>0.000165565</td>\n",
       "      <td>False</td>\n",
       "      <td>1</td>\n",
       "      <td>0</td>\n",
       "      <td>0</td>\n",
       "      <td>0</td>\n",
       "      <td>0</td>\n",
       "      <td>0</td>\n",
       "      <td>...</td>\n",
       "      <td>0</td>\n",
       "      <td>0</td>\n",
       "      <td>0</td>\n",
       "      <td>0</td>\n",
       "      <td>0</td>\n",
       "      <td>0</td>\n",
       "      <td>0</td>\n",
       "      <td>1</td>\n",
       "      <td>0</td>\n",
       "      <td>0.083731</td>\n",
       "    </tr>\n",
       "    <tr>\n",
       "      <th>1</th>\n",
       "      <td>0.0186383</td>\n",
       "      <td>4.25509e-05</td>\n",
       "      <td>1.24485e-05</td>\n",
       "      <td>False</td>\n",
       "      <td>1</td>\n",
       "      <td>0</td>\n",
       "      <td>0</td>\n",
       "      <td>0</td>\n",
       "      <td>0</td>\n",
       "      <td>0</td>\n",
       "      <td>...</td>\n",
       "      <td>0</td>\n",
       "      <td>0</td>\n",
       "      <td>0</td>\n",
       "      <td>0</td>\n",
       "      <td>0</td>\n",
       "      <td>0</td>\n",
       "      <td>0</td>\n",
       "      <td>1</td>\n",
       "      <td>0</td>\n",
       "      <td>0.096052</td>\n",
       "    </tr>\n",
       "    <tr>\n",
       "      <th>2</th>\n",
       "      <td>0.0186383</td>\n",
       "      <td>0.000316092</td>\n",
       "      <td>0.000129998</td>\n",
       "      <td>False</td>\n",
       "      <td>1</td>\n",
       "      <td>0</td>\n",
       "      <td>0</td>\n",
       "      <td>0</td>\n",
       "      <td>0</td>\n",
       "      <td>0</td>\n",
       "      <td>...</td>\n",
       "      <td>0</td>\n",
       "      <td>0</td>\n",
       "      <td>0</td>\n",
       "      <td>0</td>\n",
       "      <td>0</td>\n",
       "      <td>0</td>\n",
       "      <td>0</td>\n",
       "      <td>1</td>\n",
       "      <td>0</td>\n",
       "      <td>0.484536</td>\n",
       "    </tr>\n",
       "    <tr>\n",
       "      <th>3</th>\n",
       "      <td>0.0186383</td>\n",
       "      <td>0.00124005</td>\n",
       "      <td>0.000681999</td>\n",
       "      <td>False</td>\n",
       "      <td>1</td>\n",
       "      <td>0</td>\n",
       "      <td>0</td>\n",
       "      <td>0</td>\n",
       "      <td>0</td>\n",
       "      <td>0</td>\n",
       "      <td>...</td>\n",
       "      <td>0</td>\n",
       "      <td>0</td>\n",
       "      <td>0</td>\n",
       "      <td>0</td>\n",
       "      <td>0</td>\n",
       "      <td>0</td>\n",
       "      <td>0</td>\n",
       "      <td>1</td>\n",
       "      <td>0</td>\n",
       "      <td>0.013075</td>\n",
       "    </tr>\n",
       "    <tr>\n",
       "      <th>4</th>\n",
       "      <td>0.000104011</td>\n",
       "      <td>0.00013981</td>\n",
       "      <td>0.000127686</td>\n",
       "      <td>False</td>\n",
       "      <td>1</td>\n",
       "      <td>0</td>\n",
       "      <td>0</td>\n",
       "      <td>0</td>\n",
       "      <td>0</td>\n",
       "      <td>0</td>\n",
       "      <td>...</td>\n",
       "      <td>0</td>\n",
       "      <td>0</td>\n",
       "      <td>0</td>\n",
       "      <td>0</td>\n",
       "      <td>0</td>\n",
       "      <td>0</td>\n",
       "      <td>0</td>\n",
       "      <td>1</td>\n",
       "      <td>0</td>\n",
       "      <td>0.002514</td>\n",
       "    </tr>\n",
       "  </tbody>\n",
       "</table>\n",
       "<p>5 rows × 27 columns</p>\n",
       "</div>"
      ],
      "text/plain": [
       "             0            1            2      3  4  5  6  7  8  9  ... 17 18  \\\n",
       "0  0.000190146  0.000486296  0.000165565  False  1  0  0  0  0  0  ...  0  0   \n",
       "1    0.0186383  4.25509e-05  1.24485e-05  False  1  0  0  0  0  0  ...  0  0   \n",
       "2    0.0186383  0.000316092  0.000129998  False  1  0  0  0  0  0  ...  0  0   \n",
       "3    0.0186383   0.00124005  0.000681999  False  1  0  0  0  0  0  ...  0  0   \n",
       "4  0.000104011   0.00013981  0.000127686  False  1  0  0  0  0  0  ...  0  0   \n",
       "\n",
       "  19 20 21 22 23 24 25       Age  \n",
       "0  0  0  0  0  0  1  0  0.083731  \n",
       "1  0  0  0  0  0  1  0  0.096052  \n",
       "2  0  0  0  0  0  1  0  0.484536  \n",
       "3  0  0  0  0  0  1  0  0.013075  \n",
       "4  0  0  0  0  0  1  0  0.002514  \n",
       "\n",
       "[5 rows x 27 columns]"
      ]
     },
     "execution_count": 5,
     "metadata": {},
     "output_type": "execute_result"
    }
   ],
   "source": [
    "X.head()\n",
    "\n"
   ]
  },
  {
   "cell_type": "code",
   "execution_count": 6,
   "metadata": {},
   "outputs": [
    {
     "name": "stdout",
     "output_type": "stream",
     "text": [
      "<class 'pandas.core.frame.DataFrame'>\n",
      "Int64Index: 890 entries, 304 to 684\n",
      "Data columns (total 27 columns):\n",
      "0      890 non-null object\n",
      "1      890 non-null object\n",
      "2      890 non-null object\n",
      "3      890 non-null object\n",
      "4      890 non-null object\n",
      "5      890 non-null object\n",
      "6      890 non-null object\n",
      "7      890 non-null object\n",
      "8      890 non-null object\n",
      "9      890 non-null object\n",
      "10     890 non-null object\n",
      "11     890 non-null object\n",
      "12     890 non-null object\n",
      "13     890 non-null object\n",
      "14     890 non-null object\n",
      "15     890 non-null object\n",
      "16     890 non-null object\n",
      "17     890 non-null object\n",
      "18     890 non-null object\n",
      "19     890 non-null object\n",
      "20     890 non-null object\n",
      "21     890 non-null object\n",
      "22     890 non-null object\n",
      "23     890 non-null object\n",
      "24     890 non-null object\n",
      "25     890 non-null object\n",
      "Age    890 non-null float64\n",
      "dtypes: float64(1), object(26)\n",
      "memory usage: 194.7+ KB\n"
     ]
    },
    {
     "name": "stderr",
     "output_type": "stream",
     "text": [
      "C:\\Users\\e620173\\AppData\\Local\\Continuum\\anaconda3\\lib\\site-packages\\sklearn\\model_selection\\_split.py:2179: FutureWarning: From version 0.21, test_size will always complement train_size unless both are specified.\n",
      "  FutureWarning)\n"
     ]
    }
   ],
   "source": [
    "X_train, X_test, y_train, y_test = train_test_split(X, y, train_size=.9, random_state=0)\n",
    "\n",
    "X_train.info()\n",
    "\n"
   ]
  },
  {
   "cell_type": "code",
   "execution_count": 7,
   "metadata": {},
   "outputs": [
    {
     "name": "stdout",
     "output_type": "stream",
     "text": [
      "0    0.0931204\n",
      "1     0.118601\n",
      "2     0.175921\n",
      "3     0.108598\n",
      "4       0.0807\n",
      "5     0.104851\n",
      "6     0.121276\n",
      "7     0.084095\n",
      "8    0.0948788\n",
      "9     0.202743\n",
      "dtype: object\n",
      "<class 'numpy.ndarray'>\n",
      "Accuracy: 0.0\n",
      "                            OLS Regression Results                            \n",
      "==============================================================================\n",
      "Dep. Variable:                      y   R-squared:                       0.275\n",
      "Model:                            OLS   Adj. R-squared:                  0.254\n",
      "Method:                 Least Squares   F-statistic:                     13.12\n",
      "Date:                Sat, 15 Jun 2019   Prob (F-statistic):           2.80e-45\n",
      "Time:                        07:43:38   Log-Likelihood:                -1550.3\n",
      "No. Observations:                 890   AIC:                             3153.\n",
      "Df Residuals:                     864   BIC:                             3277.\n",
      "Df Model:                          25                                         \n",
      "Covariance Type:            nonrobust                                         \n",
      "==============================================================================\n",
      "                 coef    std err          t      P>|t|      [0.025      0.975]\n",
      "------------------------------------------------------------------------------\n",
      "0              1.3197      1.738      0.759      0.448      -2.092       4.732\n",
      "1              1.0567      1.307      0.809      0.419      -1.508       3.622\n",
      "2              1.3141      1.825      0.720      0.472      -2.268       4.896\n",
      "3              0.9717      0.142      6.860      0.000       0.694       1.250\n",
      "4             -1.2488      0.212     -5.877      0.000      -1.666      -0.832\n",
      "5              0.3813      0.210      1.815      0.070      -0.031       0.794\n",
      "6              0.2419      0.205      1.182      0.238      -0.160       0.644\n",
      "7             -0.6194      0.209     -2.962      0.003      -1.030      -0.209\n",
      "8              0.8443      0.239      3.527      0.000       0.375       1.314\n",
      "9              0.7024      0.201      3.490      0.001       0.307       1.097\n",
      "10            -0.4667      0.205     -2.279      0.023      -0.869      -0.065\n",
      "11             0.5354      0.210      2.554      0.011       0.124       0.947\n",
      "12             0.3275      0.210      1.561      0.119      -0.084       0.739\n",
      "13             0.3958      0.204      1.939      0.053      -0.005       0.796\n",
      "14            -0.1370      0.206     -0.666      0.506      -0.541       0.267\n",
      "15            -0.0350      0.206     -0.170      0.865      -0.439       0.369\n",
      "16             0.7561      0.205      3.687      0.000       0.354       1.159\n",
      "17             1.3866      0.202      6.864      0.000       0.990       1.783\n",
      "18             0.5602      0.270      2.078      0.038       0.031       1.089\n",
      "19            -0.1037      0.209     -0.497      0.620      -0.514       0.306\n",
      "20            -0.1824      0.200     -0.910      0.363      -0.576       0.211\n",
      "21             0.4833      0.214      2.262      0.024       0.064       0.903\n",
      "22            -0.3520      0.206     -1.712      0.087      -0.756       0.052\n",
      "23            -1.3153      0.217     -6.062      0.000      -1.741      -0.889\n",
      "24             1.3286      0.061     21.746      0.000       1.209       1.449\n",
      "25             0.8258      0.184      4.497      0.000       0.465       1.186\n",
      "Age            0.1464      0.384      0.381      0.703      -0.607       0.900\n",
      "==============================================================================\n",
      "Omnibus:                        9.633   Durbin-Watson:                   1.980\n",
      "Prob(Omnibus):                  0.008   Jarque-Bera (JB):                9.062\n",
      "Skew:                           0.205   Prob(JB):                       0.0108\n",
      "Kurtosis:                       2.725   Cond. No.                     2.25e+15\n",
      "==============================================================================\n",
      "\n",
      "Warnings:\n",
      "[1] Standard Errors assume that the covariance matrix of the errors is correctly specified.\n",
      "[2] The smallest eigenvalue is 1.79e-28. This might indicate that there are\n",
      "strong multicollinearity problems or that the design matrix is singular.\n"
     ]
    },
    {
     "name": "stderr",
     "output_type": "stream",
     "text": [
      "C:\\Users\\e620173\\AppData\\Local\\Continuum\\anaconda3\\lib\\site-packages\\ipykernel_launcher.py:10: DeprecationWarning: elementwise comparison failed; this will raise an error in the future.\n",
      "  # Remove the CWD from sys.path while we load stuff.\n"
     ]
    }
   ],
   "source": [
    "\n",
    "\n",
    "model = sm.OLS(list(y_train), X_train.astype(float)).fit()\n",
    "y_pred = model.predict(X) \n",
    "# print(y_pred.head(10))\n",
    "# print(y_test.head(10))\n",
    "print(y_pred.head(10))\n",
    "print(type(y_test.values))\n",
    "#print(metrics.accuracy_score(y_test.values, y_pred.values))\n",
    "print('Accuracy: ' + str(np.mean(y_pred.values == y_test.values)))\n",
    "print_model = model.summary()\n",
    "print(print_model)"
   ]
  },
  {
   "cell_type": "code",
   "execution_count": 8,
   "metadata": {},
   "outputs": [
    {
     "name": "stdout",
     "output_type": "stream",
     "text": [
      "Accuracy of Lin Reg on test set: 0.07\n",
      "Linear Regression R squared: 0.0676\n",
      "Linear Regression RMSE: 1.5790\n",
      "Linear Regression MAE: 1.2994\n",
      "Accuracy of  train set: 0.0\n",
      "Accuracy of test set: 0.0\n"
     ]
    },
    {
     "data": {
      "text/plain": [
       "<matplotlib.collections.PathCollection at 0x1de599c1748>"
      ]
     },
     "execution_count": 8,
     "metadata": {},
     "output_type": "execute_result"
    },
    {
     "data": {
      "image/png": "[encoded data removed]",
      "text/plain": [
       "<Figure size 432x288 with 1 Axes>"
      ]
     },
     "metadata": {
      "needs_background": "light"
     },
     "output_type": "display_data"
    }
   ],
   "source": [
    "regressor = LinearRegression()\n",
    "regressor.fit(X_train, y_train)\n",
    "\n",
    "y_pred = regressor.predict(X_test)\n",
    "train_predicted = regressor.predict(X_train)\n",
    "\n",
    "\n",
    "print('Accuracy of Lin Reg on test set: {:.2f}'.format(regressor.score(X_test, y_test)))\n",
    "print('Linear Regression R squared: %.4f' % regressor.score(X_test, y_test))\n",
    "lin_mse = mean_squared_error(y_pred, y_test)\n",
    "lin_rmse = np.sqrt(lin_mse)\n",
    "print('Linear Regression RMSE: %.4f' % lin_rmse)\n",
    "\n",
    "lin_mae = mean_absolute_error(y_pred, y_test)\n",
    "print('Linear Regression MAE: %.4f' % lin_mae)\n",
    "print('Accuracy of  train set: ' + str(np.mean(train_predicted == y_train)))\n",
    "print('Accuracy of test set: ' + str(np.mean(y_pred == y_test)))\n",
    "plt.scatter(y_test,y_pred)"
   ]
  },
  {
   "cell_type": "code",
   "execution_count": 9,
   "metadata": {},
   "outputs": [
    {
     "name": "stdout",
     "output_type": "stream",
     "text": [
      "Linear model is not a good fit for the data so move on to Log Reg.\n"
     ]
    }
   ],
   "source": [
    "print('Linear model is not a good fit for the data so move on to Log Reg.')"
   ]
  },
  {
   "cell_type": "code",
   "execution_count": 10,
   "metadata": {},
   "outputs": [],
   "source": [
    "from sklearn.linear_model import LogisticRegression\n",
    "from sklearn.metrics import classification_report\n",
    "from sklearn.metrics import confusion_matrix\n",
    "from sklearn import metrics\n",
    "\n",
    "# set up classification report target variables\n",
    "\n",
    "from sklearn.metrics import classification_report\n",
    "\n",
    "target_names = ['No Rank', 'White Belt', 'Blue Belt', 'Purple Belt', 'Brown Belt', 'Black Belt']\n",
    "\n"
   ]
  },
  {
   "cell_type": "code",
   "execution_count": 11,
   "metadata": {},
   "outputs": [
    {
     "name": "stdout",
     "output_type": "stream",
     "text": [
      "0.4444444444444444\n",
      "Logit R squared: 0.4444\n",
      "Logit RMSE: 1.8477\n",
      "              precision    recall  f1-score   support\n",
      "\n",
      "     No Rank       0.53      0.79      0.64        39\n",
      "  White Belt       0.57      0.36      0.44        22\n",
      "   Blue Belt       0.17      0.30      0.21        10\n",
      " Purple Belt       0.00      0.00      0.00         9\n",
      "  Brown Belt       0.00      0.00      0.00        14\n",
      "  Black Belt       0.33      0.40      0.36         5\n",
      "\n",
      "   micro avg       0.44      0.44      0.44        99\n",
      "   macro avg       0.27      0.31      0.28        99\n",
      "weighted avg       0.37      0.44      0.39        99\n",
      "\n"
     ]
    },
    {
     "name": "stderr",
     "output_type": "stream",
     "text": [
      "C:\\Users\\e620173\\AppData\\Local\\Continuum\\anaconda3\\lib\\site-packages\\sklearn\\metrics\\classification.py:1143: UndefinedMetricWarning: Precision and F-score are ill-defined and being set to 0.0 in labels with no predicted samples.\n",
      "  'precision', 'predicted', average, warn_for)\n",
      "C:\\Users\\e620173\\AppData\\Local\\Continuum\\anaconda3\\lib\\site-packages\\sklearn\\metrics\\classification.py:1143: UndefinedMetricWarning: Precision and F-score are ill-defined and being set to 0.0 in labels with no predicted samples.\n",
      "  'precision', 'predicted', average, warn_for)\n",
      "C:\\Users\\e620173\\AppData\\Local\\Continuum\\anaconda3\\lib\\site-packages\\sklearn\\metrics\\classification.py:1143: UndefinedMetricWarning: Precision and F-score are ill-defined and being set to 0.0 in labels with no predicted samples.\n",
      "  'precision', 'predicted', average, warn_for)\n"
     ]
    }
   ],
   "source": [
    "Logit = LogisticRegression()\n",
    "\n",
    "clf = LogisticRegression(random_state=0, solver='lbfgs', multi_class='multinomial')\n",
    "clf.fit(X_train, y_train)\n",
    "y_pred = clf.predict(X_test)\n",
    "\n",
    "print(metrics.accuracy_score(y_test, y_pred))\n",
    "#print(metrics.classification_report(y_test,y_pred))\n",
    "print('Logit R squared: %.4f' % clf.score(X_test, y_test))\n",
    "logit_mse = mean_squared_error(y_pred, y_test)\n",
    "logit_rmse = np.sqrt(logit_mse)\n",
    "print('Logit RMSE: %.4f' % logit_rmse)\n",
    "print(classification_report(y_test, y_pred, target_names=target_names))"
   ]
  },
  {
   "cell_type": "code",
   "execution_count": 12,
   "metadata": {},
   "outputs": [
    {
     "name": "stdout",
     "output_type": "stream",
     "text": [
      "Logit relative poor performance without tuning. Next try some tuning\n"
     ]
    }
   ],
   "source": [
    "print('Logit relative poor performance without tuning. Next try some tuning')"
   ]
  },
  {
   "cell_type": "code",
   "execution_count": 13,
   "metadata": {},
   "outputs": [
    {
     "name": "stderr",
     "output_type": "stream",
     "text": [
      "C:\\Users\\e620173\\AppData\\Local\\Continuum\\anaconda3\\lib\\site-packages\\sklearn\\linear_model\\logistic.py:758: ConvergenceWarning: lbfgs failed to converge. Increase the number of iterations.\n",
      "  \"of iterations.\", ConvergenceWarning)\n",
      "C:\\Users\\e620173\\AppData\\Local\\Continuum\\anaconda3\\lib\\site-packages\\sklearn\\linear_model\\logistic.py:758: ConvergenceWarning: lbfgs failed to converge. Increase the number of iterations.\n",
      "  \"of iterations.\", ConvergenceWarning)\n",
      "C:\\Users\\e620173\\AppData\\Local\\Continuum\\anaconda3\\lib\\site-packages\\sklearn\\linear_model\\logistic.py:758: ConvergenceWarning: lbfgs failed to converge. Increase the number of iterations.\n",
      "  \"of iterations.\", ConvergenceWarning)\n",
      "C:\\Users\\e620173\\AppData\\Local\\Continuum\\anaconda3\\lib\\site-packages\\sklearn\\linear_model\\logistic.py:758: ConvergenceWarning: lbfgs failed to converge. Increase the number of iterations.\n",
      "  \"of iterations.\", ConvergenceWarning)\n",
      "C:\\Users\\e620173\\AppData\\Local\\Continuum\\anaconda3\\lib\\site-packages\\sklearn\\linear_model\\logistic.py:758: ConvergenceWarning: lbfgs failed to converge. Increase the number of iterations.\n",
      "  \"of iterations.\", ConvergenceWarning)\n",
      "C:\\Users\\e620173\\AppData\\Local\\Continuum\\anaconda3\\lib\\site-packages\\sklearn\\linear_model\\logistic.py:758: ConvergenceWarning: lbfgs failed to converge. Increase the number of iterations.\n",
      "  \"of iterations.\", ConvergenceWarning)\n",
      "C:\\Users\\e620173\\AppData\\Local\\Continuum\\anaconda3\\lib\\site-packages\\sklearn\\linear_model\\logistic.py:758: ConvergenceWarning: lbfgs failed to converge. Increase the number of iterations.\n",
      "  \"of iterations.\", ConvergenceWarning)\n",
      "C:\\Users\\e620173\\AppData\\Local\\Continuum\\anaconda3\\lib\\site-packages\\sklearn\\linear_model\\logistic.py:758: ConvergenceWarning: lbfgs failed to converge. Increase the number of iterations.\n",
      "  \"of iterations.\", ConvergenceWarning)\n",
      "C:\\Users\\e620173\\AppData\\Local\\Continuum\\anaconda3\\lib\\site-packages\\sklearn\\linear_model\\logistic.py:758: ConvergenceWarning: lbfgs failed to converge. Increase the number of iterations.\n",
      "  \"of iterations.\", ConvergenceWarning)\n",
      "C:\\Users\\e620173\\AppData\\Local\\Continuum\\anaconda3\\lib\\site-packages\\sklearn\\linear_model\\logistic.py:758: ConvergenceWarning: lbfgs failed to converge. Increase the number of iterations.\n",
      "  \"of iterations.\", ConvergenceWarning)\n",
      "C:\\Users\\e620173\\AppData\\Local\\Continuum\\anaconda3\\lib\\site-packages\\sklearn\\linear_model\\logistic.py:758: ConvergenceWarning: lbfgs failed to converge. Increase the number of iterations.\n",
      "  \"of iterations.\", ConvergenceWarning)\n",
      "C:\\Users\\e620173\\AppData\\Local\\Continuum\\anaconda3\\lib\\site-packages\\sklearn\\linear_model\\logistic.py:758: ConvergenceWarning: lbfgs failed to converge. Increase the number of iterations.\n",
      "  \"of iterations.\", ConvergenceWarning)\n",
      "C:\\Users\\e620173\\AppData\\Local\\Continuum\\anaconda3\\lib\\site-packages\\sklearn\\linear_model\\logistic.py:758: ConvergenceWarning: lbfgs failed to converge. Increase the number of iterations.\n",
      "  \"of iterations.\", ConvergenceWarning)\n",
      "C:\\Users\\e620173\\AppData\\Local\\Continuum\\anaconda3\\lib\\site-packages\\sklearn\\linear_model\\logistic.py:758: ConvergenceWarning: lbfgs failed to converge. Increase the number of iterations.\n",
      "  \"of iterations.\", ConvergenceWarning)\n",
      "C:\\Users\\e620173\\AppData\\Local\\Continuum\\anaconda3\\lib\\site-packages\\sklearn\\linear_model\\logistic.py:758: ConvergenceWarning: lbfgs failed to converge. Increase the number of iterations.\n",
      "  \"of iterations.\", ConvergenceWarning)\n",
      "C:\\Users\\e620173\\AppData\\Local\\Continuum\\anaconda3\\lib\\site-packages\\sklearn\\linear_model\\logistic.py:758: ConvergenceWarning: lbfgs failed to converge. Increase the number of iterations.\n",
      "  \"of iterations.\", ConvergenceWarning)\n",
      "C:\\Users\\e620173\\AppData\\Local\\Continuum\\anaconda3\\lib\\site-packages\\sklearn\\linear_model\\logistic.py:758: ConvergenceWarning: lbfgs failed to converge. Increase the number of iterations.\n",
      "  \"of iterations.\", ConvergenceWarning)\n",
      "C:\\Users\\e620173\\AppData\\Local\\Continuum\\anaconda3\\lib\\site-packages\\sklearn\\linear_model\\logistic.py:758: ConvergenceWarning: lbfgs failed to converge. Increase the number of iterations.\n",
      "  \"of iterations.\", ConvergenceWarning)\n",
      "C:\\Users\\e620173\\AppData\\Local\\Continuum\\anaconda3\\lib\\site-packages\\sklearn\\linear_model\\logistic.py:758: ConvergenceWarning: lbfgs failed to converge. Increase the number of iterations.\n",
      "  \"of iterations.\", ConvergenceWarning)\n",
      "C:\\Users\\e620173\\AppData\\Local\\Continuum\\anaconda3\\lib\\site-packages\\sklearn\\linear_model\\logistic.py:758: ConvergenceWarning: lbfgs failed to converge. Increase the number of iterations.\n",
      "  \"of iterations.\", ConvergenceWarning)\n",
      "C:\\Users\\e620173\\AppData\\Local\\Continuum\\anaconda3\\lib\\site-packages\\sklearn\\linear_model\\logistic.py:758: ConvergenceWarning: lbfgs failed to converge. Increase the number of iterations.\n",
      "  \"of iterations.\", ConvergenceWarning)\n",
      "C:\\Users\\e620173\\AppData\\Local\\Continuum\\anaconda3\\lib\\site-packages\\sklearn\\linear_model\\logistic.py:758: ConvergenceWarning: lbfgs failed to converge. Increase the number of iterations.\n",
      "  \"of iterations.\", ConvergenceWarning)\n",
      "C:\\Users\\e620173\\AppData\\Local\\Continuum\\anaconda3\\lib\\site-packages\\sklearn\\linear_model\\logistic.py:758: ConvergenceWarning: lbfgs failed to converge. Increase the number of iterations.\n",
      "  \"of iterations.\", ConvergenceWarning)\n",
      "C:\\Users\\e620173\\AppData\\Local\\Continuum\\anaconda3\\lib\\site-packages\\sklearn\\linear_model\\logistic.py:758: ConvergenceWarning: lbfgs failed to converge. Increase the number of iterations.\n",
      "  \"of iterations.\", ConvergenceWarning)\n",
      "C:\\Users\\e620173\\AppData\\Local\\Continuum\\anaconda3\\lib\\site-packages\\sklearn\\linear_model\\logistic.py:758: ConvergenceWarning: lbfgs failed to converge. Increase the number of iterations.\n",
      "  \"of iterations.\", ConvergenceWarning)\n",
      "C:\\Users\\e620173\\AppData\\Local\\Continuum\\anaconda3\\lib\\site-packages\\sklearn\\linear_model\\logistic.py:758: ConvergenceWarning: lbfgs failed to converge. Increase the number of iterations.\n",
      "  \"of iterations.\", ConvergenceWarning)\n",
      "C:\\Users\\e620173\\AppData\\Local\\Continuum\\anaconda3\\lib\\site-packages\\sklearn\\linear_model\\logistic.py:758: ConvergenceWarning: lbfgs failed to converge. Increase the number of iterations.\n",
      "  \"of iterations.\", ConvergenceWarning)\n",
      "C:\\Users\\e620173\\AppData\\Local\\Continuum\\anaconda3\\lib\\site-packages\\sklearn\\linear_model\\logistic.py:758: ConvergenceWarning: lbfgs failed to converge. Increase the number of iterations.\n",
      "  \"of iterations.\", ConvergenceWarning)\n",
      "C:\\Users\\e620173\\AppData\\Local\\Continuum\\anaconda3\\lib\\site-packages\\sklearn\\linear_model\\logistic.py:758: ConvergenceWarning: lbfgs failed to converge. Increase the number of iterations.\n",
      "  \"of iterations.\", ConvergenceWarning)\n",
      "C:\\Users\\e620173\\AppData\\Local\\Continuum\\anaconda3\\lib\\site-packages\\sklearn\\linear_model\\logistic.py:758: ConvergenceWarning: lbfgs failed to converge. Increase the number of iterations.\n",
      "  \"of iterations.\", ConvergenceWarning)\n",
      "C:\\Users\\e620173\\AppData\\Local\\Continuum\\anaconda3\\lib\\site-packages\\sklearn\\linear_model\\logistic.py:758: ConvergenceWarning: lbfgs failed to converge. Increase the number of iterations.\n",
      "  \"of iterations.\", ConvergenceWarning)\n",
      "C:\\Users\\e620173\\AppData\\Local\\Continuum\\anaconda3\\lib\\site-packages\\sklearn\\linear_model\\logistic.py:758: ConvergenceWarning: lbfgs failed to converge. Increase the number of iterations.\n",
      "  \"of iterations.\", ConvergenceWarning)\n",
      "C:\\Users\\e620173\\AppData\\Local\\Continuum\\anaconda3\\lib\\site-packages\\sklearn\\linear_model\\logistic.py:758: ConvergenceWarning: lbfgs failed to converge. Increase the number of iterations.\n",
      "  \"of iterations.\", ConvergenceWarning)\n",
      "C:\\Users\\e620173\\AppData\\Local\\Continuum\\anaconda3\\lib\\site-packages\\sklearn\\linear_model\\logistic.py:758: ConvergenceWarning: lbfgs failed to converge. Increase the number of iterations.\n",
      "  \"of iterations.\", ConvergenceWarning)\n",
      "C:\\Users\\e620173\\AppData\\Local\\Continuum\\anaconda3\\lib\\site-packages\\sklearn\\linear_model\\logistic.py:758: ConvergenceWarning: lbfgs failed to converge. Increase the number of iterations.\n",
      "  \"of iterations.\", ConvergenceWarning)\n",
      "C:\\Users\\e620173\\AppData\\Local\\Continuum\\anaconda3\\lib\\site-packages\\sklearn\\linear_model\\logistic.py:758: ConvergenceWarning: lbfgs failed to converge. Increase the number of iterations.\n",
      "  \"of iterations.\", ConvergenceWarning)\n",
      "C:\\Users\\e620173\\AppData\\Local\\Continuum\\anaconda3\\lib\\site-packages\\sklearn\\linear_model\\logistic.py:758: ConvergenceWarning: lbfgs failed to converge. Increase the number of iterations.\n",
      "  \"of iterations.\", ConvergenceWarning)\n"
     ]
    },
    {
     "name": "stderr",
     "output_type": "stream",
     "text": [
      "C:\\Users\\e620173\\AppData\\Local\\Continuum\\anaconda3\\lib\\site-packages\\sklearn\\linear_model\\logistic.py:758: ConvergenceWarning: lbfgs failed to converge. Increase the number of iterations.\n",
      "  \"of iterations.\", ConvergenceWarning)\n",
      "C:\\Users\\e620173\\AppData\\Local\\Continuum\\anaconda3\\lib\\site-packages\\sklearn\\linear_model\\logistic.py:758: ConvergenceWarning: lbfgs failed to converge. Increase the number of iterations.\n",
      "  \"of iterations.\", ConvergenceWarning)\n",
      "C:\\Users\\e620173\\AppData\\Local\\Continuum\\anaconda3\\lib\\site-packages\\sklearn\\linear_model\\logistic.py:758: ConvergenceWarning: lbfgs failed to converge. Increase the number of iterations.\n",
      "  \"of iterations.\", ConvergenceWarning)\n",
      "C:\\Users\\e620173\\AppData\\Local\\Continuum\\anaconda3\\lib\\site-packages\\sklearn\\linear_model\\logistic.py:758: ConvergenceWarning: lbfgs failed to converge. Increase the number of iterations.\n",
      "  \"of iterations.\", ConvergenceWarning)\n",
      "C:\\Users\\e620173\\AppData\\Local\\Continuum\\anaconda3\\lib\\site-packages\\sklearn\\linear_model\\logistic.py:758: ConvergenceWarning: lbfgs failed to converge. Increase the number of iterations.\n",
      "  \"of iterations.\", ConvergenceWarning)\n",
      "C:\\Users\\e620173\\AppData\\Local\\Continuum\\anaconda3\\lib\\site-packages\\sklearn\\linear_model\\logistic.py:758: ConvergenceWarning: lbfgs failed to converge. Increase the number of iterations.\n",
      "  \"of iterations.\", ConvergenceWarning)\n",
      "C:\\Users\\e620173\\AppData\\Local\\Continuum\\anaconda3\\lib\\site-packages\\sklearn\\linear_model\\logistic.py:758: ConvergenceWarning: lbfgs failed to converge. Increase the number of iterations.\n",
      "  \"of iterations.\", ConvergenceWarning)\n",
      "C:\\Users\\e620173\\AppData\\Local\\Continuum\\anaconda3\\lib\\site-packages\\sklearn\\linear_model\\logistic.py:758: ConvergenceWarning: lbfgs failed to converge. Increase the number of iterations.\n",
      "  \"of iterations.\", ConvergenceWarning)\n"
     ]
    },
    {
     "name": "stdout",
     "output_type": "stream",
     "text": [
      "Tuned Logistic Regression Parameters: {'C': 215.44346900318823}\n",
      "Accuracy is 0.41414141414141414\n",
      "              precision    recall  f1-score   support\n",
      "\n",
      "     No Rank       0.56      0.69      0.62        39\n",
      "  White Belt       0.50      0.41      0.45        22\n",
      "   Blue Belt       0.16      0.30      0.21        10\n",
      " Purple Belt       0.00      0.00      0.00         9\n",
      "  Brown Belt       0.00      0.00      0.00        14\n",
      "  Black Belt       0.25      0.40      0.31         5\n",
      "\n",
      "   micro avg       0.41      0.41      0.41        99\n",
      "   macro avg       0.25      0.30      0.26        99\n",
      "weighted avg       0.36      0.41      0.38        99\n",
      "\n"
     ]
    },
    {
     "name": "stderr",
     "output_type": "stream",
     "text": [
      "C:\\Users\\e620173\\AppData\\Local\\Continuum\\anaconda3\\lib\\site-packages\\sklearn\\linear_model\\logistic.py:758: ConvergenceWarning: lbfgs failed to converge. Increase the number of iterations.\n",
      "  \"of iterations.\", ConvergenceWarning)\n"
     ]
    }
   ],
   "source": [
    "c_space = np.logspace(1, 5, 10)\n",
    "param_grid = {'C': c_space}\n",
    "\n",
    "logreg = LogisticRegression(random_state=0, solver='lbfgs', multi_class='multinomial', max_iter=200)\n",
    "logreg_cv = GridSearchCV(logreg, param_grid, cv=5)\n",
    "logreg_cv.fit(X_train,y_train)\n",
    "y_pred = logreg_cv.predict(X_test)\n",
    "print(\"Tuned Logistic Regression Parameters: {}\".format(logreg_cv.best_params_)) \n",
    "print(\"Accuracy is {}\".format(metrics.accuracy_score(y_test, y_pred)))\n",
    "print(classification_report(y_test, y_pred, target_names=target_names))"
   ]
  },
  {
   "cell_type": "code",
   "execution_count": 14,
   "metadata": {},
   "outputs": [
    {
     "name": "stdout",
     "output_type": "stream",
     "text": [
      "Even with tuning Log Reg is not good.\n"
     ]
    }
   ],
   "source": [
    "print('Even with tuning Log Reg is not good.')"
   ]
  },
  {
   "cell_type": "code",
   "execution_count": 15,
   "metadata": {},
   "outputs": [
    {
     "name": "stdout",
     "output_type": "stream",
     "text": [
      "nn:  1\n",
      "              precision    recall  f1-score   support\n",
      "\n",
      "     No Rank       0.64      0.59      0.61        39\n",
      "  White Belt       0.48      0.45      0.47        22\n",
      "   Blue Belt       0.36      0.50      0.42        10\n",
      " Purple Belt       0.38      0.56      0.45         9\n",
      "  Brown Belt       0.57      0.29      0.38        14\n",
      "  Black Belt       0.38      0.60      0.46         5\n",
      "\n",
      "   micro avg       0.51      0.51      0.51        99\n",
      "   macro avg       0.47      0.50      0.47        99\n",
      "weighted avg       0.53      0.51      0.51        99\n",
      "\n",
      "Score:  0.5050505050505051\n",
      "\n",
      "nn:  2\n",
      "              precision    recall  f1-score   support\n",
      "\n",
      "     No Rank       0.59      0.82      0.69        39\n",
      "  White Belt       0.44      0.32      0.37        22\n",
      "   Blue Belt       0.20      0.30      0.24        10\n",
      " Purple Belt       0.33      0.33      0.33         9\n",
      "  Brown Belt       0.50      0.07      0.12        14\n",
      "  Black Belt       0.67      0.40      0.50         5\n",
      "\n",
      "   micro avg       0.48      0.48      0.48        99\n",
      "   macro avg       0.46      0.37      0.38        99\n",
      "weighted avg       0.49      0.48      0.45        99\n",
      "\n",
      "Score:  0.48484848484848486\n",
      "\n",
      "nn:  3\n",
      "              precision    recall  f1-score   support\n",
      "\n",
      "     No Rank       0.61      0.79      0.69        39\n",
      "  White Belt       0.56      0.45      0.50        22\n",
      "   Blue Belt       0.27      0.30      0.29        10\n",
      " Purple Belt       0.30      0.33      0.32         9\n",
      "  Brown Belt       0.60      0.21      0.32        14\n",
      "  Black Belt       0.50      0.40      0.44         5\n",
      "\n",
      "   micro avg       0.53      0.53      0.53        99\n",
      "   macro avg       0.47      0.42      0.43        99\n",
      "weighted avg       0.53      0.53      0.51        99\n",
      "\n",
      "Score:  0.5252525252525253\n",
      "\n",
      "nn:  4\n",
      "              precision    recall  f1-score   support\n",
      "\n",
      "     No Rank       0.58      0.85      0.69        39\n",
      "  White Belt       0.54      0.32      0.40        22\n",
      "   Blue Belt       0.15      0.20      0.17        10\n",
      " Purple Belt       0.38      0.33      0.35         9\n",
      "  Brown Belt       0.60      0.21      0.32        14\n",
      "  Black Belt       0.67      0.40      0.50         5\n",
      "\n",
      "   micro avg       0.51      0.51      0.51        99\n",
      "   macro avg       0.49      0.39      0.41        99\n",
      "weighted avg       0.52      0.51      0.48        99\n",
      "\n",
      "Score:  0.5050505050505051\n",
      "\n",
      "nn:  5\n",
      "              precision    recall  f1-score   support\n",
      "\n",
      "     No Rank       0.59      0.77      0.67        39\n",
      "  White Belt       0.50      0.36      0.42        22\n",
      "   Blue Belt       0.14      0.20      0.17        10\n",
      " Purple Belt       0.50      0.44      0.47         9\n",
      "  Brown Belt       0.71      0.36      0.48        14\n",
      "  Black Belt       0.67      0.40      0.50         5\n",
      "\n",
      "   micro avg       0.52      0.52      0.52        99\n",
      "   macro avg       0.52      0.42      0.45        99\n",
      "weighted avg       0.54      0.52      0.51        99\n",
      "\n",
      "Score:  0.5151515151515151\n",
      "\n",
      "nn:  6\n",
      "              precision    recall  f1-score   support\n",
      "\n",
      "     No Rank       0.63      0.79      0.70        39\n",
      "  White Belt       0.59      0.45      0.51        22\n",
      "   Blue Belt       0.11      0.20      0.14        10\n",
      " Purple Belt       0.14      0.11      0.12         9\n",
      "  Brown Belt       0.75      0.21      0.33        14\n",
      "  Black Belt       0.50      0.40      0.44         5\n",
      "\n",
      "   micro avg       0.49      0.49      0.49        99\n",
      "   macro avg       0.45      0.36      0.38        99\n",
      "weighted avg       0.54      0.49      0.49        99\n",
      "\n",
      "Score:  0.494949494949495\n",
      "\n",
      "nn:  7\n",
      "              precision    recall  f1-score   support\n",
      "\n",
      "     No Rank       0.63      0.79      0.70        39\n",
      "  White Belt       0.59      0.45      0.51        22\n",
      "   Blue Belt       0.19      0.30      0.23        10\n",
      " Purple Belt       0.11      0.11      0.11         9\n",
      "  Brown Belt       0.50      0.21      0.30        14\n",
      "  Black Belt       1.00      0.40      0.57         5\n",
      "\n",
      "   micro avg       0.51      0.51      0.51        99\n",
      "   macro avg       0.50      0.38      0.41        99\n",
      "weighted avg       0.53      0.51      0.50        99\n",
      "\n",
      "Score:  0.5050505050505051\n",
      "\n",
      "nn:  8\n",
      "              precision    recall  f1-score   support\n",
      "\n",
      "     No Rank       0.64      0.77      0.70        39\n",
      "  White Belt       0.52      0.50      0.51        22\n",
      "   Blue Belt       0.11      0.20      0.14        10\n",
      " Purple Belt       0.00      0.00      0.00         9\n",
      "  Brown Belt       0.25      0.07      0.11        14\n",
      "  Black Belt       0.67      0.40      0.50         5\n",
      "\n",
      "   micro avg       0.46      0.46      0.46        99\n",
      "   macro avg       0.36      0.32      0.33        99\n",
      "weighted avg       0.45      0.46      0.44        99\n",
      "\n",
      "Score:  0.46464646464646464\n",
      "\n",
      "nn:  9\n",
      "              precision    recall  f1-score   support\n",
      "\n",
      "     No Rank       0.59      0.74      0.66        39\n",
      "  White Belt       0.50      0.27      0.35        22\n",
      "   Blue Belt       0.12      0.30      0.17        10\n",
      " Purple Belt       0.00      0.00      0.00         9\n",
      "  Brown Belt       0.00      0.00      0.00        14\n",
      "  Black Belt       0.67      0.40      0.50         5\n",
      "\n",
      "   micro avg       0.40      0.40      0.40        99\n",
      "   macro avg       0.31      0.29      0.28        99\n",
      "weighted avg       0.39      0.40      0.38        99\n",
      "\n",
      "Score:  0.40404040404040403\n",
      "\n",
      "nn:  10\n",
      "              precision    recall  f1-score   support\n",
      "\n",
      "     No Rank       0.60      0.82      0.70        39\n",
      "  White Belt       0.38      0.23      0.29        22\n",
      "   Blue Belt       0.00      0.00      0.00        10\n",
      " Purple Belt       0.00      0.00      0.00         9\n",
      "  Brown Belt       0.00      0.00      0.00        14\n",
      "  Black Belt       0.67      0.40      0.50         5\n",
      "\n",
      "   micro avg       0.39      0.39      0.39        99\n",
      "   macro avg       0.28      0.24      0.25        99\n",
      "weighted avg       0.36      0.39      0.36        99\n",
      "\n",
      "Score:  0.3939393939393939\n",
      "\n",
      "nn:  11\n",
      "              precision    recall  f1-score   support\n",
      "\n",
      "     No Rank       0.60      0.77      0.67        39\n",
      "  White Belt       0.56      0.45      0.50        22\n",
      "   Blue Belt       0.12      0.20      0.15        10\n",
      " Purple Belt       0.00      0.00      0.00         9\n",
      "  Brown Belt       0.00      0.00      0.00        14\n",
      "  Black Belt       0.67      0.40      0.50         5\n",
      "\n",
      "   micro avg       0.44      0.44      0.44        99\n",
      "   macro avg       0.32      0.30      0.30        99\n",
      "weighted avg       0.41      0.44      0.42        99\n",
      "\n",
      "Score:  0.4444444444444444\n",
      "\n",
      "nn:  12\n",
      "              precision    recall  f1-score   support\n",
      "\n",
      "     No Rank       0.61      0.85      0.71        39\n",
      "  White Belt       0.56      0.41      0.47        22\n",
      "   Blue Belt       0.17      0.30      0.21        10\n",
      " Purple Belt       0.00      0.00      0.00         9\n",
      "  Brown Belt       0.00      0.00      0.00        14\n",
      "  Black Belt       0.67      0.40      0.50         5\n",
      "\n",
      "   micro avg       0.47      0.47      0.47        99\n",
      "   macro avg       0.33      0.33      0.32        99\n",
      "weighted avg       0.42      0.47      0.43        99\n",
      "\n",
      "Score:  0.47474747474747475\n",
      "\n",
      "nn:  13\n",
      "              precision    recall  f1-score   support\n",
      "\n",
      "     No Rank       0.60      0.82      0.70        39\n",
      "  White Belt       0.50      0.45      0.48        22\n",
      "   Blue Belt       0.12      0.20      0.15        10\n",
      " Purple Belt       0.25      0.11      0.15         9\n",
      "  Brown Belt       0.00      0.00      0.00        14\n",
      "  Black Belt       0.67      0.40      0.50         5\n",
      "\n",
      "   micro avg       0.47      0.47      0.47        99\n",
      "   macro avg       0.36      0.33      0.33        99\n",
      "weighted avg       0.42      0.47      0.43        99\n",
      "\n",
      "Score:  0.47474747474747475\n",
      "\n",
      "nn:  14\n",
      "              precision    recall  f1-score   support\n",
      "\n",
      "     No Rank       0.61      0.87      0.72        39\n",
      "  White Belt       0.53      0.45      0.49        22\n",
      "   Blue Belt       0.13      0.20      0.16        10\n",
      " Purple Belt       0.33      0.11      0.17         9\n",
      "  Brown Belt       0.25      0.07      0.11        14\n",
      "  Black Belt       0.50      0.20      0.29         5\n",
      "\n",
      "   micro avg       0.49      0.49      0.49        99\n",
      "   macro avg       0.39      0.32      0.32        99\n",
      "weighted avg       0.46      0.49      0.45        99\n",
      "\n",
      "Score:  0.494949494949495\n",
      "\n",
      "nn:  15\n",
      "              precision    recall  f1-score   support\n",
      "\n",
      "     No Rank       0.62      0.85      0.72        39\n",
      "  White Belt       0.48      0.50      0.49        22\n",
      "   Blue Belt       0.07      0.10      0.08        10\n",
      " Purple Belt       0.00      0.00      0.00         9\n",
      "  Brown Belt       0.25      0.07      0.11        14\n",
      "  Black Belt       0.50      0.20      0.29         5\n",
      "\n",
      "   micro avg       0.47      0.47      0.47        99\n",
      "   macro avg       0.32      0.29      0.28        99\n",
      "weighted avg       0.42      0.47      0.43        99\n"
     ]
    },
    {
     "name": "stdout",
     "output_type": "stream",
     "text": [
      "\n",
      "Score:  0.47474747474747475\n",
      "\n",
      "nn:  16\n",
      "              precision    recall  f1-score   support\n",
      "\n",
      "     No Rank       0.59      0.85      0.69        39\n",
      "  White Belt       0.41      0.41      0.41        22\n",
      "   Blue Belt       0.07      0.10      0.08        10\n",
      " Purple Belt       0.00      0.00      0.00         9\n",
      "  Brown Belt       0.00      0.00      0.00        14\n",
      "  Black Belt       0.50      0.20      0.29         5\n",
      "\n",
      "   micro avg       0.44      0.44      0.44        99\n",
      "   macro avg       0.26      0.26      0.25        99\n",
      "weighted avg       0.36      0.44      0.39        99\n",
      "\n",
      "Score:  0.4444444444444444\n",
      "\n",
      "nn:  17\n",
      "              precision    recall  f1-score   support\n",
      "\n",
      "     No Rank       0.56      0.87      0.68        39\n",
      "  White Belt       0.50      0.36      0.42        22\n",
      "   Blue Belt       0.12      0.20      0.15        10\n",
      " Purple Belt       0.00      0.00      0.00         9\n",
      "  Brown Belt       0.00      0.00      0.00        14\n",
      "  Black Belt       1.00      0.20      0.33         5\n",
      "\n",
      "   micro avg       0.45      0.45      0.45        99\n",
      "   macro avg       0.36      0.27      0.26        99\n",
      "weighted avg       0.39      0.45      0.39        99\n",
      "\n",
      "Score:  0.45454545454545453\n",
      "\n",
      "nn:  18\n",
      "              precision    recall  f1-score   support\n",
      "\n",
      "     No Rank       0.55      0.85      0.67        39\n",
      "  White Belt       0.44      0.36      0.40        22\n",
      "   Blue Belt       0.12      0.20      0.15        10\n",
      " Purple Belt       0.00      0.00      0.00         9\n",
      "  Brown Belt       0.00      0.00      0.00        14\n",
      "  Black Belt       1.00      0.20      0.33         5\n",
      "\n",
      "   micro avg       0.44      0.44      0.44        99\n",
      "   macro avg       0.35      0.27      0.26        99\n",
      "weighted avg       0.38      0.44      0.38        99\n",
      "\n",
      "Score:  0.4444444444444444\n",
      "\n",
      "nn:  19\n",
      "              precision    recall  f1-score   support\n",
      "\n",
      "     No Rank       0.58      0.90      0.71        39\n",
      "  White Belt       0.45      0.41      0.43        22\n",
      "   Blue Belt       0.21      0.30      0.25        10\n",
      " Purple Belt       0.00      0.00      0.00         9\n",
      "  Brown Belt       0.00      0.00      0.00        14\n",
      "  Black Belt       1.00      0.20      0.33         5\n",
      "\n",
      "   micro avg       0.48      0.48      0.48        99\n",
      "   macro avg       0.37      0.30      0.29        99\n",
      "weighted avg       0.40      0.48      0.42        99\n",
      "\n",
      "Score:  0.48484848484848486\n",
      "\n"
     ]
    }
   ],
   "source": [
    "from sklearn.neighbors import KNeighborsClassifier \n",
    "from sklearn.pipeline import Pipeline\n",
    "\n",
    "nns = np.arange(1,20,1)\n",
    "\n",
    "def train_and_predict(nn):\n",
    "    knn = Pipeline([\n",
    "                        ('knn', KNeighborsClassifier(n_neighbors=nn) )\n",
    "                        ])\n",
    "    knn.fit(X_train, y_train)\n",
    "    y_pred = knn.predict(X_test)\n",
    "    print(classification_report(y_test, y_pred, target_names=target_names))\n",
    "    score = metrics.accuracy_score(y_test, y_pred)\n",
    "    return score\n",
    "\n",
    "\n",
    "\n",
    "for nn in nns:\n",
    "    print('nn: ', nn)\n",
    "    print('Score: ', train_and_predict(nn))\n",
    "    print()"
   ]
  },
  {
   "cell_type": "code",
   "execution_count": 16,
   "metadata": {},
   "outputs": [
    {
     "name": "stdout",
     "output_type": "stream",
     "text": [
      "0.45454545454545453\n",
      "              precision    recall  f1-score   support\n",
      "\n",
      "     No Rank       0.52      0.87      0.65        39\n",
      "  White Belt       0.64      0.32      0.42        22\n",
      "   Blue Belt       0.11      0.20      0.14        10\n",
      " Purple Belt       0.00      0.00      0.00         9\n",
      "  Brown Belt       0.00      0.00      0.00        14\n",
      "  Black Belt       1.00      0.40      0.57         5\n",
      "\n",
      "   micro avg       0.45      0.45      0.45        99\n",
      "   macro avg       0.38      0.30      0.30        99\n",
      "weighted avg       0.41      0.45      0.39        99\n",
      "\n",
      "SVM R squared: 0.4545\n",
      "SVM RMSE: 1.8477\n",
      "0.3946443084374119\n"
     ]
    },
    {
     "name": "stderr",
     "output_type": "stream",
     "text": [
      "C:\\Users\\e620173\\AppData\\Local\\Continuum\\anaconda3\\lib\\site-packages\\sklearn\\metrics\\classification.py:1143: UndefinedMetricWarning: Precision and F-score are ill-defined and being set to 0.0 in labels with no predicted samples.\n",
      "  'precision', 'predicted', average, warn_for)\n",
      "C:\\Users\\e620173\\AppData\\Local\\Continuum\\anaconda3\\lib\\site-packages\\sklearn\\metrics\\classification.py:1143: UndefinedMetricWarning: Precision and F-score are ill-defined and being set to 0.0 in labels with no predicted samples.\n",
      "  'precision', 'predicted', average, warn_for)\n",
      "C:\\Users\\e620173\\AppData\\Local\\Continuum\\anaconda3\\lib\\site-packages\\sklearn\\metrics\\classification.py:1143: UndefinedMetricWarning: Precision and F-score are ill-defined and being set to 0.0 in labels with no predicted samples.\n",
      "  'precision', 'predicted', average, warn_for)\n",
      "C:\\Users\\e620173\\AppData\\Local\\Continuum\\anaconda3\\lib\\site-packages\\sklearn\\metrics\\classification.py:1143: UndefinedMetricWarning: F-score is ill-defined and being set to 0.0 in labels with no predicted samples.\n",
      "  'precision', 'predicted', average, warn_for)\n"
     ]
    }
   ],
   "source": [
    "# Try SVM\n",
    "\n",
    "from sklearn import svm\n",
    "\n",
    "from sklearn.metrics import f1_score\n",
    "\n",
    "clf = svm.SVC(gamma='scale', random_state=0)\n",
    "clf.fit(X_train, y_train) \n",
    "\n",
    "y_pred = clf.predict(X_test)\n",
    "\n",
    "print(metrics.accuracy_score(y_test, y_pred))\n",
    "print(classification_report(y_test, y_pred, target_names=target_names))\n",
    "print('SVM R squared: %.4f' % clf.score(X_test, y_test))\n",
    "SVM_mse = mean_squared_error(y_pred, y_test)\n",
    "SVM_rmse = np.sqrt(SVM_mse)\n",
    "print('SVM RMSE: %.4f' % logit_rmse)\n",
    "\n",
    "print(f1_score(y_true=y_test, y_pred=y_pred, average='weighted'))"
   ]
  },
  {
   "cell_type": "code",
   "execution_count": 17,
   "metadata": {},
   "outputs": [
    {
     "name": "stdout",
     "output_type": "stream",
     "text": [
      "              precision    recall  f1-score   support\n",
      "\n",
      "     No Rank       0.57      0.59      0.58        39\n",
      "  White Belt       0.74      0.64      0.68        22\n",
      "   Blue Belt       0.67      0.60      0.63        10\n",
      " Purple Belt       0.54      0.78      0.64         9\n",
      "  Brown Belt       0.67      0.43      0.52        14\n",
      "  Black Belt       0.22      0.40      0.29         5\n",
      "\n",
      "   micro avg       0.59      0.59      0.59        99\n",
      "   macro avg       0.57      0.57      0.56        99\n",
      "weighted avg       0.61      0.59      0.59        99\n",
      "\n",
      "0.5858585858585859\n",
      "Tuned Decision Tree Parameters: {'criterion': 'gini', 'max_depth': None, 'max_features': 7, 'min_samples_leaf': 1}\n",
      "Best score is 0.5573033707865168\n"
     ]
    },
    {
     "name": "stderr",
     "output_type": "stream",
     "text": [
      "C:\\Users\\e620173\\AppData\\Local\\Continuum\\anaconda3\\lib\\site-packages\\sklearn\\model_selection\\_search.py:841: DeprecationWarning: The default of the `iid` parameter will change from True to False in version 0.22 and will be removed in 0.24. This will change numeric results when test-set sizes are unequal.\n",
      "  DeprecationWarning)\n"
     ]
    }
   ],
   "source": [
    "#Try Decision Tree Classifier\n",
    "\n",
    "from scipy.stats import randint\n",
    "from sklearn.tree import DecisionTreeClassifier\n",
    "\n",
    "param_dist = {\"max_depth\": [3, None],\n",
    "              \"max_features\": randint(1, 9),\n",
    "              \"min_samples_leaf\": randint(1, 9),\n",
    "              \"criterion\": [\"gini\", \"entropy\"]}\n",
    "\n",
    "tree = DecisionTreeClassifier()\n",
    "\n",
    "# Instantiate the RandomizedSearchCV object: tree_cv\n",
    "tree_cv = RandomizedSearchCV(tree, param_dist, cv=5, random_state=0)\n",
    "\n",
    "# Fit it to the data\n",
    "tree_cv.fit(X_train,y_train)\n",
    "\n",
    "y_pred = tree_cv.predict(X_test)\n",
    "print(classification_report(y_test, y_pred, target_names=target_names))\n",
    "# Print the tuned parameters and score\n",
    "print(metrics.accuracy_score(y_test, y_pred))\n",
    "print(\"Tuned Decision Tree Parameters: {}\".format(tree_cv.best_params_))\n",
    "print(\"Best score is {}\".format(tree_cv.best_score_))\n"
   ]
  },
  {
   "cell_type": "code",
   "execution_count": 18,
   "metadata": {},
   "outputs": [
    {
     "name": "stderr",
     "output_type": "stream",
     "text": [
      "C:\\Users\\e620173\\AppData\\Local\\Continuum\\anaconda3\\lib\\site-packages\\sklearn\\ensemble\\forest.py:246: FutureWarning: The default value of n_estimators will change from 10 in version 0.20 to 100 in 0.22.\n",
      "  \"10 in version 0.20 to 100 in 0.22.\", FutureWarning)\n"
     ]
    },
    {
     "data": {
      "text/plain": [
       "RandomForestClassifier(bootstrap=True, class_weight=None, criterion='gini',\n",
       "            max_depth=None, max_features='auto', max_leaf_nodes=None,\n",
       "            min_impurity_decrease=0.0, min_impurity_split=None,\n",
       "            min_samples_leaf=1, min_samples_split=2,\n",
       "            min_weight_fraction_leaf=0.0, n_estimators=10, n_jobs=None,\n",
       "            oob_score=False, random_state=42, verbose=0, warm_start=False)"
      ]
     },
     "execution_count": 18,
     "metadata": {},
     "output_type": "execute_result"
    }
   ],
   "source": [
    "# Try random forest with default hyperparameters\n",
    "from sklearn.ensemble import RandomForestClassifier\n",
    "forest_class = RandomForestClassifier(random_state=42)\n",
    "forest_class.fit(X_train, y_train)"
   ]
  },
  {
   "cell_type": "code",
   "execution_count": 19,
   "metadata": {},
   "outputs": [
    {
     "name": "stdout",
     "output_type": "stream",
     "text": [
      "Random Forest R squared: 0.6869\n",
      "              precision    recall  f1-score   support\n",
      "\n",
      "     No Rank       0.74      0.82      0.78        39\n",
      "  White Belt       0.84      0.73      0.78        22\n",
      "   Blue Belt       0.35      0.60      0.44        10\n",
      " Purple Belt       0.71      0.56      0.63         9\n",
      "  Brown Belt       0.75      0.43      0.55        14\n",
      "  Black Belt       0.60      0.60      0.60         5\n",
      "\n",
      "   micro avg       0.69      0.69      0.69        99\n",
      "   macro avg       0.67      0.62      0.63        99\n",
      "weighted avg       0.72      0.69      0.69        99\n",
      "\n",
      "Random Forest RMSE: 1.3143\n",
      "0.6868686868686869\n"
     ]
    }
   ],
   "source": [
    "print('Random Forest R squared: %.4f' % forest_class.score(X_test, y_test))\n",
    "y_pred = forest_class.predict(X_test)\n",
    "forest_mse = mean_squared_error(y_pred, y_test)\n",
    "forest_rmse = np.sqrt(forest_mse)\n",
    "print(classification_report(y_test, y_pred, target_names=target_names))\n",
    "print('Random Forest RMSE: %.4f' % forest_rmse)\n",
    "print(metrics.accuracy_score(y_test, y_pred))"
   ]
  },
  {
   "cell_type": "code",
   "execution_count": 20,
   "metadata": {},
   "outputs": [
    {
     "name": "stdout",
     "output_type": "stream",
     "text": [
      "{'bootstrap': True, 'class_weight': None, 'criterion': 'gini', 'max_depth': None, 'max_features': 'auto', 'max_leaf_nodes': None, 'min_impurity_decrease': 0.0, 'min_impurity_split': None, 'min_samples_leaf': 1, 'min_samples_split': 2, 'min_weight_fraction_leaf': 0.0, 'n_estimators': 10, 'n_jobs': None, 'oob_score': False, 'random_state': 42, 'verbose': 0, 'warm_start': False}\n",
      "{'n_estimators': [200, 400, 600, 800, 1000, 1200, 1400, 1600, 1800, 2000], 'max_features': ['auto', 'sqrt'], 'max_depth': [10, 20, 30, 40, 50, 60, 70, 80, 90, 100, 110, None], 'min_samples_split': [2, 5, 10], 'min_samples_leaf': [1, 2, 4], 'bootstrap': [True, False]}\n"
     ]
    }
   ],
   "source": [
    "# Evaluate and select optimal hyperparameters\n",
    "print(forest_class.get_params())\n",
    "\n",
    "#Create a random grid for possible parameters to attempt and then use random search\n",
    "\n",
    "# Number of trees in random forest\n",
    "n_estimators = [int(x) for x in np.linspace(start = 200, stop = 2000, num = 10)]\n",
    "# Number of features to consider at every split\n",
    "max_features = ['auto', 'sqrt']\n",
    "# Maximum number of levels in tree\n",
    "max_depth = [int(x) for x in np.linspace(10, 110, num = 11)]\n",
    "max_depth.append(None)\n",
    "# Minimum number of samples required to split a node\n",
    "min_samples_split = [2, 5, 10]\n",
    "# Minimum number of samples required at each leaf node\n",
    "min_samples_leaf = [1, 2, 4]\n",
    "# Method of selecting samples for training each tree\n",
    "bootstrap = [True, False]\n",
    "# Create the random grid\n",
    "random_grid = {'n_estimators': n_estimators,\n",
    "               'max_features': max_features,\n",
    "               'max_depth': max_depth,\n",
    "               'min_samples_split': min_samples_split,\n",
    "               'min_samples_leaf': min_samples_leaf,\n",
    "               'bootstrap': bootstrap}\n",
    "print(random_grid)"
   ]
  },
  {
   "cell_type": "code",
   "execution_count": 21,
   "metadata": {},
   "outputs": [
    {
     "name": "stderr",
     "output_type": "stream",
     "text": [
      "[Parallel(n_jobs=-1)]: Using backend LokyBackend with 4 concurrent workers.\n"
     ]
    },
    {
     "name": "stdout",
     "output_type": "stream",
     "text": [
      "Fitting 3 folds for each of 100 candidates, totalling 300 fits\n"
     ]
    },
    {
     "name": "stderr",
     "output_type": "stream",
     "text": [
      "[Parallel(n_jobs=-1)]: Done  33 tasks      | elapsed:   45.1s\n",
      "[Parallel(n_jobs=-1)]: Done 154 tasks      | elapsed:  2.5min\n",
      "[Parallel(n_jobs=-1)]: Done 300 out of 300 | elapsed:  4.6min finished\n",
      "C:\\Users\\e620173\\AppData\\Local\\Continuum\\anaconda3\\lib\\site-packages\\sklearn\\model_selection\\_search.py:841: DeprecationWarning: The default of the `iid` parameter will change from True to False in version 0.22 and will be removed in 0.24. This will change numeric results when test-set sizes are unequal.\n",
      "  DeprecationWarning)\n"
     ]
    },
    {
     "name": "stdout",
     "output_type": "stream",
     "text": [
      "              precision    recall  f1-score   support\n",
      "\n",
      "     No Rank       0.74      0.79      0.77        39\n",
      "  White Belt       0.84      0.73      0.78        22\n",
      "   Blue Belt       0.50      0.70      0.58        10\n",
      " Purple Belt       0.60      0.67      0.63         9\n",
      "  Brown Belt       0.78      0.50      0.61        14\n",
      "  Black Belt       0.40      0.40      0.40         5\n",
      "\n",
      "   micro avg       0.70      0.70      0.70        99\n",
      "   macro avg       0.64      0.63      0.63        99\n",
      "weighted avg       0.71      0.70      0.70        99\n",
      "\n",
      "0.696969696969697\n"
     ]
    }
   ],
   "source": [
    "# Use the random grid to search for best hyperparameters\n",
    "# First create the base model to tune\n",
    "rf = RandomForestClassifier()\n",
    "# Random search of parameters, using 3 fold cross validation, \n",
    "# search across 100 different combinations, and use all available cores\n",
    "rf_random = RandomizedSearchCV(estimator = rf, param_distributions = random_grid, scoring = 'neg_mean_squared_error', n_iter = 100, cv = 3, verbose=2, random_state=42, n_jobs = -1)\n",
    "# Fit the random search model\n",
    "rf_random.fit(X_train, y_train)\n",
    "y_pred = rf_random.predict(X_test)\n",
    "print(classification_report(y_test, y_pred, target_names=target_names))\n",
    "# Print the tuned parameters and score\n",
    "print(metrics.accuracy_score(y_test, y_pred))"
   ]
  },
  {
   "cell_type": "code",
   "execution_count": 22,
   "metadata": {},
   "outputs": [
    {
     "name": "stdout",
     "output_type": "stream",
     "text": [
      "{'n_estimators': 400, 'min_samples_split': 2, 'min_samples_leaf': 1, 'max_features': 'sqrt', 'max_depth': None, 'bootstrap': False}\n"
     ]
    }
   ],
   "source": [
    "#Print and evaluate best parameters from the search\n",
    "print(rf_random.best_params_)\n",
    "\n",
    "best_random = rf_random.best_estimator_"
   ]
  },
  {
   "cell_type": "code",
   "execution_count": 23,
   "metadata": {},
   "outputs": [],
   "source": [
    "#Evaluate performance of the base model w/ searched hyperparameters\n",
    "\n",
    "random_model = RandomForestClassifier(n_estimators = 1155, min_samples_split=5, min_samples_leaf=2, \n",
    "                                   max_features = 'sqrt', max_depth = 10, bootstrap = False, random_state = 42)\n",
    "\n",
    "\n"
   ]
  },
  {
   "cell_type": "code",
   "execution_count": 24,
   "metadata": {},
   "outputs": [
    {
     "data": {
      "text/plain": [
       "RandomForestClassifier(bootstrap=False, class_weight=None, criterion='gini',\n",
       "            max_depth=10, max_features='sqrt', max_leaf_nodes=None,\n",
       "            min_impurity_decrease=0.0, min_impurity_split=None,\n",
       "            min_samples_leaf=2, min_samples_split=5,\n",
       "            min_weight_fraction_leaf=0.0, n_estimators=1155, n_jobs=None,\n",
       "            oob_score=False, random_state=42, verbose=0, warm_start=False)"
      ]
     },
     "execution_count": 24,
     "metadata": {},
     "output_type": "execute_result"
    }
   ],
   "source": [
    "random_model.fit(X_train, y_train)"
   ]
  },
  {
   "cell_type": "code",
   "execution_count": 25,
   "metadata": {},
   "outputs": [
    {
     "name": "stdout",
     "output_type": "stream",
     "text": [
      "              precision    recall  f1-score   support\n",
      "\n",
      "     No Rank       0.74      0.79      0.77        39\n",
      "  White Belt       0.84      0.73      0.78        22\n",
      "   Blue Belt       0.50      0.70      0.58        10\n",
      " Purple Belt       0.60      0.67      0.63         9\n",
      "  Brown Belt       0.78      0.50      0.61        14\n",
      "  Black Belt       0.40      0.40      0.40         5\n",
      "\n",
      "   micro avg       0.70      0.70      0.70        99\n",
      "   macro avg       0.64      0.63      0.63        99\n",
      "weighted avg       0.71      0.70      0.70        99\n",
      "\n",
      "0.696969696969697\n",
      "Random Forest R squared: 0.6667\n",
      "Random Forest RMSE: 1.3181\n",
      "0.6666666666666666\n"
     ]
    }
   ],
   "source": [
    "#Rerun of random forest with random searched hyperparameters- see results are the same as previous\n",
    "y_pred = rf_random.predict(X_test)\n",
    "print(classification_report(y_test, y_pred, target_names=target_names))\n",
    "# Print the tuned parameters and score\n",
    "print(metrics.accuracy_score(y_test, y_pred))\n",
    "print('Random Forest R squared: %.4f' % random_model.score(X_test, y_test))\n",
    "y_pred = random_model.predict(X_test)\n",
    "forest_mse = mean_squared_error(y_pred, y_test)\n",
    "forest_rmse = np.sqrt(forest_mse)\n",
    "print('Random Forest RMSE: %.4f' % forest_rmse)\n",
    "print(metrics.accuracy_score(y_test, y_pred))"
   ]
  },
  {
   "cell_type": "code",
   "execution_count": 26,
   "metadata": {},
   "outputs": [],
   "source": [
    "# Try Grid Search to see if we can improve the hyperparameters further. \n",
    "# Setting grid around the previously identified optimal values\n",
    "param_grid = {\n",
    "    'bootstrap': [True],\n",
    "    'max_depth': [30, 40, 50, 60, 70],\n",
    "    'max_features': [2, 3],\n",
    "    'min_samples_leaf': [1, 2, 3],\n",
    "    'min_samples_split': [2, 3, 4, 5],\n",
    "    'n_estimators': [100, 200, 300, 1000]\n",
    "}\n"
   ]
  },
  {
   "cell_type": "code",
   "execution_count": 27,
   "metadata": {},
   "outputs": [],
   "source": [
    "# Create a base model\n",
    "rf = RandomForestClassifier()\n",
    "\n",
    "grid_search = GridSearchCV(estimator = rf, param_grid = param_grid, scoring = 'neg_mean_squared_error',\n",
    "                          cv = 3, n_jobs = -1, verbose = 2)"
   ]
  },
  {
   "cell_type": "code",
   "execution_count": 28,
   "metadata": {},
   "outputs": [
    {
     "name": "stdout",
     "output_type": "stream",
     "text": [
      "Fitting 3 folds for each of 480 candidates, totalling 1440 fits\n"
     ]
    },
    {
     "name": "stderr",
     "output_type": "stream",
     "text": [
      "[Parallel(n_jobs=-1)]: Using backend LokyBackend with 4 concurrent workers.\n",
      "[Parallel(n_jobs=-1)]: Done  33 tasks      | elapsed:    8.5s\n",
      "[Parallel(n_jobs=-1)]: Done 154 tasks      | elapsed:   42.0s\n",
      "[Parallel(n_jobs=-1)]: Done 357 tasks      | elapsed:  1.6min\n",
      "[Parallel(n_jobs=-1)]: Done 640 tasks      | elapsed:  3.1min\n",
      "[Parallel(n_jobs=-1)]: Done 1005 tasks      | elapsed:  4.5min\n",
      "[Parallel(n_jobs=-1)]: Done 1440 out of 1440 | elapsed:  6.1min finished\n",
      "C:\\Users\\e620173\\AppData\\Local\\Continuum\\anaconda3\\lib\\site-packages\\sklearn\\model_selection\\_search.py:841: DeprecationWarning: The default of the `iid` parameter will change from True to False in version 0.22 and will be removed in 0.24. This will change numeric results when test-set sizes are unequal.\n",
      "  DeprecationWarning)\n"
     ]
    },
    {
     "data": {
      "text/plain": [
       "{'bootstrap': True,\n",
       " 'max_depth': 70,\n",
       " 'max_features': 3,\n",
       " 'min_samples_leaf': 1,\n",
       " 'min_samples_split': 3,\n",
       " 'n_estimators': 100}"
      ]
     },
     "execution_count": 28,
     "metadata": {},
     "output_type": "execute_result"
    }
   ],
   "source": [
    "grid_search.fit(X_train, y_train)\n",
    "grid_search.best_params_"
   ]
  },
  {
   "cell_type": "code",
   "execution_count": 29,
   "metadata": {},
   "outputs": [
    {
     "name": "stdout",
     "output_type": "stream",
     "text": [
      "              precision    recall  f1-score   support\n",
      "\n",
      "     No Rank       0.76      0.74      0.75        39\n",
      "  White Belt       0.80      0.73      0.76        22\n",
      "   Blue Belt       0.47      0.70      0.56        10\n",
      " Purple Belt       0.60      0.67      0.63         9\n",
      "  Brown Belt       0.80      0.57      0.67        14\n",
      "  Black Belt       0.33      0.40      0.36         5\n",
      "\n",
      "   micro avg       0.69      0.69      0.69        99\n",
      "   macro avg       0.63      0.63      0.62        99\n",
      "weighted avg       0.71      0.69      0.69        99\n",
      "\n",
      "0.6868686868686869\n",
      "Random Forest R squared: -2.1414\n",
      "Random Forest RMSE: 1.4634\n",
      "0.6868686868686869\n"
     ]
    }
   ],
   "source": [
    "#Evaluate performance of random forest with grid search hyperparameters\n",
    "y_pred = grid_search.predict(X_test)\n",
    "print(classification_report(y_test, y_pred, target_names=target_names))\n",
    "# Print the tuned parameters and score\n",
    "print(metrics.accuracy_score(y_test, y_pred))\n",
    "print('Random Forest R squared: %.4f' % grid_search.score(X_test, y_test))\n",
    "y_pred = grid_search.predict(X_test)\n",
    "forest_mse = mean_squared_error(y_pred, y_test)\n",
    "forest_rmse = np.sqrt(forest_mse)\n",
    "print('Random Forest RMSE: %.4f' % forest_rmse)\n",
    "print(metrics.accuracy_score(y_test, y_pred))"
   ]
  },
  {
   "cell_type": "code",
   "execution_count": 30,
   "metadata": {},
   "outputs": [
    {
     "name": "stdout",
     "output_type": "stream",
     "text": [
      "0.6464646464646465\n",
      "              precision    recall  f1-score   support\n",
      "\n",
      "     No Rank       0.71      0.64      0.68        39\n",
      "  White Belt       0.78      0.64      0.70        22\n",
      "   Blue Belt       0.50      0.80      0.62        10\n",
      " Purple Belt       0.58      0.78      0.67         9\n",
      "  Brown Belt       0.89      0.57      0.70        14\n",
      "  Black Belt       0.22      0.40      0.29         5\n",
      "\n",
      "   micro avg       0.65      0.65      0.65        99\n",
      "   macro avg       0.61      0.64      0.61        99\n",
      "weighted avg       0.69      0.65      0.66        99\n",
      "\n"
     ]
    }
   ],
   "source": [
    "# Try Gradient Boosting\n",
    "model = ensemble.GradientBoostingClassifier(random_state=0)\n",
    "model.fit(X_train, y_train)\n",
    "y_pred = model.predict(X_test)\n",
    "print(metrics.accuracy_score(y_test, y_pred))\n",
    "print(classification_report(y_test, y_pred, target_names=target_names))"
   ]
  },
  {
   "cell_type": "code",
   "execution_count": 31,
   "metadata": {},
   "outputs": [
    {
     "name": "stdout",
     "output_type": "stream",
     "text": [
      "Gradient Boosting R squared: 0.6465\n",
      "Gradient Boosting RMSE: 1.7203\n"
     ]
    }
   ],
   "source": [
    "print('Gradient Boosting R squared: %.4f' % model.score(X_test, y_test))\n",
    "y_pred = model.predict(X_test)\n",
    "model_mse = mean_squared_error(y_pred, y_test)\n",
    "model_rmse = np.sqrt(model_mse)\n",
    "print('Gradient Boosting RMSE: %.4f' % model_rmse)"
   ]
  },
  {
   "cell_type": "code",
   "execution_count": 32,
   "metadata": {},
   "outputs": [
    {
     "name": "stdout",
     "output_type": "stream",
     "text": [
      "{'criterion': 'friedman_mse', 'init': None, 'learning_rate': 0.1, 'loss': 'deviance', 'max_depth': 3, 'max_features': None, 'max_leaf_nodes': None, 'min_impurity_decrease': 0.0, 'min_impurity_split': None, 'min_samples_leaf': 1, 'min_samples_split': 2, 'min_weight_fraction_leaf': 0.0, 'n_estimators': 100, 'n_iter_no_change': None, 'presort': 'auto', 'random_state': 0, 'subsample': 1.0, 'tol': 0.0001, 'validation_fraction': 0.1, 'verbose': 0, 'warm_start': False}\n"
     ]
    }
   ],
   "source": [
    "print(model.get_params())"
   ]
  },
  {
   "cell_type": "code",
   "execution_count": 33,
   "metadata": {},
   "outputs": [
    {
     "name": "stdout",
     "output_type": "stream",
     "text": [
      "{'n_estimators': [100, 311, 522, 733, 944, 1155, 1366, 1577, 1788, 2000], 'max_features': ['auto', 'sqrt'], 'max_depth': [2, 2, 3, 4, 5, 6, 6, 7, 8, 9, 10, None], 'min_samples_split': [2, 5, 10], 'min_samples_leaf': [1, 2, 4]}\n"
     ]
    }
   ],
   "source": [
    "# Number of trees in random forest\n",
    "n_estimators = [int(x) for x in np.linspace(start = 100, stop = 2000, num = 10)]\n",
    "# Number of features to consider at every split\n",
    "max_features = ['auto', 'sqrt']\n",
    "# Maximum number of levels in tree\n",
    "max_depth = [int(x) for x in np.linspace(2, 10, num = 11)]\n",
    "max_depth.append(None)\n",
    "# Minimum number of samples required to split a node\n",
    "min_samples_split = [2, 5, 10]\n",
    "# Minimum number of samples required at each leaf node\n",
    "min_samples_leaf = [1, 2, 4]\n",
    "# Create the random grid\n",
    "random_grid = {'n_estimators': n_estimators,\n",
    "               'max_features': max_features,\n",
    "               'max_depth': max_depth,\n",
    "               'min_samples_split': min_samples_split,\n",
    "               'min_samples_leaf': min_samples_leaf}\n",
    "print(random_grid)"
   ]
  },
  {
   "cell_type": "code",
   "execution_count": null,
   "metadata": {},
   "outputs": [],
   "source": []
  },
  {
   "cell_type": "code",
   "execution_count": 34,
   "metadata": {},
   "outputs": [
    {
     "name": "stdout",
     "output_type": "stream",
     "text": [
      "Fitting 3 folds for each of 100 candidates, totalling 300 fits\n"
     ]
    },
    {
     "name": "stderr",
     "output_type": "stream",
     "text": [
      "[Parallel(n_jobs=-1)]: Using backend LokyBackend with 4 concurrent workers.\n",
      "[Parallel(n_jobs=-1)]: Done  33 tasks      | elapsed:  1.1min\n",
      "[Parallel(n_jobs=-1)]: Done 154 tasks      | elapsed:  4.8min\n",
      "[Parallel(n_jobs=-1)]: Done 300 out of 300 | elapsed: 15.2min finished\n",
      "C:\\Users\\e620173\\AppData\\Local\\Continuum\\anaconda3\\lib\\site-packages\\sklearn\\model_selection\\_search.py:841: DeprecationWarning: The default of the `iid` parameter will change from True to False in version 0.22 and will be removed in 0.24. This will change numeric results when test-set sizes are unequal.\n",
      "  DeprecationWarning)\n"
     ]
    },
    {
     "data": {
      "text/plain": [
       "RandomizedSearchCV(cv=3, error_score='raise-deprecating',\n",
       "          estimator=GradientBoostingClassifier(criterion='friedman_mse', init=None,\n",
       "              learning_rate=0.1, loss='deviance', max_depth=3,\n",
       "              max_features=None, max_leaf_nodes=None,\n",
       "              min_impurity_decrease=0.0, min_impurity_split=None,\n",
       "              min_samples_leaf=1, min_sampl...      subsample=1.0, tol=0.0001, validation_fraction=0.1,\n",
       "              verbose=0, warm_start=False),\n",
       "          fit_params=None, iid='warn', n_iter=100, n_jobs=-1,\n",
       "          param_distributions={'n_estimators': [100, 311, 522, 733, 944, 1155, 1366, 1577, 1788, 2000], 'max_features': ['auto', 'sqrt'], 'max_depth': [2, 2, 3, 4, 5, 6, 6, 7, 8, 9, 10, None], 'min_samples_split': [2, 5, 10], 'min_samples_leaf': [1, 2, 4]},\n",
       "          pre_dispatch='2*n_jobs', random_state=42, refit=True,\n",
       "          return_train_score='warn', scoring='neg_mean_squared_error',\n",
       "          verbose=2)"
      ]
     },
     "execution_count": 34,
     "metadata": {},
     "output_type": "execute_result"
    }
   ],
   "source": [
    "#Basic GBM performance was poor - try tuning learning rate and number of trees\n",
    "gbm = GradientBoostingClassifier(random_state=42)\n",
    "\n",
    "gbm_random = RandomizedSearchCV(estimator = gbm, param_distributions = random_grid, scoring = 'neg_mean_squared_error', n_iter = 100, cv = 3, verbose=2, random_state=42, n_jobs = -1)\n",
    "# Fit the random search model\n",
    "gbm_random.fit(X_train, y_train)\n"
   ]
  },
  {
   "cell_type": "code",
   "execution_count": 35,
   "metadata": {},
   "outputs": [
    {
     "name": "stdout",
     "output_type": "stream",
     "text": [
      "{'n_estimators': 1577, 'min_samples_split': 2, 'min_samples_leaf': 4, 'max_features': 'sqrt', 'max_depth': 6}\n"
     ]
    }
   ],
   "source": [
    "#Print and evaluate best parameters from the search\n",
    "print(gbm_random.best_params_)\n",
    "\n",
    "best_random = gbm_random.best_estimator_"
   ]
  },
  {
   "cell_type": "code",
   "execution_count": 36,
   "metadata": {},
   "outputs": [],
   "source": [
    "#Evaluate performance of the base model w/ searched hyperparameters\n",
    "\n",
    "random_model = GradientBoostingClassifier(n_estimators = 1577, min_samples_split=2, min_samples_leaf=4, \n",
    "                                   max_features = 'sqrt', max_depth = 6, random_state = 42)"
   ]
  },
  {
   "cell_type": "code",
   "execution_count": 37,
   "metadata": {},
   "outputs": [
    {
     "data": {
      "text/plain": [
       "GradientBoostingClassifier(criterion='friedman_mse', init=None,\n",
       "              learning_rate=0.1, loss='deviance', max_depth=6,\n",
       "              max_features='sqrt', max_leaf_nodes=None,\n",
       "              min_impurity_decrease=0.0, min_impurity_split=None,\n",
       "              min_samples_leaf=4, min_samples_split=2,\n",
       "              min_weight_fraction_leaf=0.0, n_estimators=1577,\n",
       "              n_iter_no_change=None, presort='auto', random_state=42,\n",
       "              subsample=1.0, tol=0.0001, validation_fraction=0.1,\n",
       "              verbose=0, warm_start=False)"
      ]
     },
     "execution_count": 37,
     "metadata": {},
     "output_type": "execute_result"
    }
   ],
   "source": [
    "random_model.fit(X_train, y_train)"
   ]
  },
  {
   "cell_type": "code",
   "execution_count": 38,
   "metadata": {},
   "outputs": [
    {
     "name": "stdout",
     "output_type": "stream",
     "text": [
      "GBM - random searched R squared: 0.6566\n",
      "0.6565656565656566\n",
      "              precision    recall  f1-score   support\n",
      "\n",
      "     No Rank       0.69      0.69      0.69        39\n",
      "  White Belt       0.78      0.64      0.70        22\n",
      "   Blue Belt       0.53      0.80      0.64        10\n",
      " Purple Belt       0.58      0.78      0.67         9\n",
      "  Brown Belt       0.86      0.43      0.57        14\n",
      "  Black Belt       0.38      0.60      0.46         5\n",
      "\n",
      "   micro avg       0.66      0.66      0.66        99\n",
      "   macro avg       0.64      0.66      0.62        99\n",
      "weighted avg       0.69      0.66      0.66        99\n",
      "\n",
      "GBM - random searched RMSE: 1.4634\n"
     ]
    }
   ],
   "source": [
    "#Evaluate performance of GBM with random searched hyperparameters\n",
    "print('GBM - random searched R squared: %.4f' % random_model.score(X_test, y_test))\n",
    "y_pred = random_model.predict(X_test)\n",
    "print(metrics.accuracy_score(y_test, y_pred))\n",
    "print(classification_report(y_test, y_pred, target_names=target_names))\n",
    "GBM_mse = mean_squared_error(y_pred, y_test)\n",
    "GBM_rmse = np.sqrt(GBM_mse)\n",
    "print('GBM - random searched RMSE: %.4f' % forest_rmse)"
   ]
  },
  {
   "cell_type": "code",
   "execution_count": 39,
   "metadata": {},
   "outputs": [
    {
     "data": {
      "text/plain": [
       "'GBM with random searched hyperparameters on par with Random Forest'"
      ]
     },
     "execution_count": 39,
     "metadata": {},
     "output_type": "execute_result"
    }
   ],
   "source": [
    "('GBM with random searched hyperparameters on par with Random Forest')"
   ]
  },
  {
   "cell_type": "code",
   "execution_count": 40,
   "metadata": {},
   "outputs": [],
   "source": [
    "param_grid = {\n",
    "    'max_depth': [30, 40, 50, 60, 70],\n",
    "    'max_features': [2, 3],\n",
    "    'min_samples_leaf': [1, 2, 3],\n",
    "    'min_samples_split': [2, 3, 4, 5],\n",
    "    'n_estimators': [100, 200, 300, 1000]\n",
    "}\n"
   ]
  },
  {
   "cell_type": "code",
   "execution_count": 41,
   "metadata": {},
   "outputs": [],
   "source": [
    "# Create a model\n",
    "GBC = GradientBoostingClassifier(random_state=42)"
   ]
  },
  {
   "cell_type": "code",
   "execution_count": 42,
   "metadata": {},
   "outputs": [
    {
     "name": "stdout",
     "output_type": "stream",
     "text": [
      "Fitting 3 folds for each of 480 candidates, totalling 1440 fits\n"
     ]
    },
    {
     "name": "stderr",
     "output_type": "stream",
     "text": [
      "[Parallel(n_jobs=-1)]: Using backend LokyBackend with 4 concurrent workers.\n",
      "[Parallel(n_jobs=-1)]: Done  33 tasks      | elapsed:  1.5min\n",
      "[Parallel(n_jobs=-1)]: Done 154 tasks      | elapsed:  7.4min\n",
      "[Parallel(n_jobs=-1)]: Done 357 tasks      | elapsed: 17.0min\n",
      "[Parallel(n_jobs=-1)]: Done 640 tasks      | elapsed: 30.6min\n",
      "[Parallel(n_jobs=-1)]: Done 1005 tasks      | elapsed: 48.0min\n",
      "[Parallel(n_jobs=-1)]: Done 1440 out of 1440 | elapsed: 66.9min finished\n",
      "C:\\Users\\e620173\\AppData\\Local\\Continuum\\anaconda3\\lib\\site-packages\\sklearn\\model_selection\\_search.py:841: DeprecationWarning: The default of the `iid` parameter will change from True to False in version 0.22 and will be removed in 0.24. This will change numeric results when test-set sizes are unequal.\n",
      "  DeprecationWarning)\n"
     ]
    },
    {
     "data": {
      "text/plain": [
       "GridSearchCV(cv=3, error_score='raise-deprecating',\n",
       "       estimator=GradientBoostingClassifier(criterion='friedman_mse', init=None,\n",
       "              learning_rate=0.1, loss='deviance', max_depth=3,\n",
       "              max_features=None, max_leaf_nodes=None,\n",
       "              min_impurity_decrease=0.0, min_impurity_split=None,\n",
       "              min_samples_leaf=1, min_sampl...      subsample=1.0, tol=0.0001, validation_fraction=0.1,\n",
       "              verbose=0, warm_start=False),\n",
       "       fit_params=None, iid='warn', n_jobs=-1,\n",
       "       param_grid={'max_depth': [30, 40, 50, 60, 70], 'max_features': [2, 3], 'min_samples_leaf': [1, 2, 3], 'min_samples_split': [2, 3, 4, 5], 'n_estimators': [100, 200, 300, 1000]},\n",
       "       pre_dispatch='2*n_jobs', refit=True, return_train_score='warn',\n",
       "       scoring='neg_mean_squared_error', verbose=2)"
      ]
     },
     "execution_count": 42,
     "metadata": {},
     "output_type": "execute_result"
    }
   ],
   "source": [
    "grid_search = GridSearchCV(estimator = GBC, param_grid = param_grid, scoring = 'neg_mean_squared_error',\n",
    "                          cv = 3, n_jobs = -1, verbose = 2)\n",
    "grid_search.fit(X_train, y_train)"
   ]
  },
  {
   "cell_type": "code",
   "execution_count": 43,
   "metadata": {},
   "outputs": [
    {
     "name": "stdout",
     "output_type": "stream",
     "text": [
      "GBM - grid searched R squared: -2.0808\n",
      "0.6666666666666666\n",
      "              precision    recall  f1-score   support\n",
      "\n",
      "     No Rank       0.72      0.74      0.73        39\n",
      "  White Belt       0.79      0.68      0.73        22\n",
      "   Blue Belt       0.50      0.80      0.62        10\n",
      " Purple Belt       0.55      0.67      0.60         9\n",
      "  Brown Belt       0.86      0.43      0.57        14\n",
      "  Black Belt       0.33      0.40      0.36         5\n",
      "\n",
      "   micro avg       0.67      0.67      0.67        99\n",
      "   macro avg       0.63      0.62      0.60        99\n",
      "weighted avg       0.70      0.67      0.67        99\n",
      "\n",
      "GBM - grid searched RMSE: 1.4634\n",
      "0.6666666666666666\n"
     ]
    }
   ],
   "source": [
    "#Evaluate performance of GBM with grid searched hyperparameters\n",
    "print('GBM - grid searched R squared: %.4f' % grid_search.score(X_test, y_test))\n",
    "y_pred = grid_search.predict(X_test)\n",
    "print(metrics.accuracy_score(y_test, y_pred))\n",
    "print(classification_report(y_test, y_pred, target_names=target_names))\n",
    "GBM_mse = mean_squared_error(y_pred, y_test)\n",
    "GBM_rmse = np.sqrt(forest_mse)\n",
    "print('GBM - grid searched RMSE: %.4f' % forest_rmse)\n",
    "print(metrics.accuracy_score(y_test, y_pred))"
   ]
  },
  {
   "cell_type": "code",
   "execution_count": 44,
   "metadata": {},
   "outputs": [
    {
     "name": "stdout",
     "output_type": "stream",
     "text": [
      "Accuracy of the GBM on test set: 0.657\n"
     ]
    },
    {
     "data": {
      "image/png": "[encoded data removed]",
      "text/plain": [
       "<Figure size 432x288 with 1 Axes>"
      ]
     },
     "metadata": {
      "needs_background": "light"
     },
     "output_type": "display_data"
    }
   ],
   "source": [
    "predictors=list(X_train)\n",
    "feat_imp = pd.Series(random_model.feature_importances_, predictors).sort_values(ascending=False)\n",
    "feat_imp.plot(kind='bar', title='Importance of Features')\n",
    "plt.ylabel('Feature Importance Score')\n",
    "print('Accuracy of the GBM on test set: {:.3f}'.format(random_model.score(X_test, y_test)))\n",
    "pred=random_model.predict(X_test)\n",
    "#print(classification_report(y_test, pred))"
   ]
  },
  {
   "cell_type": "code",
   "execution_count": 45,
   "metadata": {},
   "outputs": [
    {
     "name": "stdout",
     "output_type": "stream",
     "text": [
      "0    39\n",
      "1    22\n",
      "4    14\n",
      "2    10\n",
      "3     9\n",
      "5     5\n",
      "Name: target, dtype: int64\n"
     ]
    }
   ],
   "source": [
    "print(y_test.value_counts())"
   ]
  },
  {
   "cell_type": "code",
   "execution_count": 46,
   "metadata": {},
   "outputs": [
    {
     "name": "stdout",
     "output_type": "stream",
     "text": [
      "Notes:  We can conclude that Age, dislike count, like count, comment count in this order are the most important features. \n"
     ]
    }
   ],
   "source": [
    "print('Notes:  We can conclude that Age, dislike count, like count, comment count in this order are the most important features. ')\n",
    "\n"
   ]
  }
 ],
 "metadata": {
  "kernelspec": {
   "display_name": "Python 3",
   "language": "python",
   "name": "python3"
  },
  "language_info": {
   "codemirror_mode": {
    "name": "ipython",
    "version": 3
   },
   "file_extension": ".py",
   "mimetype": "text/x-python",
   "name": "python",
   "nbconvert_exporter": "python",
   "pygments_lexer": "ipython3",
   "version": "3.7.3"
  }
 },
 "nbformat": 4,
 "nbformat_minor": 2
}
