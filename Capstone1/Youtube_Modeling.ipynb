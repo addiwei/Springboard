{
 "cells": [
  {
   "cell_type": "code",
   "execution_count": 26,
   "metadata": {},
   "outputs": [
    {
     "name": "stdout",
     "output_type": "stream",
     "text": [
      "<class 'pandas.core.frame.DataFrame'>\n",
      "Int64Index: 989 entries, 0 to 999\n",
      "Data columns (total 10 columns):\n",
      "search_word                  989 non-null object\n",
      "contentDetails.caption       989 non-null bool\n",
      "contentDetails.definition    989 non-null object\n",
      "catID                        989 non-null int64\n",
      "commentCount                 989 non-null float64\n",
      "dislikeCount                 989 non-null float64\n",
      "likeCount                    989 non-null float64\n",
      "tags_length                  989 non-null int64\n",
      "view_bucket                  989 non-null float64\n",
      "date                         989 non-null datetime64[ns, UTC]\n",
      "dtypes: bool(1), datetime64[ns, UTC](1), float64(4), int64(2), object(2)\n",
      "memory usage: 118.2+ KB\n",
      "None\n",
      "(989, 10)\n"
     ]
    }
   ],
   "source": [
    "#Split and scale the data, train hyper parameters, Model, Evaluate\n",
    "\n",
    "from sklearn.linear_model import LinearRegression\n",
    "from sklearn.model_selection import train_test_split\n",
    "from sklearn.pipeline import make_pipeline\n",
    "from sklearn import cross_validation, metrics  \n",
    "from sklearn.metrics import mean_squared_error\n",
    "from sklearn.preprocessing import MinMaxScaler\n",
    "from sklearn import preprocessing\n",
    "import pandas as pd\n",
    "from sklearn import datasets, linear_model\n",
    "from matplotlib import pyplot as plt\n",
    "import numpy as np\n",
    "import statsmodels.api as sm\n",
    "from sklearn.metrics import mean_absolute_error\n",
    "from sklearn.ensemble import RandomForestRegressor\n",
    "from sklearn import ensemble\n",
    "from sklearn.ensemble import GradientBoostingRegressor\n",
    "from sklearn.ensemble import GradientBoostingClassifier\n",
    "from sklearn.model_selection import RandomizedSearchCV\n",
    "from sklearn.model_selection import GridSearchCV\n",
    "from sklearn.metrics import classification_report\n",
    "\n",
    "\n",
    "%store -r df\n",
    "\n",
    "print(df.info())\n",
    "print(df.shape)\n",
    "\n",
    "\n",
    "   "
   ]
  },
  {
   "cell_type": "code",
   "execution_count": 2,
   "metadata": {},
   "outputs": [
    {
     "name": "stdout",
     "output_type": "stream",
     "text": [
      "(989, 4)\n",
      "(989, 4)\n"
     ]
    }
   ],
   "source": [
    "minmax_scale = preprocessing.MinMaxScaler().fit(df[['commentCount','dislikeCount','likeCount','tags_length']])\n",
    "\n",
    "\n",
    "\n",
    "\n",
    "X = pd.DataFrame(minmax_scale.transform(df[['commentCount','dislikeCount','likeCount','tags_length']]))\n",
    "print(X.shape)\n",
    "Y = df['view_bucket']\n",
    "\n",
    "n = pd.get_dummies(df[['search_word','contentDetails.definition','contentDetails.caption']])\n",
    "\n",
    "# X = pd.concat([X, n], axis=1)\n",
    "print(X.shape)\n",
    "\n",
    "\n",
    "\n"
   ]
  },
  {
   "cell_type": "code",
   "execution_count": 3,
   "metadata": {},
   "outputs": [
    {
     "data": {
      "text/plain": [
       "(989, 27)"
      ]
     },
     "execution_count": 3,
     "metadata": {},
     "output_type": "execute_result"
    }
   ],
   "source": [
    "#X = pd.concat([X, n], axis=1)\n",
    "X = pd.DataFrame(np.hstack([X,n]))\n",
    "X.shape\n",
    "\n"
   ]
  },
  {
   "cell_type": "code",
   "execution_count": 4,
   "metadata": {},
   "outputs": [
    {
     "name": "stdout",
     "output_type": "stream",
     "text": [
      "(989, 28)\n"
     ]
    }
   ],
   "source": [
    "# Normalize the time series data and store as new date column\n",
    "ts = df['date']\n",
    "scaled_ts = (ts-ts.min())/(ts.max()-ts.min())\n",
    "\n",
    "X['date'] = pd.Series(scaled_ts)\n",
    "X['date'].fillna((X['date'].mean()), inplace=True)\n",
    "\n",
    "print(X.shape)\n"
   ]
  },
  {
   "cell_type": "code",
   "execution_count": null,
   "metadata": {},
   "outputs": [],
   "source": [
    "\n",
    "\n"
   ]
  },
  {
   "cell_type": "code",
   "execution_count": 5,
   "metadata": {},
   "outputs": [
    {
     "name": "stdout",
     "output_type": "stream",
     "text": [
      "<class 'pandas.core.frame.DataFrame'>\n",
      "Int64Index: 890 entries, 304 to 684\n",
      "Data columns (total 28 columns):\n",
      "0       890 non-null object\n",
      "1       890 non-null object\n",
      "2       890 non-null object\n",
      "3       890 non-null object\n",
      "4       890 non-null object\n",
      "5       890 non-null object\n",
      "6       890 non-null object\n",
      "7       890 non-null object\n",
      "8       890 non-null object\n",
      "9       890 non-null object\n",
      "10      890 non-null object\n",
      "11      890 non-null object\n",
      "12      890 non-null object\n",
      "13      890 non-null object\n",
      "14      890 non-null object\n",
      "15      890 non-null object\n",
      "16      890 non-null object\n",
      "17      890 non-null object\n",
      "18      890 non-null object\n",
      "19      890 non-null object\n",
      "20      890 non-null object\n",
      "21      890 non-null object\n",
      "22      890 non-null object\n",
      "23      890 non-null object\n",
      "24      890 non-null object\n",
      "25      890 non-null object\n",
      "26      890 non-null object\n",
      "date    890 non-null float64\n",
      "dtypes: float64(1), object(27)\n",
      "memory usage: 201.6+ KB\n"
     ]
    },
    {
     "name": "stderr",
     "output_type": "stream",
     "text": [
      "C:\\Users\\z002xczx\\AppData\\Local\\Continuum\\anaconda3\\lib\\site-packages\\sklearn\\model_selection\\_split.py:2026: FutureWarning: From version 0.21, test_size will always complement train_size unless both are specified.\n",
      "  FutureWarning)\n"
     ]
    }
   ],
   "source": [
    "X_train, X_test, y_train, y_test = train_test_split(X, Y, train_size=.9, random_state=0)\n",
    "\n",
    "X_train.info()\n",
    "\n"
   ]
  },
  {
   "cell_type": "code",
   "execution_count": 6,
   "metadata": {},
   "outputs": [
    {
     "name": "stdout",
     "output_type": "stream",
     "text": [
      "                            OLS Regression Results                            \n",
      "==============================================================================\n",
      "Dep. Variable:                      y   R-squared:                       0.722\n",
      "Model:                            OLS   Adj. R-squared:                  0.714\n",
      "Method:                 Least Squares   F-statistic:                     86.24\n",
      "Date:                Wed, 19 Dec 2018   Prob (F-statistic):          2.39e-219\n",
      "Time:                        13:35:28   Log-Likelihood:                -6135.3\n",
      "No. Observations:                 890   AIC:                         1.232e+04\n",
      "Df Residuals:                     863   BIC:                         1.245e+04\n",
      "Df Model:                          26                                         \n",
      "Covariance Type:            nonrobust                                         \n",
      "==============================================================================\n",
      "                 coef    std err          t      P>|t|      [0.025      0.975]\n",
      "------------------------------------------------------------------------------\n",
      "0          -1761.9512    300.543     -5.863      0.000   -2351.832   -1172.071\n",
      "1           4303.0008    225.969     19.042      0.000    3859.487    4746.514\n",
      "2           2375.3989    315.430      7.531      0.000    1756.298    2994.500\n",
      "3             64.1014     48.357      1.326      0.185     -30.810     159.013\n",
      "4              1.0185     25.094      0.041      0.968     -48.234      50.271\n",
      "5            -10.9123     35.661     -0.306      0.760     -80.905      59.080\n",
      "6             29.9146     36.922      0.810      0.418     -42.553     102.382\n",
      "7            -44.0537     36.132     -1.219      0.223    -114.971      26.864\n",
      "8              2.4880     36.797      0.068      0.946     -69.733      74.709\n",
      "9            208.9321     42.405      4.927      0.000     125.704     292.161\n",
      "10           -48.2274     35.716     -1.350      0.177    -118.327      21.873\n",
      "11             6.8512     36.466      0.188      0.851     -64.721      78.424\n",
      "12           -29.5451     37.124     -0.796      0.426    -102.409      43.319\n",
      "13           -19.7549     37.256     -0.530      0.596     -92.878      53.368\n",
      "14           -19.1885     36.416     -0.527      0.598     -90.662      52.285\n",
      "15            28.7398     36.315      0.791      0.429     -42.536     100.015\n",
      "16           -11.2118     36.571     -0.307      0.759     -82.990      60.566\n",
      "17           -25.0579     37.412     -0.670      0.503     -98.487      48.371\n",
      "18            38.4679     35.394      1.087      0.277     -31.001     107.937\n",
      "19           101.1463     46.599      2.171      0.030       9.686     192.607\n",
      "20            48.2301     36.439      1.324      0.186     -23.290     119.750\n",
      "21           -13.9187     35.590     -0.391      0.696     -83.772      55.935\n",
      "22            -6.8447     38.018     -0.180      0.857     -81.464      67.774\n",
      "23             8.4953     35.355      0.240      0.810     -60.897      77.888\n",
      "24           -30.7159     35.931     -0.855      0.393    -101.239      39.807\n",
      "25            70.9914     58.357      1.217      0.224     -43.546     185.529\n",
      "26           142.8433     63.944      2.234      0.026      17.339     268.348\n",
      "date         -84.3615     66.375     -1.271      0.204    -214.637      45.914\n",
      "==============================================================================\n",
      "Omnibus:                      420.946   Durbin-Watson:                   1.983\n",
      "Prob(Omnibus):                  0.000   Jarque-Bera (JB):           447512.704\n",
      "Skew:                          -0.528   Prob(JB):                         0.00\n",
      "Kurtosis:                     112.848   Cond. No.                     2.25e+15\n",
      "==============================================================================\n",
      "\n",
      "Warnings:\n",
      "[1] Standard Errors assume that the covariance matrix of the errors is correctly specified.\n",
      "[2] The smallest eigenvalue is 3.45e-28. This might indicate that there are\n",
      "strong multicollinearity problems or that the design matrix is singular.\n"
     ]
    }
   ],
   "source": [
    "\n",
    "\n",
    "model = sm.OLS(list(y_train), X_train.astype(float)).fit()\n",
    "predictions = model.predict(X) \n",
    " \n",
    "print_model = model.summary()\n",
    "print(print_model)"
   ]
  },
  {
   "cell_type": "code",
   "execution_count": 7,
   "metadata": {},
   "outputs": [
    {
     "name": "stdout",
     "output_type": "stream",
     "text": [
      "Linear Regression R squared: 0.7756\n",
      "Linear Regression RMSE: 322.1439\n",
      "Linear Regression MAE: 116.9394\n"
     ]
    }
   ],
   "source": [
    "regressor = LinearRegression()\n",
    "regressor.fit(X_train, y_train)\n",
    "\n",
    "y_pred = regressor.predict(X_test)\n",
    "print('Linear Regression R squared: %.4f' % regressor.score(X_test, y_test))\n",
    "\n",
    "lin_mse = mean_squared_error(y_pred, y_test)\n",
    "lin_rmse = np.sqrt(lin_mse)\n",
    "print('Linear Regression RMSE: %.4f' % lin_rmse)\n",
    "\n",
    "lin_mae = mean_absolute_error(y_pred, y_test)\n",
    "print('Linear Regression MAE: %.4f' % lin_mae)\n",
    "\n"
   ]
  },
  {
   "cell_type": "code",
   "execution_count": 8,
   "metadata": {},
   "outputs": [
    {
     "data": {
      "text/plain": [
       "RandomForestRegressor(bootstrap=True, criterion='mse', max_depth=None,\n",
       "           max_features='auto', max_leaf_nodes=None,\n",
       "           min_impurity_decrease=0.0, min_impurity_split=None,\n",
       "           min_samples_leaf=1, min_samples_split=2,\n",
       "           min_weight_fraction_leaf=0.0, n_estimators=10, n_jobs=1,\n",
       "           oob_score=False, random_state=42, verbose=0, warm_start=False)"
      ]
     },
     "execution_count": 8,
     "metadata": {},
     "output_type": "execute_result"
    }
   ],
   "source": [
    "# Try random forest with default hyperparameters\n",
    "forest_reg = RandomForestRegressor(random_state=42)\n",
    "forest_reg.fit(X_train, y_train)"
   ]
  },
  {
   "cell_type": "code",
   "execution_count": 9,
   "metadata": {},
   "outputs": [
    {
     "name": "stdout",
     "output_type": "stream",
     "text": [
      "Random Forest R squared: 0.3879\n",
      "Random Forest RMSE: 532.0794\n"
     ]
    }
   ],
   "source": [
    "print('Random Forest R squared: %.4f' % forest_reg.score(X_test, y_test))\n",
    "y_pred = forest_reg.predict(X_test)\n",
    "forest_mse = mean_squared_error(y_pred, y_test)\n",
    "forest_rmse = np.sqrt(forest_mse)\n",
    "print('Random Forest RMSE: %.4f' % forest_rmse)"
   ]
  },
  {
   "cell_type": "code",
   "execution_count": 10,
   "metadata": {},
   "outputs": [
    {
     "name": "stdout",
     "output_type": "stream",
     "text": [
      "{'bootstrap': True, 'criterion': 'mse', 'max_depth': None, 'max_features': 'auto', 'max_leaf_nodes': None, 'min_impurity_decrease': 0.0, 'min_impurity_split': None, 'min_samples_leaf': 1, 'min_samples_split': 2, 'min_weight_fraction_leaf': 0.0, 'n_estimators': 10, 'n_jobs': 1, 'oob_score': False, 'random_state': 42, 'verbose': 0, 'warm_start': False}\n",
      "{'n_estimators': [200, 400, 600, 800, 1000, 1200, 1400, 1600, 1800, 2000], 'max_features': ['auto', 'sqrt'], 'max_depth': [10, 20, 30, 40, 50, 60, 70, 80, 90, 100, 110, None], 'min_samples_split': [2, 5, 10], 'min_samples_leaf': [1, 2, 4], 'bootstrap': [True, False]}\n"
     ]
    }
   ],
   "source": [
    "# Evaluate and select optimal hyperparameters\n",
    "print(forest_reg.get_params())\n",
    "\n",
    "#Create a random grid for possible parameters to attempt and then use random search\n",
    "\n",
    "# Number of trees in random forest\n",
    "n_estimators = [int(x) for x in np.linspace(start = 200, stop = 2000, num = 10)]\n",
    "# Number of features to consider at every split\n",
    "max_features = ['auto', 'sqrt']\n",
    "# Maximum number of levels in tree\n",
    "max_depth = [int(x) for x in np.linspace(10, 110, num = 11)]\n",
    "max_depth.append(None)\n",
    "# Minimum number of samples required to split a node\n",
    "min_samples_split = [2, 5, 10]\n",
    "# Minimum number of samples required at each leaf node\n",
    "min_samples_leaf = [1, 2, 4]\n",
    "# Method of selecting samples for training each tree\n",
    "bootstrap = [True, False]\n",
    "# Create the random grid\n",
    "random_grid = {'n_estimators': n_estimators,\n",
    "               'max_features': max_features,\n",
    "               'max_depth': max_depth,\n",
    "               'min_samples_split': min_samples_split,\n",
    "               'min_samples_leaf': min_samples_leaf,\n",
    "               'bootstrap': bootstrap}\n",
    "print(random_grid)"
   ]
  },
  {
   "cell_type": "code",
   "execution_count": 11,
   "metadata": {},
   "outputs": [
    {
     "name": "stdout",
     "output_type": "stream",
     "text": [
      "Fitting 3 folds for each of 100 candidates, totalling 300 fits\n"
     ]
    },
    {
     "name": "stderr",
     "output_type": "stream",
     "text": [
      "[Parallel(n_jobs=-1)]: Done  25 tasks      | elapsed:   21.7s\n",
      "[Parallel(n_jobs=-1)]: Done 146 tasks      | elapsed:  1.3min\n",
      "[Parallel(n_jobs=-1)]: Done 300 out of 300 | elapsed:  2.7min finished\n"
     ]
    },
    {
     "data": {
      "text/plain": [
       "RandomizedSearchCV(cv=3, error_score='raise',\n",
       "          estimator=RandomForestRegressor(bootstrap=True, criterion='mse', max_depth=None,\n",
       "           max_features='auto', max_leaf_nodes=None,\n",
       "           min_impurity_decrease=0.0, min_impurity_split=None,\n",
       "           min_samples_leaf=1, min_samples_split=2,\n",
       "           min_weight_fraction_leaf=0.0, n_estimators=10, n_jobs=1,\n",
       "           oob_score=False, random_state=None, verbose=0, warm_start=False),\n",
       "          fit_params=None, iid=True, n_iter=100, n_jobs=-1,\n",
       "          param_distributions={'n_estimators': [200, 400, 600, 800, 1000, 1200, 1400, 1600, 1800, 2000], 'max_features': ['auto', 'sqrt'], 'max_depth': [10, 20, 30, 40, 50, 60, 70, 80, 90, 100, 110, None], 'min_samples_split': [2, 5, 10], 'min_samples_leaf': [1, 2, 4], 'bootstrap': [True, False]},\n",
       "          pre_dispatch='2*n_jobs', random_state=42, refit=True,\n",
       "          return_train_score='warn', scoring=None, verbose=2)"
      ]
     },
     "execution_count": 11,
     "metadata": {},
     "output_type": "execute_result"
    }
   ],
   "source": [
    "# Use the random grid to search for best hyperparameters\n",
    "# First create the base model to tune\n",
    "rf = RandomForestRegressor()\n",
    "# Random search of parameters, using 3 fold cross validation, \n",
    "# search across 100 different combinations, and use all available cores\n",
    "rf_random = RandomizedSearchCV(estimator = rf, param_distributions = random_grid, n_iter = 100, cv = 3, verbose=2, random_state=42, n_jobs = -1)\n",
    "# Fit the random search model\n",
    "rf_random.fit(X_train, y_train)"
   ]
  },
  {
   "cell_type": "code",
   "execution_count": 12,
   "metadata": {},
   "outputs": [
    {
     "name": "stdout",
     "output_type": "stream",
     "text": [
      "{'n_estimators': 400, 'min_samples_split': 2, 'min_samples_leaf': 1, 'max_features': 'sqrt', 'max_depth': None, 'bootstrap': False}\n"
     ]
    }
   ],
   "source": [
    "#Print and evaluate best parameters from the search\n",
    "print(rf_random.best_params_)\n",
    "\n",
    "best_random = rf_random.best_estimator_"
   ]
  },
  {
   "cell_type": "code",
   "execution_count": 13,
   "metadata": {},
   "outputs": [
    {
     "name": "stdout",
     "output_type": "stream",
     "text": [
      "Model Performance\n",
      "Average Error: 151.8758 degrees.\n",
      "Accuracy = 19.58%.\n"
     ]
    }
   ],
   "source": [
    "#Evaluate performance of the base model w/ searched hyperparameters\n",
    "\n",
    "base_model = RandomForestRegressor(n_estimators = 10, random_state = 42)\n",
    "base_model.fit(X_train, y_train)\n",
    "predictions = base_model.predict(X_test)\n",
    "errors = abs(predictions - y_test)\n",
    "mape = 100 * np.mean(errors / y_test)\n",
    "accuracy = 100 - mape\n",
    "print('Model Performance')\n",
    "print('Average Error: {:0.4f} degrees.'.format(np.mean(errors)))\n",
    "print('Accuracy = {:0.2f}%.'.format(accuracy))\n",
    "\n"
   ]
  },
  {
   "cell_type": "code",
   "execution_count": 14,
   "metadata": {},
   "outputs": [
    {
     "name": "stdout",
     "output_type": "stream",
     "text": [
      "Model Performance\n",
      "Average Error: 88.1599 degrees.\n",
      "Accuracy = -13.91%.\n"
     ]
    }
   ],
   "source": [
    "predictions = best_random.predict(X_test)\n",
    "errors = abs(predictions - y_test)\n",
    "mape = 100 * np.mean(errors / y_test)\n",
    "accuracy = 100 - mape\n",
    "print('Model Performance')\n",
    "print('Average Error: {:0.4f} degrees.'.format(np.mean(errors)))\n",
    "print('Accuracy = {:0.2f}%.'.format(accuracy))\n"
   ]
  },
  {
   "cell_type": "code",
   "execution_count": 15,
   "metadata": {},
   "outputs": [],
   "source": [
    "# Try Grid Search to see if we can improve the hyperparameters further. \n",
    "# Setting grid around the previously identified optimal values\n",
    "param_grid = {\n",
    "    'bootstrap': [True],\n",
    "    'max_depth': [30, 40, 50, 60, 70],\n",
    "    'max_features': [2, 3],\n",
    "    'min_samples_leaf': [1, 2, 3],\n",
    "    'min_samples_split': [2, 3, 4, 5],\n",
    "    'n_estimators': [100, 200, 300, 1000]\n",
    "}\n"
   ]
  },
  {
   "cell_type": "code",
   "execution_count": 16,
   "metadata": {},
   "outputs": [],
   "source": [
    "# Create a based model\n",
    "rf = RandomForestRegressor()\n",
    "\n",
    "grid_search = GridSearchCV(estimator = rf, param_grid = param_grid, \n",
    "                          cv = 3, n_jobs = -1, verbose = 2)"
   ]
  },
  {
   "cell_type": "code",
   "execution_count": 17,
   "metadata": {},
   "outputs": [
    {
     "name": "stdout",
     "output_type": "stream",
     "text": [
      "Fitting 3 folds for each of 480 candidates, totalling 1440 fits\n"
     ]
    },
    {
     "name": "stderr",
     "output_type": "stream",
     "text": [
      "[Parallel(n_jobs=-1)]: Done  25 tasks      | elapsed:   26.1s\n",
      "[Parallel(n_jobs=-1)]: Done 146 tasks      | elapsed:   37.9s\n",
      "[Parallel(n_jobs=-1)]: Done 349 tasks      | elapsed:   59.6s\n",
      "[Parallel(n_jobs=-1)]: Done 632 tasks      | elapsed:  1.5min\n",
      "[Parallel(n_jobs=-1)]: Done 997 tasks      | elapsed:  2.1min\n",
      "[Parallel(n_jobs=-1)]: Done 1440 out of 1440 | elapsed:  2.9min finished\n"
     ]
    },
    {
     "data": {
      "text/plain": [
       "{'bootstrap': True,\n",
       " 'max_depth': 60,\n",
       " 'max_features': 3,\n",
       " 'min_samples_leaf': 1,\n",
       " 'min_samples_split': 3,\n",
       " 'n_estimators': 100}"
      ]
     },
     "execution_count": 17,
     "metadata": {},
     "output_type": "execute_result"
    }
   ],
   "source": [
    "grid_search.fit(X_train, y_train)\n",
    "grid_search.best_params_"
   ]
  },
  {
   "cell_type": "code",
   "execution_count": 18,
   "metadata": {},
   "outputs": [
    {
     "name": "stdout",
     "output_type": "stream",
     "text": [
      "Model Performance\n",
      "Average Error: 108.5852 degrees.\n",
      "Accuracy = -162.67%.\n"
     ]
    }
   ],
   "source": [
    "best_grid = grid_search.best_estimator_\n",
    "predictions = best_grid.predict(X_test)\n",
    "errors = abs(predictions - y_test)\n",
    "mape = 100 * np.mean(errors / y_test)\n",
    "accuracy = 100 - mape\n",
    "print('Model Performance')\n",
    "print('Average Error: {:0.4f} degrees.'.format(np.mean(errors)))\n",
    "print('Accuracy = {:0.2f}%.'.format(accuracy))"
   ]
  },
  {
   "cell_type": "code",
   "execution_count": 19,
   "metadata": {},
   "outputs": [
    {
     "data": {
      "text/plain": [
       "GradientBoostingRegressor(alpha=0.9, criterion='friedman_mse', init=None,\n",
       "             learning_rate=0.1, loss='ls', max_depth=3, max_features=None,\n",
       "             max_leaf_nodes=None, min_impurity_decrease=0.0,\n",
       "             min_impurity_split=None, min_samples_leaf=1,\n",
       "             min_samples_split=2, min_weight_fraction_leaf=0.0,\n",
       "             n_estimators=100, presort='auto', random_state=None,\n",
       "             subsample=1.0, verbose=0, warm_start=False)"
      ]
     },
     "execution_count": 19,
     "metadata": {},
     "output_type": "execute_result"
    }
   ],
   "source": [
    "# Try Gradient Boosting\n",
    "model = ensemble.GradientBoostingRegressor()\n",
    "model.fit(X_train, y_train)"
   ]
  },
  {
   "cell_type": "code",
   "execution_count": 20,
   "metadata": {},
   "outputs": [
    {
     "name": "stdout",
     "output_type": "stream",
     "text": [
      "Gradient Boosting R squared\": 0.0651\n",
      "Gradient Boosting RMSE: 657.5881\n"
     ]
    }
   ],
   "source": [
    "print('Gradient Boosting R squared\": %.4f' % model.score(X_test, y_test))\n",
    "y_pred = model.predict(X_test)\n",
    "model_mse = mean_squared_error(y_pred, y_test)\n",
    "model_rmse = np.sqrt(model_mse)\n",
    "print('Gradient Boosting RMSE: %.4f' % model_rmse)"
   ]
  },
  {
   "cell_type": "code",
   "execution_count": 22,
   "metadata": {},
   "outputs": [
    {
     "name": "stderr",
     "output_type": "stream",
     "text": [
      "C:\\Users\\z002xczx\\AppData\\Local\\Continuum\\anaconda3\\lib\\site-packages\\sklearn\\model_selection\\_search.py:762: DeprecationWarning: The grid_scores_ attribute was deprecated in version 0.18 in favor of the more elaborate cv_results_ attribute. The grid_scores_ attribute will not be available from 0.20\n",
      "  DeprecationWarning)\n"
     ]
    },
    {
     "data": {
      "text/plain": [
       "([mean: 0.74355, std: 0.09953, params: {'learning_rate': 0.15, 'n_estimators': 100},\n",
       "  mean: 0.74335, std: 0.10029, params: {'learning_rate': 0.15, 'n_estimators': 200},\n",
       "  mean: 0.74366, std: 0.10062, params: {'learning_rate': 0.15, 'n_estimators': 300},\n",
       "  mean: 0.74369, std: 0.10066, params: {'learning_rate': 0.15, 'n_estimators': 400},\n",
       "  mean: 0.74364, std: 0.10067, params: {'learning_rate': 0.15, 'n_estimators': 500},\n",
       "  mean: 0.74133, std: 0.09621, params: {'learning_rate': 0.1, 'n_estimators': 100},\n",
       "  mean: 0.73960, std: 0.09697, params: {'learning_rate': 0.1, 'n_estimators': 200},\n",
       "  mean: 0.74055, std: 0.09789, params: {'learning_rate': 0.1, 'n_estimators': 300},\n",
       "  mean: 0.74062, std: 0.09781, params: {'learning_rate': 0.1, 'n_estimators': 400},\n",
       "  mean: 0.74074, std: 0.09788, params: {'learning_rate': 0.1, 'n_estimators': 500},\n",
       "  mean: 0.74759, std: 0.10437, params: {'learning_rate': 0.05, 'n_estimators': 100},\n",
       "  mean: 0.75242, std: 0.10806, params: {'learning_rate': 0.05, 'n_estimators': 200},\n",
       "  mean: 0.75319, std: 0.10891, params: {'learning_rate': 0.05, 'n_estimators': 300},\n",
       "  mean: 0.75202, std: 0.10934, params: {'learning_rate': 0.05, 'n_estimators': 400},\n",
       "  mean: 0.75220, std: 0.10923, params: {'learning_rate': 0.05, 'n_estimators': 500},\n",
       "  mean: 0.59619, std: 0.09762, params: {'learning_rate': 0.01, 'n_estimators': 100},\n",
       "  mean: 0.69770, std: 0.10027, params: {'learning_rate': 0.01, 'n_estimators': 200},\n",
       "  mean: 0.72509, std: 0.10205, params: {'learning_rate': 0.01, 'n_estimators': 300},\n",
       "  mean: 0.73252, std: 0.10356, params: {'learning_rate': 0.01, 'n_estimators': 400},\n",
       "  mean: 0.73794, std: 0.10522, params: {'learning_rate': 0.01, 'n_estimators': 500},\n",
       "  mean: 0.41893, std: 0.08352, params: {'learning_rate': 0.005, 'n_estimators': 100},\n",
       "  mean: 0.59109, std: 0.10219, params: {'learning_rate': 0.005, 'n_estimators': 200},\n",
       "  mean: 0.66646, std: 0.10488, params: {'learning_rate': 0.005, 'n_estimators': 300},\n",
       "  mean: 0.70214, std: 0.10291, params: {'learning_rate': 0.005, 'n_estimators': 400},\n",
       "  mean: 0.71819, std: 0.10174, params: {'learning_rate': 0.005, 'n_estimators': 500},\n",
       "  mean: 0.11033, std: 0.02876, params: {'learning_rate': 0.001, 'n_estimators': 100},\n",
       "  mean: 0.20475, std: 0.04705, params: {'learning_rate': 0.001, 'n_estimators': 200},\n",
       "  mean: 0.28446, std: 0.06228, params: {'learning_rate': 0.001, 'n_estimators': 300},\n",
       "  mean: 0.35354, std: 0.07406, params: {'learning_rate': 0.001, 'n_estimators': 400},\n",
       "  mean: 0.41052, std: 0.08246, params: {'learning_rate': 0.001, 'n_estimators': 500}],\n",
       " {'learning_rate': 0.05, 'n_estimators': 300},\n",
       " 0.7531939159875336)"
      ]
     },
     "execution_count": 22,
     "metadata": {},
     "output_type": "execute_result"
    }
   ],
   "source": [
    "#Basic GBM Regressor performance was poor - try tuning learning rate and number of trees\n",
    "\n",
    "p_test3 = {'learning_rate':[0.15,0.1,0.05,0.01,0.005,0.001], 'n_estimators':[100,200,300,400,500]}\n",
    "\n",
    "tuning = GridSearchCV(estimator =GradientBoostingRegressor(max_depth=4, min_samples_split=2, min_samples_leaf=1, subsample=1,max_features='sqrt', random_state=10), \n",
    "            param_grid = p_test3,n_jobs=4,iid=False, cv=5)\n",
    "tuning.fit(X_train,y_train)\n",
    "tuning.grid_scores_, tuning.best_params_, tuning.best_score_"
   ]
  },
  {
   "cell_type": "code",
   "execution_count": 23,
   "metadata": {},
   "outputs": [
    {
     "name": "stderr",
     "output_type": "stream",
     "text": [
      "C:\\Users\\z002xczx\\AppData\\Local\\Continuum\\anaconda3\\lib\\site-packages\\sklearn\\model_selection\\_search.py:762: DeprecationWarning: The grid_scores_ attribute was deprecated in version 0.18 in favor of the more elaborate cv_results_ attribute. The grid_scores_ attribute will not be available from 0.20\n",
      "  DeprecationWarning)\n"
     ]
    },
    {
     "data": {
      "text/plain": [
       "([mean: 0.71886, std: 0.10170, params: {'max_depth': 2},\n",
       "  mean: 0.75168, std: 0.10093, params: {'max_depth': 3},\n",
       "  mean: 0.75319, std: 0.10891, params: {'max_depth': 4},\n",
       "  mean: 0.73977, std: 0.12580, params: {'max_depth': 5},\n",
       "  mean: 0.74374, std: 0.10745, params: {'max_depth': 6},\n",
       "  mean: 0.75210, std: 0.10823, params: {'max_depth': 7}],\n",
       " {'max_depth': 4},\n",
       " 0.7531939159875336)"
      ]
     },
     "execution_count": 23,
     "metadata": {},
     "output_type": "execute_result"
    }
   ],
   "source": [
    "#Tune max_depth utilizing learning_rate of .05 and n_estimators of 300\n",
    "\n",
    "p_test2 = {'max_depth':[2,3,4,5,6,7] }\n",
    "tuning = GridSearchCV(estimator =GradientBoostingRegressor(learning_rate=0.05,n_estimators=300, min_samples_split=2, min_samples_leaf=1, subsample=1,max_features='sqrt', random_state=10), \n",
    "            param_grid = p_test2,n_jobs=4,iid=False, cv=5)\n",
    "tuning.fit(X_train,y_train)\n",
    "tuning.grid_scores_, tuning.best_params_, tuning.best_score_"
   ]
  },
  {
   "cell_type": "code",
   "execution_count": 24,
   "metadata": {},
   "outputs": [
    {
     "data": {
      "text/plain": [
       "GradientBoostingClassifier(criterion='friedman_mse', init=None,\n",
       "              learning_rate=0.05, loss='deviance', max_depth=4,\n",
       "              max_features='sqrt', max_leaf_nodes=None,\n",
       "              min_impurity_decrease=0.0, min_impurity_split=None,\n",
       "              min_samples_leaf=1, min_samples_split=2,\n",
       "              min_weight_fraction_leaf=0.0, n_estimators=300,\n",
       "              presort='auto', random_state=10, subsample=1, verbose=0,\n",
       "              warm_start=False)"
      ]
     },
     "execution_count": 24,
     "metadata": {},
     "output_type": "execute_result"
    }
   ],
   "source": [
    "model1 = GradientBoostingClassifier(learning_rate=0.05, n_estimators=300,max_depth=4, min_samples_split=2, min_samples_leaf=1, subsample=1,max_features='sqrt', random_state=10)\n",
    "model1.fit(X_train,y_train)\n",
    "\n"
   ]
  },
  {
   "cell_type": "code",
   "execution_count": 27,
   "metadata": {},
   "outputs": [
    {
     "name": "stdout",
     "output_type": "stream",
     "text": [
      "Accuracy of the GBM on test set: 0.374\n",
      "             precision    recall  f1-score   support\n",
      "\n",
      "        1.0       0.64      0.91      0.75        33\n",
      "        2.0       0.38      0.30      0.33        10\n",
      "        3.0       0.25      0.50      0.33         4\n",
      "        4.0       0.00      0.00      0.00         2\n",
      "        5.0       0.00      0.00      0.00         1\n",
      "        6.0       1.00      0.33      0.50         3\n",
      "        7.0       0.00      0.00      0.00         0\n",
      "        8.0       0.00      0.00      0.00         1\n",
      "        9.0       1.00      0.50      0.67         2\n",
      "       10.0       0.00      0.00      0.00         0\n",
      "       11.0       0.00      0.00      0.00         0\n",
      "       13.0       0.00      0.00      0.00         1\n",
      "       14.0       0.00      0.00      0.00         1\n",
      "       15.0       0.00      0.00      0.00         0\n",
      "       16.0       0.00      0.00      0.00         2\n",
      "       17.0       0.00      0.00      0.00         2\n",
      "       18.0       0.00      0.00      0.00         0\n",
      "       21.0       0.00      0.00      0.00         2\n",
      "       22.0       0.00      0.00      0.00         0\n",
      "       26.0       0.00      0.00      0.00         1\n",
      "       27.0       0.00      0.00      0.00         0\n",
      "       29.0       0.00      0.00      0.00         0\n",
      "       31.0       0.00      0.00      0.00         1\n",
      "       32.0       0.00      0.00      0.00         1\n",
      "       36.0       0.00      0.00      0.00         1\n",
      "       41.0       0.00      0.00      0.00         1\n",
      "       42.0       0.00      0.00      0.00         1\n",
      "       43.0       0.00      0.00      0.00         1\n",
      "       44.0       0.00      0.00      0.00         3\n",
      "       51.0       0.00      0.00      0.00         1\n",
      "       54.0       0.00      0.00      0.00         1\n",
      "       55.0       0.00      0.00      0.00         0\n",
      "       67.0       0.00      0.00      0.00         1\n",
      "       77.0       0.00      0.00      0.00         1\n",
      "       84.0       0.00      0.00      0.00         0\n",
      "       91.0       0.00      0.00      0.00         0\n",
      "      107.0       0.00      0.00      0.00         0\n",
      "      115.0       0.00      0.00      0.00         1\n",
      "      127.0       0.00      0.00      0.00         1\n",
      "      135.0       0.00      0.00      0.00         1\n",
      "      137.0       0.00      0.00      0.00         1\n",
      "      161.0       0.00      0.00      0.00         1\n",
      "      301.0       0.00      0.00      0.00         0\n",
      "      322.0       0.00      0.00      0.00         0\n",
      "      346.0       0.00      0.00      0.00         0\n",
      "      414.0       0.00      0.00      0.00         1\n",
      "      460.0       0.00      0.00      0.00         1\n",
      "      492.0       0.00      0.00      0.00         0\n",
      "      504.0       0.00      0.00      0.00         1\n",
      "      585.0       0.00      0.00      0.00         1\n",
      "      631.0       0.00      0.00      0.00         1\n",
      "      634.0       0.00      0.00      0.00         0\n",
      "      803.0       0.00      0.00      0.00         1\n",
      "      808.0       0.00      0.00      0.00         1\n",
      "      943.0       0.00      0.00      0.00         0\n",
      "      968.0       0.00      0.00      0.00         1\n",
      "     1102.0       0.00      0.00      0.00         1\n",
      "     1114.0       0.00      0.00      0.00         1\n",
      "     1142.0       0.00      0.00      0.00         0\n",
      "     1175.0       0.00      0.00      0.00         1\n",
      "     1337.0       0.00      0.00      0.00         0\n",
      "     1460.0       0.00      0.00      0.00         0\n",
      "     1497.0       0.00      0.00      0.00         1\n",
      "     2124.0       0.00      0.00      0.00         1\n",
      "     2872.0       0.00      0.00      0.00         1\n",
      "     3511.0       0.00      0.00      0.00         1\n",
      "     4101.0       0.00      0.00      0.00         1\n",
      "     7786.0       0.00      0.00      0.00         0\n",
      "\n",
      "avg / total       0.31      0.37      0.33        99\n",
      "\n"
     ]
    },
    {
     "name": "stderr",
     "output_type": "stream",
     "text": [
      "C:\\Users\\z002xczx\\AppData\\Local\\Continuum\\anaconda3\\lib\\site-packages\\sklearn\\metrics\\classification.py:1135: UndefinedMetricWarning: Precision and F-score are ill-defined and being set to 0.0 in labels with no predicted samples.\n",
      "  'precision', 'predicted', average, warn_for)\n",
      "C:\\Users\\z002xczx\\AppData\\Local\\Continuum\\anaconda3\\lib\\site-packages\\sklearn\\metrics\\classification.py:1137: UndefinedMetricWarning: Recall and F-score are ill-defined and being set to 0.0 in labels with no true samples.\n",
      "  'recall', 'true', average, warn_for)\n"
     ]
    },
    {
     "data": {
      "image/png": "[encoded data removed]",
      "text/plain": [
       "<Figure size 432x288 with 1 Axes>"
      ]
     },
     "metadata": {
      "needs_background": "light"
     },
     "output_type": "display_data"
    }
   ],
   "source": [
    "predictors=list(X_train)\n",
    "feat_imp = pd.Series(model1.feature_importances_, predictors).sort_values(ascending=False)\n",
    "feat_imp.plot(kind='bar', title='Importance of Features')\n",
    "plt.ylabel('Feature Importance Score')\n",
    "print('Accuracy of the GBM on test set: {:.3f}'.format(model1.score(X_test, y_test)))\n",
    "pred=model1.predict(X_test)\n",
    "print(classification_report(y_test, pred))"
   ]
  },
  {
   "cell_type": "code",
   "execution_count": null,
   "metadata": {},
   "outputs": [],
   "source": [
    "#Try tree related parameters\n",
    "\n",
    "p_test4 = {'min_samples_split':[2,4,6,8,10,20,40,60,100], 'min_samples_leaf':[1,3,5,7,9]}\n",
    "\n",
    "tuning = GridSearchCV(estimator =GradientBoostingRegressor(learning_rate=0.05, n_estimators=300,max_depth=4, subsample=1,max_features='sqrt', random_state=10), \n",
    "            param_grid = p_test4,n_jobs=4,iid=False, cv=5)\n",
    "tuning.fit(X_train,y_train)\n",
    "tuning.grid_scores_, tuning.best_params_, tuning.best_score_"
   ]
  }
 ],
 "metadata": {
  "kernelspec": {
   "display_name": "Python 3",
   "language": "python",
   "name": "python3"
  },
  "language_info": {
   "codemirror_mode": {
    "name": "ipython",
    "version": 3
   },
   "file_extension": ".py",
   "mimetype": "text/x-python",
   "name": "python",
   "nbconvert_exporter": "python",
   "pygments_lexer": "ipython3",
   "version": "3.7.0"
  }
 },
 "nbformat": 4,
 "nbformat_minor": 2
}
