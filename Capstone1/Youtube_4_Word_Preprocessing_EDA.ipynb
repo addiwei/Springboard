{
 "cells": [
  {
   "cell_type": "code",
   "execution_count": 1,
   "metadata": {},
   "outputs": [
    {
     "name": "stdout",
     "output_type": "stream",
     "text": [
      "(989, 7)\n",
      "  search_word                                        description  \\\n",
      "0     Siemens  15 Things You Didn't Know About SIEMENS | SUBS...   \n",
      "1     Siemens  From digitalisation to automation, weƒ??re cha...   \n",
      "2     Siemens  Are you interested in what Siemens does and wh...   \n",
      "3     Siemens  The most powerful HVDC transformer in the worl...   \n",
      "4     Siemens  Articolul complet pe site: https://cavaleria.r...   \n",
      "\n",
      "                               localized.description  \\\n",
      "0  15 Things You Didn't Know About SIEMENS | SUBS...   \n",
      "1  From digitalisation to automation, weƒ??re cha...   \n",
      "2  Are you interested in what Siemens does and wh...   \n",
      "3  The most powerful HVDC transformer in the worl...   \n",
      "4  Articolul complet pe site: https://cavaleria.r...   \n",
      "\n",
      "                                     localized.title  \\\n",
      "0            15 Things You Didn't Know About SIEMENS   \n",
      "1                What is it like to work at Siemens?   \n",
      "2                  Siemens - More than just business   \n",
      "3  Siemens presents: The first 1,100 kV HVDC Tran...   \n",
      "4  Ce ??nseamnŽŸ sŽŸ lucrezi la Siemens - Cavaler...   \n",
      "\n",
      "                                                tags  \\\n",
      "0  ['Alux', 'Alux.com', 'Alux Youtube', 'luxury l...   \n",
      "1  ['Siemens', 'Siemens UK', 'careers', 'jobs', '...   \n",
      "2  ['SIEMENS', 'products', 'Energy', 'Healthcare'...   \n",
      "3  ['Siemens', 'HVDC', 'Transformer', '1100kV', '...   \n",
      "4  ['Cavaleria.ro', 'hacking', 'siemens', 'job', ...   \n",
      "\n",
      "                                               title  target  \n",
      "0            15 Things You Didn't Know About SIEMENS       0  \n",
      "1                What is it like to work at Siemens?       0  \n",
      "2                  Siemens - More than just business       0  \n",
      "3  Siemens presents: The first 1,100 kV HVDC Tran...       2  \n",
      "4  Ce ??nseamnŽŸ sŽŸ lucrezi la Siemens - Cavaler...       0  \n"
     ]
    }
   ],
   "source": [
    "%store -r word_df\n",
    "\n",
    "import pickle\n",
    "import pandas as pd\n",
    "import numpy as np\n",
    "\n",
    "# pickle.dump(word_df, fileObject)\n",
    "# b = pickle.load(fileObject)\n",
    "\n",
    "print(word_df.shape)\n",
    "print(word_df.head())\n",
    "\n"
   ]
  },
  {
   "cell_type": "code",
   "execution_count": 2,
   "metadata": {},
   "outputs": [
    {
     "name": "stdout",
     "output_type": "stream",
     "text": [
      "True\n",
      "False\n",
      "974\n"
     ]
    }
   ],
   "source": [
    "# #Check to see if these two columns are the same\n",
    "print(word_df['localized.title'].equals(word_df['title']))\n",
    "print(word_df['localized.description'].equals(word_df['description']))\n",
    "print(np.count_nonzero(word_df['localized.description']==(word_df['description'])))"
   ]
  },
  {
   "cell_type": "code",
   "execution_count": 3,
   "metadata": {},
   "outputs": [],
   "source": [
    "# Almost all descriptions are the same, so go ahead and drop one of the columns\n",
    "word_df = word_df.drop(columns=['localized.title'])\n",
    "word_df = word_df.drop(columns=['localized.description'])"
   ]
  },
  {
   "cell_type": "code",
   "execution_count": 4,
   "metadata": {},
   "outputs": [],
   "source": [
    "sample = word_df[['description','tags','title']]\n"
   ]
  },
  {
   "cell_type": "code",
   "execution_count": 5,
   "metadata": {},
   "outputs": [
    {
     "data": {
      "text/html": [
       "<div>\n",
       "<style scoped>\n",
       "    .dataframe tbody tr th:only-of-type {\n",
       "        vertical-align: middle;\n",
       "    }\n",
       "\n",
       "    .dataframe tbody tr th {\n",
       "        vertical-align: top;\n",
       "    }\n",
       "\n",
       "    .dataframe thead tr th {\n",
       "        text-align: left;\n",
       "    }\n",
       "\n",
       "    .dataframe thead tr:last-of-type th {\n",
       "        text-align: right;\n",
       "    }\n",
       "</style>\n",
       "<table border=\"1\" class=\"dataframe\">\n",
       "  <thead>\n",
       "    <tr>\n",
       "      <th></th>\n",
       "      <th colspan=\"8\" halign=\"left\">target</th>\n",
       "    </tr>\n",
       "    <tr>\n",
       "      <th></th>\n",
       "      <th>count</th>\n",
       "      <th>mean</th>\n",
       "      <th>std</th>\n",
       "      <th>min</th>\n",
       "      <th>25%</th>\n",
       "      <th>50%</th>\n",
       "      <th>75%</th>\n",
       "      <th>max</th>\n",
       "    </tr>\n",
       "    <tr>\n",
       "      <th>search_word</th>\n",
       "      <th></th>\n",
       "      <th></th>\n",
       "      <th></th>\n",
       "      <th></th>\n",
       "      <th></th>\n",
       "      <th></th>\n",
       "      <th></th>\n",
       "      <th></th>\n",
       "    </tr>\n",
       "  </thead>\n",
       "  <tbody>\n",
       "    <tr>\n",
       "      <th>Siemens</th>\n",
       "      <td>50.0</td>\n",
       "      <td>0.100000</td>\n",
       "      <td>0.416497</td>\n",
       "      <td>0.0</td>\n",
       "      <td>0.00</td>\n",
       "      <td>0.0</td>\n",
       "      <td>0.00</td>\n",
       "      <td>2.0</td>\n",
       "    </tr>\n",
       "    <tr>\n",
       "      <th>cats</th>\n",
       "      <td>50.0</td>\n",
       "      <td>1.900000</td>\n",
       "      <td>1.865366</td>\n",
       "      <td>0.0</td>\n",
       "      <td>0.00</td>\n",
       "      <td>1.5</td>\n",
       "      <td>3.75</td>\n",
       "      <td>5.0</td>\n",
       "    </tr>\n",
       "    <tr>\n",
       "      <th>christmas</th>\n",
       "      <td>50.0</td>\n",
       "      <td>1.820000</td>\n",
       "      <td>1.534501</td>\n",
       "      <td>0.0</td>\n",
       "      <td>0.00</td>\n",
       "      <td>2.0</td>\n",
       "      <td>3.00</td>\n",
       "      <td>5.0</td>\n",
       "    </tr>\n",
       "    <tr>\n",
       "      <th>donald trump</th>\n",
       "      <td>50.0</td>\n",
       "      <td>1.200000</td>\n",
       "      <td>1.069045</td>\n",
       "      <td>0.0</td>\n",
       "      <td>0.00</td>\n",
       "      <td>1.0</td>\n",
       "      <td>2.00</td>\n",
       "      <td>4.0</td>\n",
       "    </tr>\n",
       "    <tr>\n",
       "      <th>dude perfect</th>\n",
       "      <td>50.0</td>\n",
       "      <td>2.940000</td>\n",
       "      <td>2.410944</td>\n",
       "      <td>0.0</td>\n",
       "      <td>0.00</td>\n",
       "      <td>5.0</td>\n",
       "      <td>5.00</td>\n",
       "      <td>5.0</td>\n",
       "    </tr>\n",
       "    <tr>\n",
       "      <th>gaming</th>\n",
       "      <td>50.0</td>\n",
       "      <td>2.260000</td>\n",
       "      <td>1.337222</td>\n",
       "      <td>0.0</td>\n",
       "      <td>2.00</td>\n",
       "      <td>2.0</td>\n",
       "      <td>3.75</td>\n",
       "      <td>4.0</td>\n",
       "    </tr>\n",
       "    <tr>\n",
       "      <th>golf</th>\n",
       "      <td>50.0</td>\n",
       "      <td>0.920000</td>\n",
       "      <td>0.944155</td>\n",
       "      <td>0.0</td>\n",
       "      <td>0.00</td>\n",
       "      <td>1.0</td>\n",
       "      <td>1.00</td>\n",
       "      <td>4.0</td>\n",
       "    </tr>\n",
       "    <tr>\n",
       "      <th>horror</th>\n",
       "      <td>50.0</td>\n",
       "      <td>1.960000</td>\n",
       "      <td>1.524762</td>\n",
       "      <td>0.0</td>\n",
       "      <td>1.00</td>\n",
       "      <td>2.0</td>\n",
       "      <td>3.00</td>\n",
       "      <td>5.0</td>\n",
       "    </tr>\n",
       "    <tr>\n",
       "      <th>iphone</th>\n",
       "      <td>50.0</td>\n",
       "      <td>1.860000</td>\n",
       "      <td>1.428714</td>\n",
       "      <td>0.0</td>\n",
       "      <td>1.00</td>\n",
       "      <td>1.0</td>\n",
       "      <td>3.00</td>\n",
       "      <td>5.0</td>\n",
       "    </tr>\n",
       "    <tr>\n",
       "      <th>laugh</th>\n",
       "      <td>50.0</td>\n",
       "      <td>1.880000</td>\n",
       "      <td>1.437685</td>\n",
       "      <td>0.0</td>\n",
       "      <td>1.00</td>\n",
       "      <td>2.0</td>\n",
       "      <td>3.00</td>\n",
       "      <td>5.0</td>\n",
       "    </tr>\n",
       "    <tr>\n",
       "      <th>mac</th>\n",
       "      <td>50.0</td>\n",
       "      <td>1.220000</td>\n",
       "      <td>1.568699</td>\n",
       "      <td>0.0</td>\n",
       "      <td>0.00</td>\n",
       "      <td>1.0</td>\n",
       "      <td>2.00</td>\n",
       "      <td>5.0</td>\n",
       "    </tr>\n",
       "    <tr>\n",
       "      <th>mars</th>\n",
       "      <td>50.0</td>\n",
       "      <td>1.560000</td>\n",
       "      <td>1.145711</td>\n",
       "      <td>0.0</td>\n",
       "      <td>1.00</td>\n",
       "      <td>2.0</td>\n",
       "      <td>2.00</td>\n",
       "      <td>4.0</td>\n",
       "    </tr>\n",
       "    <tr>\n",
       "      <th>minecraft</th>\n",
       "      <td>50.0</td>\n",
       "      <td>2.160000</td>\n",
       "      <td>1.184250</td>\n",
       "      <td>0.0</td>\n",
       "      <td>1.25</td>\n",
       "      <td>2.0</td>\n",
       "      <td>3.00</td>\n",
       "      <td>4.0</td>\n",
       "    </tr>\n",
       "    <tr>\n",
       "      <th>movies</th>\n",
       "      <td>50.0</td>\n",
       "      <td>2.800000</td>\n",
       "      <td>1.818275</td>\n",
       "      <td>0.0</td>\n",
       "      <td>1.25</td>\n",
       "      <td>3.0</td>\n",
       "      <td>4.00</td>\n",
       "      <td>5.0</td>\n",
       "    </tr>\n",
       "    <tr>\n",
       "      <th>music</th>\n",
       "      <td>40.0</td>\n",
       "      <td>2.275000</td>\n",
       "      <td>2.112084</td>\n",
       "      <td>0.0</td>\n",
       "      <td>0.00</td>\n",
       "      <td>2.5</td>\n",
       "      <td>4.25</td>\n",
       "      <td>5.0</td>\n",
       "    </tr>\n",
       "    <tr>\n",
       "      <th>python</th>\n",
       "      <td>50.0</td>\n",
       "      <td>1.400000</td>\n",
       "      <td>1.538619</td>\n",
       "      <td>0.0</td>\n",
       "      <td>0.00</td>\n",
       "      <td>1.0</td>\n",
       "      <td>2.00</td>\n",
       "      <td>5.0</td>\n",
       "    </tr>\n",
       "    <tr>\n",
       "      <th>speedrun</th>\n",
       "      <td>50.0</td>\n",
       "      <td>1.160000</td>\n",
       "      <td>1.330337</td>\n",
       "      <td>0.0</td>\n",
       "      <td>0.00</td>\n",
       "      <td>1.0</td>\n",
       "      <td>2.00</td>\n",
       "      <td>4.0</td>\n",
       "    </tr>\n",
       "    <tr>\n",
       "      <th>sports</th>\n",
       "      <td>49.0</td>\n",
       "      <td>1.653061</td>\n",
       "      <td>1.422308</td>\n",
       "      <td>0.0</td>\n",
       "      <td>0.00</td>\n",
       "      <td>2.0</td>\n",
       "      <td>2.00</td>\n",
       "      <td>5.0</td>\n",
       "    </tr>\n",
       "    <tr>\n",
       "      <th>vacation</th>\n",
       "      <td>50.0</td>\n",
       "      <td>1.000000</td>\n",
       "      <td>1.442786</td>\n",
       "      <td>0.0</td>\n",
       "      <td>0.00</td>\n",
       "      <td>0.0</td>\n",
       "      <td>2.00</td>\n",
       "      <td>5.0</td>\n",
       "    </tr>\n",
       "    <tr>\n",
       "      <th>video blogging</th>\n",
       "      <td>50.0</td>\n",
       "      <td>0.200000</td>\n",
       "      <td>0.606092</td>\n",
       "      <td>0.0</td>\n",
       "      <td>0.00</td>\n",
       "      <td>0.0</td>\n",
       "      <td>0.00</td>\n",
       "      <td>3.0</td>\n",
       "    </tr>\n",
       "  </tbody>\n",
       "</table>\n",
       "</div>"
      ],
      "text/plain": [
       "               target                                               \n",
       "                count      mean       std  min   25%  50%   75%  max\n",
       "search_word                                                         \n",
       "Siemens          50.0  0.100000  0.416497  0.0  0.00  0.0  0.00  2.0\n",
       "cats             50.0  1.900000  1.865366  0.0  0.00  1.5  3.75  5.0\n",
       "christmas        50.0  1.820000  1.534501  0.0  0.00  2.0  3.00  5.0\n",
       "donald trump     50.0  1.200000  1.069045  0.0  0.00  1.0  2.00  4.0\n",
       "dude perfect     50.0  2.940000  2.410944  0.0  0.00  5.0  5.00  5.0\n",
       "gaming           50.0  2.260000  1.337222  0.0  2.00  2.0  3.75  4.0\n",
       "golf             50.0  0.920000  0.944155  0.0  0.00  1.0  1.00  4.0\n",
       "horror           50.0  1.960000  1.524762  0.0  1.00  2.0  3.00  5.0\n",
       "iphone           50.0  1.860000  1.428714  0.0  1.00  1.0  3.00  5.0\n",
       "laugh            50.0  1.880000  1.437685  0.0  1.00  2.0  3.00  5.0\n",
       "mac              50.0  1.220000  1.568699  0.0  0.00  1.0  2.00  5.0\n",
       "mars             50.0  1.560000  1.145711  0.0  1.00  2.0  2.00  4.0\n",
       "minecraft        50.0  2.160000  1.184250  0.0  1.25  2.0  3.00  4.0\n",
       "movies           50.0  2.800000  1.818275  0.0  1.25  3.0  4.00  5.0\n",
       "music            40.0  2.275000  2.112084  0.0  0.00  2.5  4.25  5.0\n",
       "python           50.0  1.400000  1.538619  0.0  0.00  1.0  2.00  5.0\n",
       "speedrun         50.0  1.160000  1.330337  0.0  0.00  1.0  2.00  4.0\n",
       "sports           49.0  1.653061  1.422308  0.0  0.00  2.0  2.00  5.0\n",
       "vacation         50.0  1.000000  1.442786  0.0  0.00  0.0  2.00  5.0\n",
       "video blogging   50.0  0.200000  0.606092  0.0  0.00  0.0  0.00  3.0"
      ]
     },
     "execution_count": 5,
     "metadata": {},
     "output_type": "execute_result"
    }
   ],
   "source": [
    "word_df.groupby('search_word').describe()"
   ]
  },
  {
   "cell_type": "code",
   "execution_count": 6,
   "metadata": {},
   "outputs": [
    {
     "data": {
      "text/html": [
       "<div>\n",
       "<style scoped>\n",
       "    .dataframe tbody tr th:only-of-type {\n",
       "        vertical-align: middle;\n",
       "    }\n",
       "\n",
       "    .dataframe tbody tr th {\n",
       "        vertical-align: top;\n",
       "    }\n",
       "\n",
       "    .dataframe thead th {\n",
       "        text-align: right;\n",
       "    }\n",
       "</style>\n",
       "<table border=\"1\" class=\"dataframe\">\n",
       "  <thead>\n",
       "    <tr style=\"text-align: right;\">\n",
       "      <th></th>\n",
       "      <th>search_word</th>\n",
       "      <th>description</th>\n",
       "      <th>tags</th>\n",
       "      <th>title</th>\n",
       "      <th>target</th>\n",
       "    </tr>\n",
       "  </thead>\n",
       "  <tbody>\n",
       "    <tr>\n",
       "      <th>0</th>\n",
       "      <td>Siemens</td>\n",
       "      <td>15 Things You Didn't Know About SIEMENS | SUBS...</td>\n",
       "      <td>['Alux', 'Alux.com', 'Alux Youtube', 'luxury l...</td>\n",
       "      <td>15 Things You Didn't Know About SIEMENS</td>\n",
       "      <td>0</td>\n",
       "    </tr>\n",
       "    <tr>\n",
       "      <th>1</th>\n",
       "      <td>Siemens</td>\n",
       "      <td>From digitalisation to automation, weƒ??re cha...</td>\n",
       "      <td>['Siemens', 'Siemens UK', 'careers', 'jobs', '...</td>\n",
       "      <td>What is it like to work at Siemens?</td>\n",
       "      <td>0</td>\n",
       "    </tr>\n",
       "    <tr>\n",
       "      <th>2</th>\n",
       "      <td>Siemens</td>\n",
       "      <td>Are you interested in what Siemens does and wh...</td>\n",
       "      <td>['SIEMENS', 'products', 'Energy', 'Healthcare'...</td>\n",
       "      <td>Siemens - More than just business</td>\n",
       "      <td>0</td>\n",
       "    </tr>\n",
       "    <tr>\n",
       "      <th>3</th>\n",
       "      <td>Siemens</td>\n",
       "      <td>The most powerful HVDC transformer in the worl...</td>\n",
       "      <td>['Siemens', 'HVDC', 'Transformer', '1100kV', '...</td>\n",
       "      <td>Siemens presents: The first 1,100 kV HVDC Tran...</td>\n",
       "      <td>2</td>\n",
       "    </tr>\n",
       "    <tr>\n",
       "      <th>4</th>\n",
       "      <td>Siemens</td>\n",
       "      <td>Articolul complet pe site: https://cavaleria.r...</td>\n",
       "      <td>['Cavaleria.ro', 'hacking', 'siemens', 'job', ...</td>\n",
       "      <td>Ce ??nseamnŽŸ sŽŸ lucrezi la Siemens - Cavaler...</td>\n",
       "      <td>0</td>\n",
       "    </tr>\n",
       "  </tbody>\n",
       "</table>\n",
       "</div>"
      ],
      "text/plain": [
       "  search_word                                        description  \\\n",
       "0     Siemens  15 Things You Didn't Know About SIEMENS | SUBS...   \n",
       "1     Siemens  From digitalisation to automation, weƒ??re cha...   \n",
       "2     Siemens  Are you interested in what Siemens does and wh...   \n",
       "3     Siemens  The most powerful HVDC transformer in the worl...   \n",
       "4     Siemens  Articolul complet pe site: https://cavaleria.r...   \n",
       "\n",
       "                                                tags  \\\n",
       "0  ['Alux', 'Alux.com', 'Alux Youtube', 'luxury l...   \n",
       "1  ['Siemens', 'Siemens UK', 'careers', 'jobs', '...   \n",
       "2  ['SIEMENS', 'products', 'Energy', 'Healthcare'...   \n",
       "3  ['Siemens', 'HVDC', 'Transformer', '1100kV', '...   \n",
       "4  ['Cavaleria.ro', 'hacking', 'siemens', 'job', ...   \n",
       "\n",
       "                                               title  target  \n",
       "0            15 Things You Didn't Know About SIEMENS       0  \n",
       "1                What is it like to work at Siemens?       0  \n",
       "2                  Siemens - More than just business       0  \n",
       "3  Siemens presents: The first 1,100 kV HVDC Tran...       2  \n",
       "4  Ce ??nseamnŽŸ sŽŸ lucrezi la Siemens - Cavaler...       0  "
      ]
     },
     "execution_count": 6,
     "metadata": {},
     "output_type": "execute_result"
    }
   ],
   "source": [
    "word_df.head(5)"
   ]
  },
  {
   "cell_type": "code",
   "execution_count": 7,
   "metadata": {},
   "outputs": [],
   "source": [
    "word_df['description'] = word_df['description'].astype(str)\n",
    "word_df['tags'] = word_df['tags'].astype(str)"
   ]
  },
  {
   "cell_type": "code",
   "execution_count": 8,
   "metadata": {},
   "outputs": [],
   "source": [
    "import string\n",
    "exp1_df = pd.DataFrame()\n",
    "exp1_df['title_char_count'] = word_df['title'].apply(len)\n",
    "exp1_df['title_word_count'] = word_df['title'].apply(lambda x: len(x.split()))\n",
    "exp1_df['title_word_density'] = exp1_df['title_char_count'] / (exp1_df['title_word_count']+1)\n",
    "exp1_df['title_punctuation_count'] = word_df['title'].apply(lambda x: len(\"\".join(_ for _ in x if _ in string.punctuation))) \n",
    "exp1_df['title_title_word_count'] = word_df['title'].apply(lambda x: len([wrd for wrd in x.split() if wrd.istitle()]))\n",
    "exp1_df['title_upper_case_word_count'] = word_df['title'].apply(lambda x: len([wrd for wrd in x.split() if wrd.isupper()]))"
   ]
  },
  {
   "cell_type": "code",
   "execution_count": 9,
   "metadata": {},
   "outputs": [],
   "source": [
    "exp1_df['desc_char_count'] = word_df['description'].apply(len)\n",
    "exp1_df['desc_word_count'] = word_df['description'].apply(lambda x: len(x.split()))\n",
    "exp1_df['desc_word_density'] = exp1_df['desc_char_count'] / (exp1_df['desc_word_count']+1)\n",
    "exp1_df['desc_punctuation_count'] = word_df['description'].apply(lambda x: len(\"\".join(_ for _ in x if _ in string.punctuation))) \n",
    "exp1_df['desc_title_word_count'] = word_df['description'].apply(lambda x: len([wrd for wrd in x.split() if wrd.istitle()]))\n",
    "exp1_df['desc_upper_case_word_count'] = word_df['description'].apply(lambda x: len([wrd for wrd in x.split() if wrd.isupper()]))"
   ]
  },
  {
   "cell_type": "code",
   "execution_count": 10,
   "metadata": {},
   "outputs": [],
   "source": [
    "# Chosen to exclude Punctuation count for tags list since this column is a list format\n",
    "exp1_df['tags_char_count'] = word_df['tags'].apply(len)\n",
    "exp1_df['tags_word_count'] = word_df['tags'].apply(lambda x: len(x.split()))\n",
    "exp1_df['tags_word_density'] = exp1_df['tags_char_count'] / (exp1_df['tags_word_count']+1)\n",
    "exp1_df['tags_title_word_count'] = word_df['tags'].apply(lambda x: len([wrd for wrd in x.split() if wrd.istitle()]))\n",
    "exp1_df['desc_upper_case_word_count'] = word_df['tags'].apply(lambda x: len([wrd for wrd in x.split() if wrd.isupper()]))"
   ]
  },
  {
   "cell_type": "code",
   "execution_count": 11,
   "metadata": {},
   "outputs": [],
   "source": [
    "# Add target column to experiment 1 dataframe\n",
    "exp1_df['target'] = word_df['target']"
   ]
  },
  {
   "cell_type": "code",
   "execution_count": 12,
   "metadata": {},
   "outputs": [
    {
     "data": {
      "text/html": [
       "<div>\n",
       "<style scoped>\n",
       "    .dataframe tbody tr th:only-of-type {\n",
       "        vertical-align: middle;\n",
       "    }\n",
       "\n",
       "    .dataframe tbody tr th {\n",
       "        vertical-align: top;\n",
       "    }\n",
       "\n",
       "    .dataframe thead th {\n",
       "        text-align: right;\n",
       "    }\n",
       "</style>\n",
       "<table border=\"1\" class=\"dataframe\">\n",
       "  <thead>\n",
       "    <tr style=\"text-align: right;\">\n",
       "      <th></th>\n",
       "      <th>title_char_count</th>\n",
       "      <th>title_word_count</th>\n",
       "      <th>title_word_density</th>\n",
       "      <th>title_punctuation_count</th>\n",
       "      <th>title_title_word_count</th>\n",
       "      <th>title_upper_case_word_count</th>\n",
       "      <th>desc_char_count</th>\n",
       "      <th>desc_word_count</th>\n",
       "      <th>desc_word_density</th>\n",
       "      <th>desc_punctuation_count</th>\n",
       "      <th>desc_title_word_count</th>\n",
       "      <th>desc_upper_case_word_count</th>\n",
       "      <th>tags_char_count</th>\n",
       "      <th>tags_word_count</th>\n",
       "      <th>tags_word_density</th>\n",
       "      <th>tags_title_word_count</th>\n",
       "      <th>target</th>\n",
       "    </tr>\n",
       "  </thead>\n",
       "  <tbody>\n",
       "    <tr>\n",
       "      <th>0</th>\n",
       "      <td>39</td>\n",
       "      <td>7</td>\n",
       "      <td>4.875000</td>\n",
       "      <td>1</td>\n",
       "      <td>4</td>\n",
       "      <td>1</td>\n",
       "      <td>2589</td>\n",
       "      <td>238</td>\n",
       "      <td>10.832636</td>\n",
       "      <td>242</td>\n",
       "      <td>61</td>\n",
       "      <td>0</td>\n",
       "      <td>514</td>\n",
       "      <td>57</td>\n",
       "      <td>8.862069</td>\n",
       "      <td>11</td>\n",
       "      <td>0</td>\n",
       "    </tr>\n",
       "    <tr>\n",
       "      <th>1</th>\n",
       "      <td>35</td>\n",
       "      <td>8</td>\n",
       "      <td>3.888889</td>\n",
       "      <td>1</td>\n",
       "      <td>2</td>\n",
       "      <td>0</td>\n",
       "      <td>535</td>\n",
       "      <td>81</td>\n",
       "      <td>6.524390</td>\n",
       "      <td>24</td>\n",
       "      <td>7</td>\n",
       "      <td>1</td>\n",
       "      <td>162</td>\n",
       "      <td>15</td>\n",
       "      <td>10.125000</td>\n",
       "      <td>2</td>\n",
       "      <td>0</td>\n",
       "    </tr>\n",
       "    <tr>\n",
       "      <th>2</th>\n",
       "      <td>33</td>\n",
       "      <td>6</td>\n",
       "      <td>4.714286</td>\n",
       "      <td>1</td>\n",
       "      <td>2</td>\n",
       "      <td>0</td>\n",
       "      <td>293</td>\n",
       "      <td>46</td>\n",
       "      <td>6.234043</td>\n",
       "      <td>5</td>\n",
       "      <td>6</td>\n",
       "      <td>1</td>\n",
       "      <td>161</td>\n",
       "      <td>14</td>\n",
       "      <td>10.733333</td>\n",
       "      <td>5</td>\n",
       "      <td>0</td>\n",
       "    </tr>\n",
       "    <tr>\n",
       "      <th>3</th>\n",
       "      <td>68</td>\n",
       "      <td>10</td>\n",
       "      <td>6.181818</td>\n",
       "      <td>4</td>\n",
       "      <td>3</td>\n",
       "      <td>1</td>\n",
       "      <td>362</td>\n",
       "      <td>49</td>\n",
       "      <td>7.240000</td>\n",
       "      <td>16</td>\n",
       "      <td>3</td>\n",
       "      <td>1</td>\n",
       "      <td>96</td>\n",
       "      <td>9</td>\n",
       "      <td>9.600000</td>\n",
       "      <td>4</td>\n",
       "      <td>2</td>\n",
       "    </tr>\n",
       "    <tr>\n",
       "      <th>4</th>\n",
       "      <td>51</td>\n",
       "      <td>8</td>\n",
       "      <td>5.666667</td>\n",
       "      <td>4</td>\n",
       "      <td>2</td>\n",
       "      <td>0</td>\n",
       "      <td>207</td>\n",
       "      <td>14</td>\n",
       "      <td>13.800000</td>\n",
       "      <td>34</td>\n",
       "      <td>4</td>\n",
       "      <td>0</td>\n",
       "      <td>204</td>\n",
       "      <td>21</td>\n",
       "      <td>9.272727</td>\n",
       "      <td>0</td>\n",
       "      <td>0</td>\n",
       "    </tr>\n",
       "  </tbody>\n",
       "</table>\n",
       "</div>"
      ],
      "text/plain": [
       "   title_char_count  title_word_count  title_word_density  \\\n",
       "0                39                 7            4.875000   \n",
       "1                35                 8            3.888889   \n",
       "2                33                 6            4.714286   \n",
       "3                68                10            6.181818   \n",
       "4                51                 8            5.666667   \n",
       "\n",
       "   title_punctuation_count  title_title_word_count  \\\n",
       "0                        1                       4   \n",
       "1                        1                       2   \n",
       "2                        1                       2   \n",
       "3                        4                       3   \n",
       "4                        4                       2   \n",
       "\n",
       "   title_upper_case_word_count  desc_char_count  desc_word_count  \\\n",
       "0                            1             2589              238   \n",
       "1                            0              535               81   \n",
       "2                            0              293               46   \n",
       "3                            1              362               49   \n",
       "4                            0              207               14   \n",
       "\n",
       "   desc_word_density  desc_punctuation_count  desc_title_word_count  \\\n",
       "0          10.832636                     242                     61   \n",
       "1           6.524390                      24                      7   \n",
       "2           6.234043                       5                      6   \n",
       "3           7.240000                      16                      3   \n",
       "4          13.800000                      34                      4   \n",
       "\n",
       "   desc_upper_case_word_count  tags_char_count  tags_word_count  \\\n",
       "0                           0              514               57   \n",
       "1                           1              162               15   \n",
       "2                           1              161               14   \n",
       "3                           1               96                9   \n",
       "4                           0              204               21   \n",
       "\n",
       "   tags_word_density  tags_title_word_count  target  \n",
       "0           8.862069                     11       0  \n",
       "1          10.125000                      2       0  \n",
       "2          10.733333                      5       0  \n",
       "3           9.600000                      4       2  \n",
       "4           9.272727                      0       0  "
      ]
     },
     "execution_count": 12,
     "metadata": {},
     "output_type": "execute_result"
    }
   ],
   "source": [
    "exp1_df.head()"
   ]
  },
  {
   "cell_type": "code",
   "execution_count": 13,
   "metadata": {},
   "outputs": [
    {
     "name": "stdout",
     "output_type": "stream",
     "text": [
      "Observe frequency of title length.  Appears right skewed - average title length is 9.6 words\n"
     ]
    },
    {
     "data": {
      "text/plain": [
       "count    989.000000\n",
       "mean       9.688574\n",
       "std        3.804972\n",
       "min        1.000000\n",
       "25%        7.000000\n",
       "50%        9.000000\n",
       "75%       12.000000\n",
       "max       28.000000\n",
       "Name: title_word_count, dtype: float64"
      ]
     },
     "execution_count": 13,
     "metadata": {},
     "output_type": "execute_result"
    }
   ],
   "source": [
    "#Take a look at title word count distrubtion\n",
    "\n",
    "exp1_df['title_word_count'].plot(bins=50,kind = 'hist')\n",
    "print('Observe frequency of title length.  Appears right skewed - average title length is 9.6 words')\n",
    "\n",
    "exp1_df['title_word_count'].describe()"
   ]
  },
  {
   "cell_type": "code",
   "execution_count": 14,
   "metadata": {},
   "outputs": [
    {
     "name": "stdout",
     "output_type": "stream",
     "text": [
      "Observe frequency of description word count.  Appears right skewed - average description length is 148 words\n"
     ]
    },
    {
     "data": {
      "text/plain": [
       "count    989.000000\n",
       "mean     148.193124\n",
       "std      140.267761\n",
       "min        0.000000\n",
       "25%       47.000000\n",
       "50%      110.000000\n",
       "75%      197.000000\n",
       "max      840.000000\n",
       "Name: desc_word_count, dtype: float64"
      ]
     },
     "execution_count": 14,
     "metadata": {},
     "output_type": "execute_result"
    },
    {
     "data": {
      "image/png": "[encoded data removed]",
      "text/plain": [
       "<Figure size 432x288 with 1 Axes>"
      ]
     },
     "metadata": {
      "needs_background": "light"
     },
     "output_type": "display_data"
    }
   ],
   "source": [
    "#Take a look at title word count distrubtion\n",
    "\n",
    "exp1_df['desc_word_count'].plot(bins=50,kind = 'hist')\n",
    "print('Observe frequency of description word count.  Appears right skewed - average description length is 148 words')\n",
    "\n",
    "exp1_df['desc_word_count'].describe()"
   ]
  },
  {
   "cell_type": "code",
   "execution_count": 15,
   "metadata": {},
   "outputs": [
    {
     "name": "stdout",
     "output_type": "stream",
     "text": [
      "Observe frequency of tags word count. Average description length is 43.5 words\n"
     ]
    },
    {
     "data": {
      "text/plain": [
       "count    989.000000\n",
       "mean      43.445905\n",
       "std       24.918742\n",
       "min        1.000000\n",
       "25%       22.000000\n",
       "50%       47.000000\n",
       "75%       65.000000\n",
       "max       98.000000\n",
       "Name: tags_word_count, dtype: float64"
      ]
     },
     "execution_count": 15,
     "metadata": {},
     "output_type": "execute_result"
    },
    {
     "data": {
      "image/png": "[encoded data removed]",
      "text/plain": [
       "<Figure size 432x288 with 1 Axes>"
      ]
     },
     "metadata": {
      "needs_background": "light"
     },
     "output_type": "display_data"
    }
   ],
   "source": [
    "#Take a look at title word count distrubtion\n",
    "\n",
    "exp1_df['tags_word_count'].plot(bins=50,kind = 'hist')\n",
    "print('Observe frequency of tags word count. Average description length is 43.5 words')\n",
    "\n",
    "exp1_df['tags_word_count'].describe()"
   ]
  },
  {
   "cell_type": "code",
   "execution_count": 16,
   "metadata": {},
   "outputs": [
    {
     "name": "stdout",
     "output_type": "stream",
     "text": [
      "Interesting to see description word count leading, then tag count, then title count.\n"
     ]
    },
    {
     "data": {
      "image/png": "[encoded data removed]",
      "text/plain": [
       "<Figure size 432x288 with 1 Axes>"
      ]
     },
     "metadata": {
      "needs_background": "light"
     },
     "output_type": "display_data"
    }
   ],
   "source": [
    "#boxplot shows likeCounts tends to be higher\n",
    "import seaborn as sns\n",
    "stats_df = exp1_df[['desc_word_count','title_word_count','tags_word_count']].copy()\n",
    "ax = sns.boxplot(data=stats_df)\n",
    "ax.set(yscale=\"log\")\n",
    "print('Interesting to see description word count leading, then tag count, then title count.')"
   ]
  },
  {
   "cell_type": "code",
   "execution_count": 17,
   "metadata": {},
   "outputs": [
    {
     "name": "stdout",
     "output_type": "stream",
     "text": [
      "Very interesting to note black belt videos have higher average for description word count and also there are no outliers!  This tells me that black belt videos have a very strategic approach to description selection.  On the left hand side / lower ranks, we see feeble attempts at adding untargeted / noisy descriptions probably in the hopes of boosting view counts.   \n"
     ]
    },
    {
     "data": {
      "image/png": "[encoded data removed]",
      "text/plain": [
       "<Figure size 842.4x595.44 with 1 Axes>"
      ]
     },
     "metadata": {
      "needs_background": "light"
     },
     "output_type": "display_data"
    }
   ],
   "source": [
    "#Visualize count based features by belt color / ranking\n",
    "\n",
    "import matplotlib.pyplot as plt\n",
    "dims = (11.7, 8.27)\n",
    "fix, ax = plt.subplots(figsize= dims)\n",
    "my_pal = {0: \"y\", 1: \"w\", 2:\"b\", 3:\"purple\", 4:\"brown\", 5:\"k\"}\n",
    "g = sns.boxplot(x='target', y='desc_word_count', data = exp1_df, palette=my_pal)\n",
    "g.set_xticklabels(g.get_xticklabels(), rotation=90)\n",
    "for patch in g.artists:\n",
    "    r, g, b, a = patch.get_facecolor()\n",
    "    patch.set_facecolor((r, g, b, .3))\n",
    "\n",
    "\n",
    "\n",
    "plt.xlabel(\"Belt colors\")\n",
    "plt.ylabel(\"# of word counts for Description\")\n",
    "print('Very interesting to note black belt videos have higher average for description word count and also there are no outliers!  This tells me that black belt videos have a very strategic approach to description selection.  On the left hand side / lower ranks, we see feeble attempts at adding untargeted / noisy descriptions probably in the hopes of boosting view counts.   ')"
   ]
  },
  {
   "cell_type": "code",
   "execution_count": 18,
   "metadata": {},
   "outputs": [
    {
     "name": "stdout",
     "output_type": "stream",
     "text": [
      "Nothing interesting to note on title word count.\n"
     ]
    },
    {
     "data": {
      "image/png": "[encoded data removed]",
      "text/plain": [
       "<Figure size 432x288 with 1 Axes>"
      ]
     },
     "metadata": {
      "needs_background": "light"
     },
     "output_type": "display_data"
    }
   ],
   "source": [
    "g = sns.boxplot(x='target', y='title_word_count', data = exp1_df, palette=my_pal)\n",
    "g.set_xticklabels(g.get_xticklabels(), rotation=90)\n",
    "print('Nothing interesting to note on title word count.')\n",
    "for patch in g.artists:\n",
    "    r, g, b, a = patch.get_facecolor()\n",
    "    patch.set_facecolor((r, g, b, .3))\n"
   ]
  },
  {
   "cell_type": "code",
   "execution_count": 19,
   "metadata": {},
   "outputs": [
    {
     "name": "stdout",
     "output_type": "stream",
     "text": [
      "Slightly higher average for tags word count on black belt videos.\n"
     ]
    },
    {
     "data": {
      "image/png": "[encoded data removed]",
      "text/plain": [
       "<Figure size 432x288 with 1 Axes>"
      ]
     },
     "metadata": {
      "needs_background": "light"
     },
     "output_type": "display_data"
    }
   ],
   "source": [
    "g = sns.boxplot(x='target', y='tags_word_count', data = exp1_df, palette=my_pal)\n",
    "g.set_xticklabels(g.get_xticklabels(), rotation=90)\n",
    "print('Slightly higher average for tags word count on black belt videos.')\n",
    "for patch in g.artists:\n",
    "    r, g, b, a = patch.get_facecolor()\n",
    "    patch.set_facecolor((r, g, b, .3))"
   ]
  },
  {
   "cell_type": "code",
   "execution_count": 20,
   "metadata": {},
   "outputs": [
    {
     "name": "stdout",
     "output_type": "stream",
     "text": [
      "Stored 'word_df' (DataFrame)\n",
      "Stored 'exp1_df' (DataFrame)\n"
     ]
    }
   ],
   "source": [
    "%store word_df\n",
    "%store exp1_df\n",
    "\n"
   ]
  }
 ],
 "metadata": {
  "kernelspec": {
   "display_name": "Python 3",
   "language": "python",
   "name": "python3"
  },
  "language_info": {
   "codemirror_mode": {
    "name": "ipython",
    "version": 3
   },
   "file_extension": ".py",
   "mimetype": "text/x-python",
   "name": "python",
   "nbconvert_exporter": "python",
   "pygments_lexer": "ipython3",
   "version": "3.7.0"
  }
 },
 "nbformat": 4,
 "nbformat_minor": 2
}
