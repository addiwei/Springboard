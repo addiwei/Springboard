{
 "cells": [
  {
   "cell_type": "code",
   "execution_count": 1,
   "metadata": {},
   "outputs": [
    {
     "name": "stdout",
     "output_type": "stream",
     "text": [
      "(989, 5)\n",
      "  search_word                                        description  \\\n",
      "0     Siemens  15 Things You Didn't Know About SIEMENS | SUBS...   \n",
      "1     Siemens  From digitalisation to automation, weƒ??re cha...   \n",
      "2     Siemens  Are you interested in what Siemens does and wh...   \n",
      "3     Siemens  The most powerful HVDC transformer in the worl...   \n",
      "4     Siemens  Articolul complet pe site: https://cavaleria.r...   \n",
      "\n",
      "                                                tags  \\\n",
      "0  ['Alux', 'Alux.com', 'Alux Youtube', 'luxury l...   \n",
      "1  ['Siemens', 'Siemens UK', 'careers', 'jobs', '...   \n",
      "2  ['SIEMENS', 'products', 'Energy', 'Healthcare'...   \n",
      "3  ['Siemens', 'HVDC', 'Transformer', '1100kV', '...   \n",
      "4  ['Cavaleria.ro', 'hacking', 'siemens', 'job', ...   \n",
      "\n",
      "                                               title  target  \n",
      "0            15 Things You Didn't Know About SIEMENS       0  \n",
      "1                What is it like to work at Siemens?       0  \n",
      "2                  Siemens - More than just business       0  \n",
      "3  Siemens presents: The first 1,100 kV HVDC Tran...       2  \n",
      "4  Ce ??nseamnŽŸ sŽŸ lucrezi la Siemens - Cavaler...       0  \n"
     ]
    }
   ],
   "source": [
    "%store -r word_df\n",
    "\n",
    "import pickle\n",
    "import pandas as pd\n",
    "import numpy as np\n",
    "\n",
    "# pickle.dump(word_df, fileObject)\n",
    "# b = pickle.load(fileObject)\n",
    "\n",
    "print(word_df.shape)\n",
    "print(word_df.head())\n",
    "\n"
   ]
  },
  {
   "cell_type": "code",
   "execution_count": 2,
   "metadata": {},
   "outputs": [],
   "source": [
    "# #Check to see if these two columns are the same\n",
    "#print(word_df['localized.title'].equals(word_df['title']))\n",
    "#print(word_df['localized.description'].equals(word_df['description']))\n",
    "#print(np.count_nonzero(word_df['localized.description']==(word_df['description'])))"
   ]
  },
  {
   "cell_type": "code",
   "execution_count": 3,
   "metadata": {},
   "outputs": [],
   "source": [
    "# # Almost all descriptions are the same, so go ahead and drop one of the columns\n",
    "# word_df = word_df.drop(columns=['localized.title'])\n",
    "# word_df = word_df.drop(columns=['localized.description'])"
   ]
  },
  {
   "cell_type": "code",
   "execution_count": 4,
   "metadata": {},
   "outputs": [],
   "source": [
    "sample = word_df[['description','tags','title']]\n"
   ]
  },
  {
   "cell_type": "code",
   "execution_count": 5,
   "metadata": {},
   "outputs": [
    {
     "data": {
      "text/html": [
       "<div>\n",
       "<style scoped>\n",
       "    .dataframe tbody tr th:only-of-type {\n",
       "        vertical-align: middle;\n",
       "    }\n",
       "\n",
       "    .dataframe tbody tr th {\n",
       "        vertical-align: top;\n",
       "    }\n",
       "\n",
       "    .dataframe thead tr th {\n",
       "        text-align: left;\n",
       "    }\n",
       "\n",
       "    .dataframe thead tr:last-of-type th {\n",
       "        text-align: right;\n",
       "    }\n",
       "</style>\n",
       "<table border=\"1\" class=\"dataframe\">\n",
       "  <thead>\n",
       "    <tr>\n",
       "      <th></th>\n",
       "      <th colspan=\"8\" halign=\"left\">target</th>\n",
       "    </tr>\n",
       "    <tr>\n",
       "      <th></th>\n",
       "      <th>count</th>\n",
       "      <th>mean</th>\n",
       "      <th>std</th>\n",
       "      <th>min</th>\n",
       "      <th>25%</th>\n",
       "      <th>50%</th>\n",
       "      <th>75%</th>\n",
       "      <th>max</th>\n",
       "    </tr>\n",
       "    <tr>\n",
       "      <th>search_word</th>\n",
       "      <th></th>\n",
       "      <th></th>\n",
       "      <th></th>\n",
       "      <th></th>\n",
       "      <th></th>\n",
       "      <th></th>\n",
       "      <th></th>\n",
       "      <th></th>\n",
       "    </tr>\n",
       "  </thead>\n",
       "  <tbody>\n",
       "    <tr>\n",
       "      <th>Siemens</th>\n",
       "      <td>50.0</td>\n",
       "      <td>0.100000</td>\n",
       "      <td>0.416497</td>\n",
       "      <td>0.0</td>\n",
       "      <td>0.00</td>\n",
       "      <td>0.0</td>\n",
       "      <td>0.00</td>\n",
       "      <td>2.0</td>\n",
       "    </tr>\n",
       "    <tr>\n",
       "      <th>cats</th>\n",
       "      <td>50.0</td>\n",
       "      <td>1.900000</td>\n",
       "      <td>1.865366</td>\n",
       "      <td>0.0</td>\n",
       "      <td>0.00</td>\n",
       "      <td>1.5</td>\n",
       "      <td>3.75</td>\n",
       "      <td>5.0</td>\n",
       "    </tr>\n",
       "    <tr>\n",
       "      <th>christmas</th>\n",
       "      <td>50.0</td>\n",
       "      <td>1.820000</td>\n",
       "      <td>1.534501</td>\n",
       "      <td>0.0</td>\n",
       "      <td>0.00</td>\n",
       "      <td>2.0</td>\n",
       "      <td>3.00</td>\n",
       "      <td>5.0</td>\n",
       "    </tr>\n",
       "    <tr>\n",
       "      <th>donald trump</th>\n",
       "      <td>50.0</td>\n",
       "      <td>1.200000</td>\n",
       "      <td>1.069045</td>\n",
       "      <td>0.0</td>\n",
       "      <td>0.00</td>\n",
       "      <td>1.0</td>\n",
       "      <td>2.00</td>\n",
       "      <td>4.0</td>\n",
       "    </tr>\n",
       "    <tr>\n",
       "      <th>dude perfect</th>\n",
       "      <td>50.0</td>\n",
       "      <td>2.940000</td>\n",
       "      <td>2.410944</td>\n",
       "      <td>0.0</td>\n",
       "      <td>0.00</td>\n",
       "      <td>5.0</td>\n",
       "      <td>5.00</td>\n",
       "      <td>5.0</td>\n",
       "    </tr>\n",
       "    <tr>\n",
       "      <th>gaming</th>\n",
       "      <td>50.0</td>\n",
       "      <td>2.260000</td>\n",
       "      <td>1.337222</td>\n",
       "      <td>0.0</td>\n",
       "      <td>2.00</td>\n",
       "      <td>2.0</td>\n",
       "      <td>3.75</td>\n",
       "      <td>4.0</td>\n",
       "    </tr>\n",
       "    <tr>\n",
       "      <th>golf</th>\n",
       "      <td>50.0</td>\n",
       "      <td>0.920000</td>\n",
       "      <td>0.944155</td>\n",
       "      <td>0.0</td>\n",
       "      <td>0.00</td>\n",
       "      <td>1.0</td>\n",
       "      <td>1.00</td>\n",
       "      <td>4.0</td>\n",
       "    </tr>\n",
       "    <tr>\n",
       "      <th>horror</th>\n",
       "      <td>50.0</td>\n",
       "      <td>1.960000</td>\n",
       "      <td>1.524762</td>\n",
       "      <td>0.0</td>\n",
       "      <td>1.00</td>\n",
       "      <td>2.0</td>\n",
       "      <td>3.00</td>\n",
       "      <td>5.0</td>\n",
       "    </tr>\n",
       "    <tr>\n",
       "      <th>iphone</th>\n",
       "      <td>50.0</td>\n",
       "      <td>1.860000</td>\n",
       "      <td>1.428714</td>\n",
       "      <td>0.0</td>\n",
       "      <td>1.00</td>\n",
       "      <td>1.0</td>\n",
       "      <td>3.00</td>\n",
       "      <td>5.0</td>\n",
       "    </tr>\n",
       "    <tr>\n",
       "      <th>laugh</th>\n",
       "      <td>50.0</td>\n",
       "      <td>1.880000</td>\n",
       "      <td>1.437685</td>\n",
       "      <td>0.0</td>\n",
       "      <td>1.00</td>\n",
       "      <td>2.0</td>\n",
       "      <td>3.00</td>\n",
       "      <td>5.0</td>\n",
       "    </tr>\n",
       "    <tr>\n",
       "      <th>mac</th>\n",
       "      <td>50.0</td>\n",
       "      <td>1.220000</td>\n",
       "      <td>1.568699</td>\n",
       "      <td>0.0</td>\n",
       "      <td>0.00</td>\n",
       "      <td>1.0</td>\n",
       "      <td>2.00</td>\n",
       "      <td>5.0</td>\n",
       "    </tr>\n",
       "    <tr>\n",
       "      <th>mars</th>\n",
       "      <td>50.0</td>\n",
       "      <td>1.560000</td>\n",
       "      <td>1.145711</td>\n",
       "      <td>0.0</td>\n",
       "      <td>1.00</td>\n",
       "      <td>2.0</td>\n",
       "      <td>2.00</td>\n",
       "      <td>4.0</td>\n",
       "    </tr>\n",
       "    <tr>\n",
       "      <th>minecraft</th>\n",
       "      <td>50.0</td>\n",
       "      <td>2.160000</td>\n",
       "      <td>1.184250</td>\n",
       "      <td>0.0</td>\n",
       "      <td>1.25</td>\n",
       "      <td>2.0</td>\n",
       "      <td>3.00</td>\n",
       "      <td>4.0</td>\n",
       "    </tr>\n",
       "    <tr>\n",
       "      <th>movies</th>\n",
       "      <td>50.0</td>\n",
       "      <td>2.800000</td>\n",
       "      <td>1.818275</td>\n",
       "      <td>0.0</td>\n",
       "      <td>1.25</td>\n",
       "      <td>3.0</td>\n",
       "      <td>4.00</td>\n",
       "      <td>5.0</td>\n",
       "    </tr>\n",
       "    <tr>\n",
       "      <th>music</th>\n",
       "      <td>40.0</td>\n",
       "      <td>2.275000</td>\n",
       "      <td>2.112084</td>\n",
       "      <td>0.0</td>\n",
       "      <td>0.00</td>\n",
       "      <td>2.5</td>\n",
       "      <td>4.25</td>\n",
       "      <td>5.0</td>\n",
       "    </tr>\n",
       "    <tr>\n",
       "      <th>python</th>\n",
       "      <td>50.0</td>\n",
       "      <td>1.400000</td>\n",
       "      <td>1.538619</td>\n",
       "      <td>0.0</td>\n",
       "      <td>0.00</td>\n",
       "      <td>1.0</td>\n",
       "      <td>2.00</td>\n",
       "      <td>5.0</td>\n",
       "    </tr>\n",
       "    <tr>\n",
       "      <th>speedrun</th>\n",
       "      <td>50.0</td>\n",
       "      <td>1.160000</td>\n",
       "      <td>1.330337</td>\n",
       "      <td>0.0</td>\n",
       "      <td>0.00</td>\n",
       "      <td>1.0</td>\n",
       "      <td>2.00</td>\n",
       "      <td>4.0</td>\n",
       "    </tr>\n",
       "    <tr>\n",
       "      <th>sports</th>\n",
       "      <td>49.0</td>\n",
       "      <td>1.653061</td>\n",
       "      <td>1.422308</td>\n",
       "      <td>0.0</td>\n",
       "      <td>0.00</td>\n",
       "      <td>2.0</td>\n",
       "      <td>2.00</td>\n",
       "      <td>5.0</td>\n",
       "    </tr>\n",
       "    <tr>\n",
       "      <th>vacation</th>\n",
       "      <td>50.0</td>\n",
       "      <td>1.000000</td>\n",
       "      <td>1.442786</td>\n",
       "      <td>0.0</td>\n",
       "      <td>0.00</td>\n",
       "      <td>0.0</td>\n",
       "      <td>2.00</td>\n",
       "      <td>5.0</td>\n",
       "    </tr>\n",
       "    <tr>\n",
       "      <th>video blogging</th>\n",
       "      <td>50.0</td>\n",
       "      <td>0.200000</td>\n",
       "      <td>0.606092</td>\n",
       "      <td>0.0</td>\n",
       "      <td>0.00</td>\n",
       "      <td>0.0</td>\n",
       "      <td>0.00</td>\n",
       "      <td>3.0</td>\n",
       "    </tr>\n",
       "  </tbody>\n",
       "</table>\n",
       "</div>"
      ],
      "text/plain": [
       "               target                                               \n",
       "                count      mean       std  min   25%  50%   75%  max\n",
       "search_word                                                         \n",
       "Siemens          50.0  0.100000  0.416497  0.0  0.00  0.0  0.00  2.0\n",
       "cats             50.0  1.900000  1.865366  0.0  0.00  1.5  3.75  5.0\n",
       "christmas        50.0  1.820000  1.534501  0.0  0.00  2.0  3.00  5.0\n",
       "donald trump     50.0  1.200000  1.069045  0.0  0.00  1.0  2.00  4.0\n",
       "dude perfect     50.0  2.940000  2.410944  0.0  0.00  5.0  5.00  5.0\n",
       "gaming           50.0  2.260000  1.337222  0.0  2.00  2.0  3.75  4.0\n",
       "golf             50.0  0.920000  0.944155  0.0  0.00  1.0  1.00  4.0\n",
       "horror           50.0  1.960000  1.524762  0.0  1.00  2.0  3.00  5.0\n",
       "iphone           50.0  1.860000  1.428714  0.0  1.00  1.0  3.00  5.0\n",
       "laugh            50.0  1.880000  1.437685  0.0  1.00  2.0  3.00  5.0\n",
       "mac              50.0  1.220000  1.568699  0.0  0.00  1.0  2.00  5.0\n",
       "mars             50.0  1.560000  1.145711  0.0  1.00  2.0  2.00  4.0\n",
       "minecraft        50.0  2.160000  1.184250  0.0  1.25  2.0  3.00  4.0\n",
       "movies           50.0  2.800000  1.818275  0.0  1.25  3.0  4.00  5.0\n",
       "music            40.0  2.275000  2.112084  0.0  0.00  2.5  4.25  5.0\n",
       "python           50.0  1.400000  1.538619  0.0  0.00  1.0  2.00  5.0\n",
       "speedrun         50.0  1.160000  1.330337  0.0  0.00  1.0  2.00  4.0\n",
       "sports           49.0  1.653061  1.422308  0.0  0.00  2.0  2.00  5.0\n",
       "vacation         50.0  1.000000  1.442786  0.0  0.00  0.0  2.00  5.0\n",
       "video blogging   50.0  0.200000  0.606092  0.0  0.00  0.0  0.00  3.0"
      ]
     },
     "execution_count": 5,
     "metadata": {},
     "output_type": "execute_result"
    }
   ],
   "source": [
    "word_df.groupby('search_word').describe()"
   ]
  },
  {
   "cell_type": "code",
   "execution_count": 6,
   "metadata": {},
   "outputs": [
    {
     "data": {
      "text/html": [
       "<div>\n",
       "<style scoped>\n",
       "    .dataframe tbody tr th:only-of-type {\n",
       "        vertical-align: middle;\n",
       "    }\n",
       "\n",
       "    .dataframe tbody tr th {\n",
       "        vertical-align: top;\n",
       "    }\n",
       "\n",
       "    .dataframe thead th {\n",
       "        text-align: right;\n",
       "    }\n",
       "</style>\n",
       "<table border=\"1\" class=\"dataframe\">\n",
       "  <thead>\n",
       "    <tr style=\"text-align: right;\">\n",
       "      <th></th>\n",
       "      <th>search_word</th>\n",
       "      <th>description</th>\n",
       "      <th>tags</th>\n",
       "      <th>title</th>\n",
       "      <th>target</th>\n",
       "    </tr>\n",
       "  </thead>\n",
       "  <tbody>\n",
       "    <tr>\n",
       "      <th>0</th>\n",
       "      <td>Siemens</td>\n",
       "      <td>15 Things You Didn't Know About SIEMENS | SUBS...</td>\n",
       "      <td>['Alux', 'Alux.com', 'Alux Youtube', 'luxury l...</td>\n",
       "      <td>15 Things You Didn't Know About SIEMENS</td>\n",
       "      <td>0</td>\n",
       "    </tr>\n",
       "    <tr>\n",
       "      <th>1</th>\n",
       "      <td>Siemens</td>\n",
       "      <td>From digitalisation to automation, weƒ??re cha...</td>\n",
       "      <td>['Siemens', 'Siemens UK', 'careers', 'jobs', '...</td>\n",
       "      <td>What is it like to work at Siemens?</td>\n",
       "      <td>0</td>\n",
       "    </tr>\n",
       "    <tr>\n",
       "      <th>2</th>\n",
       "      <td>Siemens</td>\n",
       "      <td>Are you interested in what Siemens does and wh...</td>\n",
       "      <td>['SIEMENS', 'products', 'Energy', 'Healthcare'...</td>\n",
       "      <td>Siemens - More than just business</td>\n",
       "      <td>0</td>\n",
       "    </tr>\n",
       "    <tr>\n",
       "      <th>3</th>\n",
       "      <td>Siemens</td>\n",
       "      <td>The most powerful HVDC transformer in the worl...</td>\n",
       "      <td>['Siemens', 'HVDC', 'Transformer', '1100kV', '...</td>\n",
       "      <td>Siemens presents: The first 1,100 kV HVDC Tran...</td>\n",
       "      <td>2</td>\n",
       "    </tr>\n",
       "    <tr>\n",
       "      <th>4</th>\n",
       "      <td>Siemens</td>\n",
       "      <td>Articolul complet pe site: https://cavaleria.r...</td>\n",
       "      <td>['Cavaleria.ro', 'hacking', 'siemens', 'job', ...</td>\n",
       "      <td>Ce ??nseamnŽŸ sŽŸ lucrezi la Siemens - Cavaler...</td>\n",
       "      <td>0</td>\n",
       "    </tr>\n",
       "  </tbody>\n",
       "</table>\n",
       "</div>"
      ],
      "text/plain": [
       "  search_word                                        description  \\\n",
       "0     Siemens  15 Things You Didn't Know About SIEMENS | SUBS...   \n",
       "1     Siemens  From digitalisation to automation, weƒ??re cha...   \n",
       "2     Siemens  Are you interested in what Siemens does and wh...   \n",
       "3     Siemens  The most powerful HVDC transformer in the worl...   \n",
       "4     Siemens  Articolul complet pe site: https://cavaleria.r...   \n",
       "\n",
       "                                                tags  \\\n",
       "0  ['Alux', 'Alux.com', 'Alux Youtube', 'luxury l...   \n",
       "1  ['Siemens', 'Siemens UK', 'careers', 'jobs', '...   \n",
       "2  ['SIEMENS', 'products', 'Energy', 'Healthcare'...   \n",
       "3  ['Siemens', 'HVDC', 'Transformer', '1100kV', '...   \n",
       "4  ['Cavaleria.ro', 'hacking', 'siemens', 'job', ...   \n",
       "\n",
       "                                               title  target  \n",
       "0            15 Things You Didn't Know About SIEMENS       0  \n",
       "1                What is it like to work at Siemens?       0  \n",
       "2                  Siemens - More than just business       0  \n",
       "3  Siemens presents: The first 1,100 kV HVDC Tran...       2  \n",
       "4  Ce ??nseamnŽŸ sŽŸ lucrezi la Siemens - Cavaler...       0  "
      ]
     },
     "execution_count": 6,
     "metadata": {},
     "output_type": "execute_result"
    }
   ],
   "source": [
    "word_df.head(5)"
   ]
  },
  {
   "cell_type": "code",
   "execution_count": 7,
   "metadata": {},
   "outputs": [],
   "source": [
    "word_df['description'] = word_df['description'].astype(str)\n",
    "word_df['tags'] = word_df['tags'].astype(str)"
   ]
  },
  {
   "cell_type": "code",
   "execution_count": 8,
   "metadata": {},
   "outputs": [],
   "source": [
    "import string\n",
    "\n",
    "from nltk.corpus import stopwords\n",
    "stop = stopwords.words('english')"
   ]
  },
  {
   "cell_type": "code",
   "execution_count": 9,
   "metadata": {},
   "outputs": [],
   "source": [
    "exp1_df = pd.DataFrame()\n",
    "exp1_df['title_char_count'] = word_df['title'].apply(len)\n",
    "exp1_df['title_word_count'] = word_df['title'].apply(lambda x: len(x.split()))\n",
    "exp1_df['title_word_density'] = exp1_df['title_char_count'] / (exp1_df['title_word_count']+1)\n",
    "exp1_df['title_punctuation_count'] = word_df['title'].apply(lambda x: len(\"\".join(_ for _ in x if _ in string.punctuation))) \n",
    "exp1_df['title_title_word_count'] = word_df['title'].apply(lambda x: len([wrd for wrd in x.split() if wrd.istitle()]))\n",
    "exp1_df['title_upper_case_word_count'] = word_df['title'].apply(lambda x: len([wrd for wrd in x.split() if wrd.isupper()]))\n",
    "exp1_df['title_stopwords_count'] = word_df['title'].apply(lambda x: len([x for x in x.split() if x in stop]))"
   ]
  },
  {
   "cell_type": "code",
   "execution_count": 10,
   "metadata": {},
   "outputs": [],
   "source": [
    "exp1_df['desc_char_count'] = word_df['description'].apply(len)\n",
    "exp1_df['desc_word_count'] = word_df['description'].apply(lambda x: len(x.split()))\n",
    "exp1_df['desc_word_density'] = exp1_df['desc_char_count'] / (exp1_df['desc_word_count']+1)\n",
    "exp1_df['desc_punctuation_count'] = word_df['description'].apply(lambda x: len(\"\".join(_ for _ in x if _ in string.punctuation))) \n",
    "exp1_df['desc_title_word_count'] = word_df['description'].apply(lambda x: len([wrd for wrd in x.split() if wrd.istitle()]))\n",
    "exp1_df['desc_upper_case_word_count'] = word_df['description'].apply(lambda x: len([wrd for wrd in x.split() if wrd.isupper()]))\n",
    "exp1_df['desc_stopwords_count'] = word_df['description'].apply(lambda x: len([x for x in x.split() if x in stop]))"
   ]
  },
  {
   "cell_type": "code",
   "execution_count": 11,
   "metadata": {},
   "outputs": [],
   "source": [
    "\n",
    "exp1_df['tags_char_count'] = word_df['tags'].apply(len)\n",
    "exp1_df['tags_word_count'] = word_df['tags'].apply(lambda x: len(x.split()))\n",
    "exp1_df['tags_word_density'] = exp1_df['tags_char_count'] / (exp1_df['tags_word_count']+1)\n",
    "exp1_df['tags_punctuation_count'] = word_df['tags'].apply(lambda x: len(\"\".join(_ for _ in x if _ in string.punctuation))) \n",
    "exp1_df['tags_title_word_count'] = word_df['tags'].apply(lambda x: len([wrd for wrd in x.split() if wrd.istitle()]))\n",
    "exp1_df['tags_upper_case_word_count'] = word_df['tags'].apply(lambda x: len([wrd for wrd in x.split() if wrd.isupper()]))\n",
    "exp1_df['tags_stopwords_count'] = word_df['tags'].apply(lambda x: len([x for x in x.split() if x in stop]))"
   ]
  },
  {
   "cell_type": "code",
   "execution_count": 12,
   "metadata": {},
   "outputs": [],
   "source": [
    "# Add target column to experiment 1 dataframe\n",
    "exp1_df['target'] = word_df['target']"
   ]
  },
  {
   "cell_type": "code",
   "execution_count": 13,
   "metadata": {},
   "outputs": [
    {
     "data": {
      "text/html": [
       "<div>\n",
       "<style scoped>\n",
       "    .dataframe tbody tr th:only-of-type {\n",
       "        vertical-align: middle;\n",
       "    }\n",
       "\n",
       "    .dataframe tbody tr th {\n",
       "        vertical-align: top;\n",
       "    }\n",
       "\n",
       "    .dataframe thead th {\n",
       "        text-align: right;\n",
       "    }\n",
       "</style>\n",
       "<table border=\"1\" class=\"dataframe\">\n",
       "  <thead>\n",
       "    <tr style=\"text-align: right;\">\n",
       "      <th></th>\n",
       "      <th>title_char_count</th>\n",
       "      <th>title_word_count</th>\n",
       "      <th>title_word_density</th>\n",
       "      <th>title_punctuation_count</th>\n",
       "      <th>title_title_word_count</th>\n",
       "      <th>title_upper_case_word_count</th>\n",
       "      <th>title_stopwords_count</th>\n",
       "      <th>desc_char_count</th>\n",
       "      <th>desc_word_count</th>\n",
       "      <th>desc_word_density</th>\n",
       "      <th>...</th>\n",
       "      <th>desc_upper_case_word_count</th>\n",
       "      <th>desc_stopwords_count</th>\n",
       "      <th>tags_char_count</th>\n",
       "      <th>tags_word_count</th>\n",
       "      <th>tags_word_density</th>\n",
       "      <th>tags_punctuation_count</th>\n",
       "      <th>tags_title_word_count</th>\n",
       "      <th>tags_upper_case_word_count</th>\n",
       "      <th>tags_stopwords_count</th>\n",
       "      <th>target</th>\n",
       "    </tr>\n",
       "  </thead>\n",
       "  <tbody>\n",
       "    <tr>\n",
       "      <th>0</th>\n",
       "      <td>39</td>\n",
       "      <td>7</td>\n",
       "      <td>4.875000</td>\n",
       "      <td>1</td>\n",
       "      <td>4</td>\n",
       "      <td>1</td>\n",
       "      <td>0</td>\n",
       "      <td>2589</td>\n",
       "      <td>238</td>\n",
       "      <td>10.832636</td>\n",
       "      <td>...</td>\n",
       "      <td>12</td>\n",
       "      <td>53</td>\n",
       "      <td>514</td>\n",
       "      <td>57</td>\n",
       "      <td>8.862069</td>\n",
       "      <td>90</td>\n",
       "      <td>11</td>\n",
       "      <td>0</td>\n",
       "      <td>3</td>\n",
       "      <td>0</td>\n",
       "    </tr>\n",
       "    <tr>\n",
       "      <th>1</th>\n",
       "      <td>35</td>\n",
       "      <td>8</td>\n",
       "      <td>3.888889</td>\n",
       "      <td>1</td>\n",
       "      <td>2</td>\n",
       "      <td>0</td>\n",
       "      <td>4</td>\n",
       "      <td>535</td>\n",
       "      <td>81</td>\n",
       "      <td>6.524390</td>\n",
       "      <td>...</td>\n",
       "      <td>2</td>\n",
       "      <td>31</td>\n",
       "      <td>162</td>\n",
       "      <td>15</td>\n",
       "      <td>10.125000</td>\n",
       "      <td>34</td>\n",
       "      <td>2</td>\n",
       "      <td>1</td>\n",
       "      <td>0</td>\n",
       "      <td>0</td>\n",
       "    </tr>\n",
       "    <tr>\n",
       "      <th>2</th>\n",
       "      <td>33</td>\n",
       "      <td>6</td>\n",
       "      <td>4.714286</td>\n",
       "      <td>1</td>\n",
       "      <td>2</td>\n",
       "      <td>0</td>\n",
       "      <td>2</td>\n",
       "      <td>293</td>\n",
       "      <td>46</td>\n",
       "      <td>6.234043</td>\n",
       "      <td>...</td>\n",
       "      <td>0</td>\n",
       "      <td>18</td>\n",
       "      <td>161</td>\n",
       "      <td>14</td>\n",
       "      <td>10.733333</td>\n",
       "      <td>35</td>\n",
       "      <td>5</td>\n",
       "      <td>1</td>\n",
       "      <td>0</td>\n",
       "      <td>0</td>\n",
       "    </tr>\n",
       "    <tr>\n",
       "      <th>3</th>\n",
       "      <td>68</td>\n",
       "      <td>10</td>\n",
       "      <td>6.181818</td>\n",
       "      <td>4</td>\n",
       "      <td>3</td>\n",
       "      <td>1</td>\n",
       "      <td>0</td>\n",
       "      <td>362</td>\n",
       "      <td>49</td>\n",
       "      <td>7.240000</td>\n",
       "      <td>...</td>\n",
       "      <td>2</td>\n",
       "      <td>16</td>\n",
       "      <td>96</td>\n",
       "      <td>9</td>\n",
       "      <td>9.600000</td>\n",
       "      <td>25</td>\n",
       "      <td>4</td>\n",
       "      <td>1</td>\n",
       "      <td>0</td>\n",
       "      <td>2</td>\n",
       "    </tr>\n",
       "    <tr>\n",
       "      <th>4</th>\n",
       "      <td>51</td>\n",
       "      <td>8</td>\n",
       "      <td>5.666667</td>\n",
       "      <td>4</td>\n",
       "      <td>2</td>\n",
       "      <td>0</td>\n",
       "      <td>0</td>\n",
       "      <td>207</td>\n",
       "      <td>14</td>\n",
       "      <td>13.800000</td>\n",
       "      <td>...</td>\n",
       "      <td>3</td>\n",
       "      <td>0</td>\n",
       "      <td>204</td>\n",
       "      <td>21</td>\n",
       "      <td>9.272727</td>\n",
       "      <td>44</td>\n",
       "      <td>0</td>\n",
       "      <td>0</td>\n",
       "      <td>0</td>\n",
       "      <td>0</td>\n",
       "    </tr>\n",
       "  </tbody>\n",
       "</table>\n",
       "<p>5 rows × 22 columns</p>\n",
       "</div>"
      ],
      "text/plain": [
       "   title_char_count  title_word_count  title_word_density  \\\n",
       "0                39                 7            4.875000   \n",
       "1                35                 8            3.888889   \n",
       "2                33                 6            4.714286   \n",
       "3                68                10            6.181818   \n",
       "4                51                 8            5.666667   \n",
       "\n",
       "   title_punctuation_count  title_title_word_count  \\\n",
       "0                        1                       4   \n",
       "1                        1                       2   \n",
       "2                        1                       2   \n",
       "3                        4                       3   \n",
       "4                        4                       2   \n",
       "\n",
       "   title_upper_case_word_count  title_stopwords_count  desc_char_count  \\\n",
       "0                            1                      0             2589   \n",
       "1                            0                      4              535   \n",
       "2                            0                      2              293   \n",
       "3                            1                      0              362   \n",
       "4                            0                      0              207   \n",
       "\n",
       "   desc_word_count  desc_word_density   ...    desc_upper_case_word_count  \\\n",
       "0              238          10.832636   ...                            12   \n",
       "1               81           6.524390   ...                             2   \n",
       "2               46           6.234043   ...                             0   \n",
       "3               49           7.240000   ...                             2   \n",
       "4               14          13.800000   ...                             3   \n",
       "\n",
       "   desc_stopwords_count  tags_char_count  tags_word_count  tags_word_density  \\\n",
       "0                    53              514               57           8.862069   \n",
       "1                    31              162               15          10.125000   \n",
       "2                    18              161               14          10.733333   \n",
       "3                    16               96                9           9.600000   \n",
       "4                     0              204               21           9.272727   \n",
       "\n",
       "   tags_punctuation_count  tags_title_word_count  tags_upper_case_word_count  \\\n",
       "0                      90                     11                           0   \n",
       "1                      34                      2                           1   \n",
       "2                      35                      5                           1   \n",
       "3                      25                      4                           1   \n",
       "4                      44                      0                           0   \n",
       "\n",
       "   tags_stopwords_count  target  \n",
       "0                     3       0  \n",
       "1                     0       0  \n",
       "2                     0       0  \n",
       "3                     0       2  \n",
       "4                     0       0  \n",
       "\n",
       "[5 rows x 22 columns]"
      ]
     },
     "execution_count": 13,
     "metadata": {},
     "output_type": "execute_result"
    }
   ],
   "source": [
    "exp1_df.head()"
   ]
  },
  {
   "cell_type": "code",
   "execution_count": 14,
   "metadata": {},
   "outputs": [
    {
     "name": "stdout",
     "output_type": "stream",
     "text": [
      "Observe frequency of title length.  Appears right skewed - average title length is 9.6 words\n"
     ]
    },
    {
     "data": {
      "text/plain": [
       "count    989.000000\n",
       "mean       9.688574\n",
       "std        3.804972\n",
       "min        1.000000\n",
       "25%        7.000000\n",
       "50%        9.000000\n",
       "75%       12.000000\n",
       "max       28.000000\n",
       "Name: title_word_count, dtype: float64"
      ]
     },
     "execution_count": 14,
     "metadata": {},
     "output_type": "execute_result"
    }
   ],
   "source": [
    "#Take a look at title word count distrubtion\n",
    "\n",
    "exp1_df['title_word_count'].plot(bins=50,kind = 'hist')\n",
    "print('Observe frequency of title length.  Appears right skewed - average title length is 9.6 words')\n",
    "\n",
    "exp1_df['title_word_count'].describe()"
   ]
  },
  {
   "cell_type": "code",
   "execution_count": 15,
   "metadata": {},
   "outputs": [
    {
     "name": "stdout",
     "output_type": "stream",
     "text": [
      "Observe frequency of description word count.  Appears right skewed - average description length is 148 words\n"
     ]
    },
    {
     "data": {
      "text/plain": [
       "count    989.000000\n",
       "mean     148.193124\n",
       "std      140.267761\n",
       "min        0.000000\n",
       "25%       47.000000\n",
       "50%      110.000000\n",
       "75%      197.000000\n",
       "max      840.000000\n",
       "Name: desc_word_count, dtype: float64"
      ]
     },
     "execution_count": 15,
     "metadata": {},
     "output_type": "execute_result"
    },
    {
     "data": {
      "image/png": "[encoded data removed]",
      "text/plain": [
       "<Figure size 432x288 with 1 Axes>"
      ]
     },
     "metadata": {
      "needs_background": "light"
     },
     "output_type": "display_data"
    }
   ],
   "source": [
    "#Take a look at title word count distrubtion\n",
    "\n",
    "exp1_df['desc_word_count'].plot(bins=50,kind = 'hist')\n",
    "print('Observe frequency of description word count.  Appears right skewed - average description length is 148 words')\n",
    "\n",
    "exp1_df['desc_word_count'].describe()"
   ]
  },
  {
   "cell_type": "code",
   "execution_count": 16,
   "metadata": {},
   "outputs": [
    {
     "name": "stdout",
     "output_type": "stream",
     "text": [
      "Observe frequency of tags word count. Average description length is 43.5 words\n"
     ]
    },
    {
     "data": {
      "text/plain": [
       "count    989.000000\n",
       "mean      43.445905\n",
       "std       24.918742\n",
       "min        1.000000\n",
       "25%       22.000000\n",
       "50%       47.000000\n",
       "75%       65.000000\n",
       "max       98.000000\n",
       "Name: tags_word_count, dtype: float64"
      ]
     },
     "execution_count": 16,
     "metadata": {},
     "output_type": "execute_result"
    },
    {
     "data": {
      "image/png": "[encoded data removed]",
      "text/plain": [
       "<Figure size 432x288 with 1 Axes>"
      ]
     },
     "metadata": {
      "needs_background": "light"
     },
     "output_type": "display_data"
    }
   ],
   "source": [
    "#Take a look at title word count distrubtion\n",
    "\n",
    "exp1_df['tags_word_count'].plot(bins=50,kind = 'hist')\n",
    "print('Observe frequency of tags word count. Average description length is 43.5 words')\n",
    "\n",
    "exp1_df['tags_word_count'].describe()"
   ]
  },
  {
   "cell_type": "code",
   "execution_count": 17,
   "metadata": {},
   "outputs": [
    {
     "name": "stdout",
     "output_type": "stream",
     "text": [
      "Title Density is smaller.  This is to be expected since there will be fewer word counts in a title\n"
     ]
    },
    {
     "data": {
      "image/png": "[encoded data removed]",
      "text/plain": [
       "<Figure size 432x288 with 1 Axes>"
      ]
     },
     "metadata": {
      "needs_background": "light"
     },
     "output_type": "display_data"
    }
   ],
   "source": [
    "import seaborn as sns\n",
    "\n",
    "#Study word density from three columns\n",
    "stats_df = exp1_df[['title_word_density','desc_word_density','tags_word_density']].copy()\n",
    "ax = sns.boxplot(data=stats_df)\n",
    "ax.set(yscale=\"log\")\n",
    "print('Title Density is smaller.  This is to be expected since there will be fewer word counts in a title')\n"
   ]
  },
  {
   "cell_type": "code",
   "execution_count": null,
   "metadata": {},
   "outputs": [],
   "source": []
  },
  {
   "cell_type": "code",
   "execution_count": 18,
   "metadata": {},
   "outputs": [
    {
     "name": "stdout",
     "output_type": "stream",
     "text": [
      "black belt videos have fewer characters\n"
     ]
    },
    {
     "data": {
      "image/png": "[encoded data removed]",
      "text/plain": [
       "<Figure size 842.4x595.44 with 1 Axes>"
      ]
     },
     "metadata": {
      "needs_background": "light"
     },
     "output_type": "display_data"
    }
   ],
   "source": [
    "# Do densities impact belt ranking?\n",
    "\n",
    "import matplotlib.pyplot as plt\n",
    "\n",
    "dims = (11.7, 8.27)\n",
    "fix, ax = plt.subplots(figsize= dims)\n",
    "my_pal = {0: \"y\", 1: \"w\", 2:\"b\", 3:\"purple\", 4:\"brown\", 5:\"k\"}\n",
    "g = sns.boxplot(x='target', y='title_char_count', data = exp1_df, palette=my_pal)\n",
    "g.set_xticklabels(g.get_xticklabels(), rotation=90)\n",
    "for patch in g.artists:\n",
    "    r, g, b, a = patch.get_facecolor()\n",
    "    patch.set_facecolor((r, g, b, .3))\n",
    "\n",
    "\n",
    "\n",
    "plt.xlabel(\"Belt colors\")\n",
    "plt.ylabel(\"title char count\")\n",
    "print('black belt videos have fewer characters')"
   ]
  },
  {
   "cell_type": "code",
   "execution_count": 19,
   "metadata": {},
   "outputs": [
    {
     "name": "stdout",
     "output_type": "stream",
     "text": [
      "black belt videos have fewer words\n"
     ]
    },
    {
     "data": {
      "image/png": "[encoded data removed]",
      "text/plain": [
       "<Figure size 842.4x595.44 with 1 Axes>"
      ]
     },
     "metadata": {
      "needs_background": "light"
     },
     "output_type": "display_data"
    }
   ],
   "source": [
    "fix, ax = plt.subplots(figsize= dims)\n",
    "my_pal = {0: \"y\", 1: \"w\", 2:\"b\", 3:\"purple\", 4:\"brown\", 5:\"k\"}\n",
    "g = sns.boxplot(x='target', y='title_word_count', data = exp1_df, palette=my_pal)\n",
    "g.set_xticklabels(g.get_xticklabels(), rotation=90)\n",
    "for patch in g.artists:\n",
    "    r, g, b, a = patch.get_facecolor()\n",
    "    patch.set_facecolor((r, g, b, .3))\n",
    "\n",
    "\n",
    "\n",
    "plt.xlabel(\"Belt colors\")\n",
    "plt.ylabel(\"title char count\")\n",
    "print('black belt videos have fewer words')"
   ]
  },
  {
   "cell_type": "code",
   "execution_count": 20,
   "metadata": {},
   "outputs": [
    {
     "name": "stdout",
     "output_type": "stream",
     "text": [
      "disregard this data for now.\n"
     ]
    },
    {
     "data": {
      "image/png": "[encoded data removed]",
      "text/plain": [
       "<Figure size 842.4x595.44 with 1 Axes>"
      ]
     },
     "metadata": {
      "needs_background": "light"
     },
     "output_type": "display_data"
    }
   ],
   "source": [
    "dims = (11.7, 8.27)\n",
    "fix, ax = plt.subplots(figsize= dims)\n",
    "my_pal = {0: \"y\", 1: \"w\", 2:\"b\", 3:\"purple\", 4:\"brown\", 5:\"k\"}\n",
    "g = sns.boxplot(x='target', y='title_word_density', data = exp1_df, palette=my_pal)\n",
    "g.set_xticklabels(g.get_xticklabels(), rotation=90)\n",
    "for patch in g.artists:\n",
    "    r, g, b, a = patch.get_facecolor()\n",
    "    patch.set_facecolor((r, g, b, .3))\n",
    "\n",
    "\n",
    "\n",
    "plt.xlabel(\"Belt colors\")\n",
    "plt.ylabel(\"title word density\")\n",
    "print('disregard this data for now.')"
   ]
  },
  {
   "cell_type": "code",
   "execution_count": 21,
   "metadata": {},
   "outputs": [
    {
     "name": "stdout",
     "output_type": "stream",
     "text": [
      "black belt videos have fewer outliers in punctuation\n"
     ]
    },
    {
     "data": {
      "image/png": "[encoded data removed]",
      "text/plain": [
       "<Figure size 842.4x595.44 with 1 Axes>"
      ]
     },
     "metadata": {
      "needs_background": "light"
     },
     "output_type": "display_data"
    }
   ],
   "source": [
    "fix, ax = plt.subplots(figsize= dims)\n",
    "my_pal = {0: \"y\", 1: \"w\", 2:\"b\", 3:\"purple\", 4:\"brown\", 5:\"k\"}\n",
    "g = sns.boxplot(x='target', y='title_punctuation_count', data = exp1_df, palette=my_pal)\n",
    "g.set_xticklabels(g.get_xticklabels(), rotation=90)\n",
    "for patch in g.artists:\n",
    "    r, g, b, a = patch.get_facecolor()\n",
    "    patch.set_facecolor((r, g, b, .3))\n",
    "\n",
    "\n",
    "\n",
    "plt.xlabel(\"Belt colors\")\n",
    "plt.ylabel(\"title punc count\")\n",
    "print('black belt videos have fewer outliers in punctuation')"
   ]
  },
  {
   "cell_type": "code",
   "execution_count": 22,
   "metadata": {},
   "outputs": [
    {
     "name": "stdout",
     "output_type": "stream",
     "text": [
      "Disregard - no pattern\n"
     ]
    },
    {
     "data": {
      "image/png": "[encoded data removed]",
      "text/plain": [
       "<Figure size 842.4x595.44 with 1 Axes>"
      ]
     },
     "metadata": {
      "needs_background": "light"
     },
     "output_type": "display_data"
    }
   ],
   "source": [
    "fix, ax = plt.subplots(figsize= dims)\n",
    "my_pal = {0: \"y\", 1: \"w\", 2:\"b\", 3:\"purple\", 4:\"brown\", 5:\"k\"}\n",
    "g = sns.boxplot(x='target', y='title_title_word_count', data = exp1_df, palette=my_pal)\n",
    "g.set_xticklabels(g.get_xticklabels(), rotation=90)\n",
    "for patch in g.artists:\n",
    "    r, g, b, a = patch.get_facecolor()\n",
    "    patch.set_facecolor((r, g, b, .3))\n",
    "\n",
    "\n",
    "\n",
    "plt.xlabel(\"Belt colors\")\n",
    "plt.ylabel(\"title title word count\")\n",
    "print('Disregard - no pattern')"
   ]
  },
  {
   "cell_type": "code",
   "execution_count": 23,
   "metadata": {},
   "outputs": [
    {
     "name": "stdout",
     "output_type": "stream",
     "text": [
      "Upside down parobola\n"
     ]
    },
    {
     "data": {
      "image/png": "[encoded data removed]",
      "text/plain": [
       "<Figure size 842.4x595.44 with 1 Axes>"
      ]
     },
     "metadata": {
      "needs_background": "light"
     },
     "output_type": "display_data"
    }
   ],
   "source": [
    "fix, ax = plt.subplots(figsize= dims)\n",
    "my_pal = {0: \"y\", 1: \"w\", 2:\"b\", 3:\"purple\", 4:\"brown\", 5:\"k\"}\n",
    "g = sns.boxplot(x='target', y='title_upper_case_word_count', data = exp1_df, palette=my_pal)\n",
    "g.set_xticklabels(g.get_xticklabels(), rotation=90)\n",
    "for patch in g.artists:\n",
    "    r, g, b, a = patch.get_facecolor()\n",
    "    patch.set_facecolor((r, g, b, .3))\n",
    "\n",
    "\n",
    "\n",
    "plt.xlabel(\"Belt colors\")\n",
    "plt.ylabel(\"title_upper_case_word_count\")\n",
    "print('Upside down parobola')"
   ]
  },
  {
   "cell_type": "code",
   "execution_count": 24,
   "metadata": {},
   "outputs": [
    {
     "name": "stdout",
     "output_type": "stream",
     "text": [
      "black belt video titles have lowest stop word avg\n"
     ]
    },
    {
     "data": {
      "image/png": "[encoded data removed]",
      "text/plain": [
       "<Figure size 842.4x595.44 with 1 Axes>"
      ]
     },
     "metadata": {
      "needs_background": "light"
     },
     "output_type": "display_data"
    }
   ],
   "source": [
    "fix, ax = plt.subplots(figsize= dims)\n",
    "my_pal = {0: \"y\", 1: \"w\", 2:\"b\", 3:\"purple\", 4:\"brown\", 5:\"k\"}\n",
    "g = sns.boxplot(x='target', y='title_stopwords_count', data = exp1_df, palette=my_pal)\n",
    "g.set_xticklabels(g.get_xticklabels(), rotation=90)\n",
    "for patch in g.artists:\n",
    "    r, g, b, a = patch.get_facecolor()\n",
    "    patch.set_facecolor((r, g, b, .3))\n",
    "\n",
    "\n",
    "\n",
    "plt.xlabel(\"Belt colors\")\n",
    "plt.ylabel(\"title_stopwords_count\")\n",
    "print('black belt video titles have lowest stop word avg')"
   ]
  },
  {
   "cell_type": "code",
   "execution_count": 25,
   "metadata": {},
   "outputs": [
    {
     "name": "stdout",
     "output_type": "stream",
     "text": [
      "black belt videos have highest description char count\n"
     ]
    },
    {
     "data": {
      "image/png": "[encoded data removed]",
      "text/plain": [
       "<Figure size 842.4x595.44 with 1 Axes>"
      ]
     },
     "metadata": {
      "needs_background": "light"
     },
     "output_type": "display_data"
    }
   ],
   "source": [
    "fix, ax = plt.subplots(figsize= dims)\n",
    "my_pal = {0: \"y\", 1: \"w\", 2:\"b\", 3:\"purple\", 4:\"brown\", 5:\"k\"}\n",
    "g = sns.boxplot(x='target', y='desc_char_count', data = exp1_df, palette=my_pal)\n",
    "g.set_xticklabels(g.get_xticklabels(), rotation=90)\n",
    "for patch in g.artists:\n",
    "    r, g, b, a = patch.get_facecolor()\n",
    "    patch.set_facecolor((r, g, b, .3))\n",
    "\n",
    "\n",
    "\n",
    "plt.xlabel(\"Belt colors\")\n",
    "plt.ylabel(\"desc_char_count\")\n",
    "print('black belt videos have highest description char count')"
   ]
  },
  {
   "cell_type": "code",
   "execution_count": 26,
   "metadata": {},
   "outputs": [
    {
     "name": "stdout",
     "output_type": "stream",
     "text": [
      "black belt videos have highest description word count avg and no outliers\n"
     ]
    },
    {
     "data": {
      "image/png": "[encoded data removed]",
      "text/plain": [
       "<Figure size 842.4x595.44 with 1 Axes>"
      ]
     },
     "metadata": {
      "needs_background": "light"
     },
     "output_type": "display_data"
    }
   ],
   "source": [
    "fix, ax = plt.subplots(figsize= dims)\n",
    "my_pal = {0: \"y\", 1: \"w\", 2:\"b\", 3:\"purple\", 4:\"brown\", 5:\"k\"}\n",
    "g = sns.boxplot(x='target', y='desc_word_count', data = exp1_df, palette=my_pal)\n",
    "g.set_xticklabels(g.get_xticklabels(), rotation=90)\n",
    "for patch in g.artists:\n",
    "    r, g, b, a = patch.get_facecolor()\n",
    "    patch.set_facecolor((r, g, b, .3))\n",
    "\n",
    "\n",
    "\n",
    "plt.xlabel(\"Belt colors\")\n",
    "plt.ylabel(\"desc_word_count\")\n",
    "print('black belt videos have highest description word count avg and no outliers')"
   ]
  },
  {
   "cell_type": "code",
   "execution_count": 27,
   "metadata": {},
   "outputs": [
    {
     "name": "stdout",
     "output_type": "stream",
     "text": [
      "black belt videos have highest description word count avg and no outliers\n"
     ]
    },
    {
     "data": {
      "image/png": "[encoded data removed]",
      "text/plain": [
       "<Figure size 842.4x595.44 with 1 Axes>"
      ]
     },
     "metadata": {
      "needs_background": "light"
     },
     "output_type": "display_data"
    }
   ],
   "source": [
    "fix, ax = plt.subplots(figsize= dims)\n",
    "my_pal = {0: \"y\", 1: \"w\", 2:\"b\", 3:\"purple\", 4:\"brown\", 5:\"k\"}\n",
    "g = sns.boxplot(x='target', y='desc_word_density', data = exp1_df, palette=my_pal)\n",
    "g.set_xticklabels(g.get_xticklabels(), rotation=90)\n",
    "for patch in g.artists:\n",
    "    r, g, b, a = patch.get_facecolor()\n",
    "    patch.set_facecolor((r, g, b, .3))\n",
    "\n",
    "\n",
    "\n",
    "plt.xlabel(\"Belt colors\")\n",
    "plt.ylabel(\"desc_word_density\")\n",
    "print('black belt videos have highest description word count avg and no outliers')"
   ]
  },
  {
   "cell_type": "code",
   "execution_count": 28,
   "metadata": {},
   "outputs": [
    {
     "name": "stdout",
     "output_type": "stream",
     "text": [
      "black belt videos have highest punctuation count\n"
     ]
    },
    {
     "data": {
      "image/png": "[encoded data removed]",
      "text/plain": [
       "<Figure size 842.4x595.44 with 1 Axes>"
      ]
     },
     "metadata": {
      "needs_background": "light"
     },
     "output_type": "display_data"
    }
   ],
   "source": [
    "fix, ax = plt.subplots(figsize= dims)\n",
    "my_pal = {0: \"y\", 1: \"w\", 2:\"b\", 3:\"purple\", 4:\"brown\", 5:\"k\"}\n",
    "g = sns.boxplot(x='target', y='desc_punctuation_count', data = exp1_df, palette=my_pal)\n",
    "g.set_xticklabels(g.get_xticklabels(), rotation=90)\n",
    "for patch in g.artists:\n",
    "    r, g, b, a = patch.get_facecolor()\n",
    "    patch.set_facecolor((r, g, b, .3))\n",
    "\n",
    "\n",
    "\n",
    "plt.xlabel(\"Belt colors\")\n",
    "plt.ylabel(\"desc_punctuation_count\")\n",
    "print('black belt videos have highest punctuation count')"
   ]
  },
  {
   "cell_type": "code",
   "execution_count": 29,
   "metadata": {},
   "outputs": [
    {
     "name": "stdout",
     "output_type": "stream",
     "text": [
      "black belt videos have highest average words for first letter capitalized in desc\n"
     ]
    },
    {
     "data": {
      "image/png": "[encoded data removed]",
      "text/plain": [
       "<Figure size 842.4x595.44 with 1 Axes>"
      ]
     },
     "metadata": {
      "needs_background": "light"
     },
     "output_type": "display_data"
    }
   ],
   "source": [
    "fix, ax = plt.subplots(figsize= dims)\n",
    "my_pal = {0: \"y\", 1: \"w\", 2:\"b\", 3:\"purple\", 4:\"brown\", 5:\"k\"}\n",
    "g = sns.boxplot(x='target', y='desc_title_word_count', data = exp1_df, palette=my_pal)\n",
    "g.set_xticklabels(g.get_xticklabels(), rotation=90)\n",
    "for patch in g.artists:\n",
    "    r, g, b, a = patch.get_facecolor()\n",
    "    patch.set_facecolor((r, g, b, .3))\n",
    "\n",
    "\n",
    "\n",
    "plt.xlabel(\"Belt colors\")\n",
    "plt.ylabel(\"desc_title_word_count\")\n",
    "print('black belt videos have highest average words for first letter capitalized in desc')"
   ]
  },
  {
   "cell_type": "code",
   "execution_count": 30,
   "metadata": {},
   "outputs": [
    {
     "name": "stdout",
     "output_type": "stream",
     "text": [
      "black belt videos have fewer completely upper case description words\n"
     ]
    },
    {
     "data": {
      "image/png": "[encoded data removed]",
      "text/plain": [
       "<Figure size 842.4x595.44 with 1 Axes>"
      ]
     },
     "metadata": {
      "needs_background": "light"
     },
     "output_type": "display_data"
    }
   ],
   "source": [
    "fix, ax = plt.subplots(figsize= dims)\n",
    "my_pal = {0: \"y\", 1: \"w\", 2:\"b\", 3:\"purple\", 4:\"brown\", 5:\"k\"}\n",
    "g = sns.boxplot(x='target', y='desc_upper_case_word_count', data = exp1_df, palette=my_pal)\n",
    "g.set_xticklabels(g.get_xticklabels(), rotation=90)\n",
    "for patch in g.artists:\n",
    "    r, g, b, a = patch.get_facecolor()\n",
    "    patch.set_facecolor((r, g, b, .3))\n",
    "\n",
    "\n",
    "\n",
    "plt.xlabel(\"Belt colors\")\n",
    "plt.ylabel(\"desc_upper_case_word_count\")\n",
    "print('black belt videos have fewer completely upper case description words')"
   ]
  },
  {
   "cell_type": "code",
   "execution_count": 31,
   "metadata": {},
   "outputs": [
    {
     "name": "stdout",
     "output_type": "stream",
     "text": [
      "black belt videos have MORE stop words on average inside description\n"
     ]
    },
    {
     "data": {
      "image/png": "[encoded data removed]",
      "text/plain": [
       "<Figure size 842.4x595.44 with 1 Axes>"
      ]
     },
     "metadata": {
      "needs_background": "light"
     },
     "output_type": "display_data"
    }
   ],
   "source": [
    "fix, ax = plt.subplots(figsize= dims)\n",
    "my_pal = {0: \"y\", 1: \"w\", 2:\"b\", 3:\"purple\", 4:\"brown\", 5:\"k\"}\n",
    "g = sns.boxplot(x='target', y='desc_stopwords_count', data = exp1_df, palette=my_pal)\n",
    "g.set_xticklabels(g.get_xticklabels(), rotation=90)\n",
    "for patch in g.artists:\n",
    "    r, g, b, a = patch.get_facecolor()\n",
    "    patch.set_facecolor((r, g, b, .3))\n",
    "\n",
    "\n",
    "\n",
    "plt.xlabel(\"Belt colors\")\n",
    "plt.ylabel(\"desc_stopwords_count\")\n",
    "print('black belt videos have MORE stop words on average inside description')"
   ]
  },
  {
   "cell_type": "code",
   "execution_count": 32,
   "metadata": {},
   "outputs": [
    {
     "name": "stdout",
     "output_type": "stream",
     "text": [
      "black belt videos have higher average for character tags count\n"
     ]
    },
    {
     "data": {
      "image/png": "[encoded data removed]",
      "text/plain": [
       "<Figure size 842.4x595.44 with 1 Axes>"
      ]
     },
     "metadata": {
      "needs_background": "light"
     },
     "output_type": "display_data"
    }
   ],
   "source": [
    "fix, ax = plt.subplots(figsize= dims)\n",
    "my_pal = {0: \"y\", 1: \"w\", 2:\"b\", 3:\"purple\", 4:\"brown\", 5:\"k\"}\n",
    "g = sns.boxplot(x='target', y='tags_char_count', data = exp1_df, palette=my_pal)\n",
    "g.set_xticklabels(g.get_xticklabels(), rotation=90)\n",
    "for patch in g.artists:\n",
    "    r, g, b, a = patch.get_facecolor()\n",
    "    patch.set_facecolor((r, g, b, .3))\n",
    "\n",
    "\n",
    "\n",
    "plt.xlabel(\"Belt colors\")\n",
    "plt.ylabel(\"tags_char_count\")\n",
    "print('black belt videos have higher average for character tags count')"
   ]
  },
  {
   "cell_type": "code",
   "execution_count": 33,
   "metadata": {},
   "outputs": [
    {
     "name": "stdout",
     "output_type": "stream",
     "text": [
      "black belt videos have higher average for # of words\n"
     ]
    },
    {
     "data": {
      "image/png": "[encoded data removed]",
      "text/plain": [
       "<Figure size 842.4x595.44 with 1 Axes>"
      ]
     },
     "metadata": {
      "needs_background": "light"
     },
     "output_type": "display_data"
    }
   ],
   "source": [
    "fix, ax = plt.subplots(figsize= dims)\n",
    "my_pal = {0: \"y\", 1: \"w\", 2:\"b\", 3:\"purple\", 4:\"brown\", 5:\"k\"}\n",
    "g = sns.boxplot(x='target', y='tags_word_count', data = exp1_df, palette=my_pal)\n",
    "g.set_xticklabels(g.get_xticklabels(), rotation=90)\n",
    "for patch in g.artists:\n",
    "    r, g, b, a = patch.get_facecolor()\n",
    "    patch.set_facecolor((r, g, b, .3))\n",
    "\n",
    "\n",
    "\n",
    "plt.xlabel(\"Belt colors\")\n",
    "plt.ylabel(\"tags_word_count\")\n",
    "print('black belt videos have higher average for # of words')"
   ]
  },
  {
   "cell_type": "code",
   "execution_count": 34,
   "metadata": {},
   "outputs": [
    {
     "name": "stdout",
     "output_type": "stream",
     "text": [
      "black belt videos have slightly higher word density average with a smaller range\n"
     ]
    },
    {
     "data": {
      "image/png": "[encoded data removed]",
      "text/plain": [
       "<Figure size 842.4x595.44 with 1 Axes>"
      ]
     },
     "metadata": {
      "needs_background": "light"
     },
     "output_type": "display_data"
    }
   ],
   "source": [
    "fix, ax = plt.subplots(figsize= dims)\n",
    "my_pal = {0: \"y\", 1: \"w\", 2:\"b\", 3:\"purple\", 4:\"brown\", 5:\"k\"}\n",
    "g = sns.boxplot(x='target', y='tags_word_density', data = exp1_df, palette=my_pal)\n",
    "g.set_xticklabels(g.get_xticklabels(), rotation=90)\n",
    "for patch in g.artists:\n",
    "    r, g, b, a = patch.get_facecolor()\n",
    "    patch.set_facecolor((r, g, b, .3))\n",
    "\n",
    "\n",
    "\n",
    "plt.xlabel(\"Belt colors\")\n",
    "plt.ylabel(\"tags_word_density\")\n",
    "print('black belt videos have slightly higher word density average with a smaller range')"
   ]
  },
  {
   "cell_type": "code",
   "execution_count": 35,
   "metadata": {},
   "outputs": [
    {
     "name": "stdout",
     "output_type": "stream",
     "text": [
      "black belt videos have slightly higher average for punctuation count in tags\n"
     ]
    },
    {
     "data": {
      "image/png": "[encoded data removed]",
      "text/plain": [
       "<Figure size 842.4x595.44 with 1 Axes>"
      ]
     },
     "metadata": {
      "needs_background": "light"
     },
     "output_type": "display_data"
    }
   ],
   "source": [
    "fix, ax = plt.subplots(figsize= dims)\n",
    "my_pal = {0: \"y\", 1: \"w\", 2:\"b\", 3:\"purple\", 4:\"brown\", 5:\"k\"}\n",
    "g = sns.boxplot(x='target', y='tags_punctuation_count', data = exp1_df, palette=my_pal)\n",
    "g.set_xticklabels(g.get_xticklabels(), rotation=90)\n",
    "for patch in g.artists:\n",
    "    r, g, b, a = patch.get_facecolor()\n",
    "    patch.set_facecolor((r, g, b, .3))\n",
    "\n",
    "\n",
    "\n",
    "plt.xlabel(\"Belt colors\")\n",
    "plt.ylabel(\"tags_punctuation_count\")\n",
    "print('black belt videos have slightly higher average for punctuation count in tags')"
   ]
  },
  {
   "cell_type": "code",
   "execution_count": 36,
   "metadata": {},
   "outputs": [
    {
     "name": "stdout",
     "output_type": "stream",
     "text": [
      "Disregard\n"
     ]
    },
    {
     "data": {
      "image/png": "[encoded data removed]",
      "text/plain": [
       "<Figure size 842.4x595.44 with 1 Axes>"
      ]
     },
     "metadata": {
      "needs_background": "light"
     },
     "output_type": "display_data"
    }
   ],
   "source": [
    "fix, ax = plt.subplots(figsize= dims)\n",
    "my_pal = {0: \"y\", 1: \"w\", 2:\"b\", 3:\"purple\", 4:\"brown\", 5:\"k\"}\n",
    "g = sns.boxplot(x='target', y='tags_title_word_count', data = exp1_df, palette=my_pal)\n",
    "g.set_xticklabels(g.get_xticklabels(), rotation=90)\n",
    "for patch in g.artists:\n",
    "    r, g, b, a = patch.get_facecolor()\n",
    "    patch.set_facecolor((r, g, b, .3))\n",
    "\n",
    "\n",
    "\n",
    "plt.xlabel(\"Belt colors\")\n",
    "plt.ylabel(\"tags_title_word_count\")\n",
    "print('Disregard')"
   ]
  },
  {
   "cell_type": "code",
   "execution_count": 37,
   "metadata": {},
   "outputs": [
    {
     "name": "stdout",
     "output_type": "stream",
     "text": [
      "black belt videos have fewer completely upper case tags\n"
     ]
    },
    {
     "data": {
      "image/png": "[encoded data removed]",
      "text/plain": [
       "<Figure size 842.4x595.44 with 1 Axes>"
      ]
     },
     "metadata": {
      "needs_background": "light"
     },
     "output_type": "display_data"
    }
   ],
   "source": [
    "fix, ax = plt.subplots(figsize= dims)\n",
    "my_pal = {0: \"y\", 1: \"w\", 2:\"b\", 3:\"purple\", 4:\"brown\", 5:\"k\"}\n",
    "g = sns.boxplot(x='target', y='tags_upper_case_word_count', data = exp1_df, palette=my_pal)\n",
    "g.set_xticklabels(g.get_xticklabels(), rotation=90)\n",
    "for patch in g.artists:\n",
    "    r, g, b, a = patch.get_facecolor()\n",
    "    patch.set_facecolor((r, g, b, .3))\n",
    "\n",
    "\n",
    "\n",
    "plt.xlabel(\"Belt colors\")\n",
    "plt.ylabel(\"tags_upper_case_word_count\")\n",
    "print('black belt videos have fewer completely upper case tags')"
   ]
  },
  {
   "cell_type": "code",
   "execution_count": 38,
   "metadata": {},
   "outputs": [
    {
     "name": "stdout",
     "output_type": "stream",
     "text": [
      "Upside down parabola\n"
     ]
    },
    {
     "data": {
      "image/png": "[encoded data removed]",
      "text/plain": [
       "<Figure size 842.4x595.44 with 1 Axes>"
      ]
     },
     "metadata": {
      "needs_background": "light"
     },
     "output_type": "display_data"
    }
   ],
   "source": [
    "fix, ax = plt.subplots(figsize= dims)\n",
    "my_pal = {0: \"y\", 1: \"w\", 2:\"b\", 3:\"purple\", 4:\"brown\", 5:\"k\"}\n",
    "g = sns.boxplot(x='target', y='tags_stopwords_count', data = exp1_df, palette=my_pal)\n",
    "g.set_xticklabels(g.get_xticklabels(), rotation=90)\n",
    "for patch in g.artists:\n",
    "    r, g, b, a = patch.get_facecolor()\n",
    "    patch.set_facecolor((r, g, b, .3))\n",
    "\n",
    "\n",
    "\n",
    "plt.xlabel(\"Belt colors\")\n",
    "plt.ylabel(\"tags_stopwords_count\")\n",
    "print('Upside down parabola')"
   ]
  },
  {
   "cell_type": "code",
   "execution_count": 39,
   "metadata": {},
   "outputs": [
    {
     "name": "stdout",
     "output_type": "stream",
     "text": [
      "Interesting to see description word count leading, then tag count, then title count.\n"
     ]
    },
    {
     "data": {
      "image/png": "[encoded data removed]",
      "text/plain": [
       "<Figure size 432x288 with 1 Axes>"
      ]
     },
     "metadata": {
      "needs_background": "light"
     },
     "output_type": "display_data"
    }
   ],
   "source": [
    "#boxplot shows likeCounts tends to be higher\n",
    "\n",
    "stats_df = exp1_df[['desc_word_count','title_word_count','tags_word_count']].copy()\n",
    "ax = sns.boxplot(data=stats_df)\n",
    "ax.set(yscale=\"log\")\n",
    "print('Interesting to see description word count leading, then tag count, then title count.')"
   ]
  },
  {
   "cell_type": "code",
   "execution_count": 40,
   "metadata": {},
   "outputs": [
    {
     "name": "stdout",
     "output_type": "stream",
     "text": [
      "<bound method DataFrame.info of      search_word_Siemens  search_word_cats  search_word_christmas  \\\n",
      "0                      1                 0                      0   \n",
      "1                      1                 0                      0   \n",
      "2                      1                 0                      0   \n",
      "3                      1                 0                      0   \n",
      "4                      1                 0                      0   \n",
      "5                      1                 0                      0   \n",
      "6                      1                 0                      0   \n",
      "7                      1                 0                      0   \n",
      "8                      1                 0                      0   \n",
      "9                      1                 0                      0   \n",
      "10                     1                 0                      0   \n",
      "11                     1                 0                      0   \n",
      "12                     1                 0                      0   \n",
      "13                     1                 0                      0   \n",
      "14                     1                 0                      0   \n",
      "15                     1                 0                      0   \n",
      "16                     1                 0                      0   \n",
      "17                     1                 0                      0   \n",
      "18                     1                 0                      0   \n",
      "19                     1                 0                      0   \n",
      "20                     1                 0                      0   \n",
      "21                     1                 0                      0   \n",
      "22                     1                 0                      0   \n",
      "23                     1                 0                      0   \n",
      "24                     1                 0                      0   \n",
      "25                     1                 0                      0   \n",
      "26                     1                 0                      0   \n",
      "27                     1                 0                      0   \n",
      "28                     1                 0                      0   \n",
      "29                     1                 0                      0   \n",
      "..                   ...               ...                    ...   \n",
      "970                    0                 0                      0   \n",
      "971                    0                 0                      0   \n",
      "972                    0                 0                      0   \n",
      "973                    0                 0                      0   \n",
      "974                    0                 0                      0   \n",
      "975                    0                 0                      0   \n",
      "976                    0                 0                      0   \n",
      "977                    0                 0                      0   \n",
      "978                    0                 0                      0   \n",
      "979                    0                 0                      0   \n",
      "980                    0                 0                      0   \n",
      "981                    0                 0                      0   \n",
      "982                    0                 0                      0   \n",
      "983                    0                 0                      0   \n",
      "984                    0                 0                      0   \n",
      "985                    0                 0                      0   \n",
      "986                    0                 0                      0   \n",
      "987                    0                 0                      0   \n",
      "988                    0                 0                      0   \n",
      "989                    0                 0                      0   \n",
      "990                    0                 0                      0   \n",
      "991                    0                 0                      0   \n",
      "992                    0                 0                      0   \n",
      "993                    0                 0                      0   \n",
      "994                    0                 0                      0   \n",
      "995                    0                 0                      0   \n",
      "996                    0                 0                      0   \n",
      "997                    0                 0                      0   \n",
      "998                    0                 0                      0   \n",
      "999                    0                 0                      0   \n",
      "\n",
      "     search_word_donald trump  search_word_dude perfect  search_word_gaming  \\\n",
      "0                           0                         0                   0   \n",
      "1                           0                         0                   0   \n",
      "2                           0                         0                   0   \n",
      "3                           0                         0                   0   \n",
      "4                           0                         0                   0   \n",
      "5                           0                         0                   0   \n",
      "6                           0                         0                   0   \n",
      "7                           0                         0                   0   \n",
      "8                           0                         0                   0   \n",
      "9                           0                         0                   0   \n",
      "10                          0                         0                   0   \n",
      "11                          0                         0                   0   \n",
      "12                          0                         0                   0   \n",
      "13                          0                         0                   0   \n",
      "14                          0                         0                   0   \n",
      "15                          0                         0                   0   \n",
      "16                          0                         0                   0   \n",
      "17                          0                         0                   0   \n",
      "18                          0                         0                   0   \n",
      "19                          0                         0                   0   \n",
      "20                          0                         0                   0   \n",
      "21                          0                         0                   0   \n",
      "22                          0                         0                   0   \n",
      "23                          0                         0                   0   \n",
      "24                          0                         0                   0   \n",
      "25                          0                         0                   0   \n",
      "26                          0                         0                   0   \n",
      "27                          0                         0                   0   \n",
      "28                          0                         0                   0   \n",
      "29                          0                         0                   0   \n",
      "..                        ...                       ...                 ...   \n",
      "970                         0                         0                   0   \n",
      "971                         0                         0                   0   \n",
      "972                         0                         0                   0   \n",
      "973                         0                         0                   0   \n",
      "974                         0                         0                   0   \n",
      "975                         0                         0                   0   \n",
      "976                         0                         0                   0   \n",
      "977                         0                         0                   0   \n",
      "978                         0                         0                   0   \n",
      "979                         0                         0                   0   \n",
      "980                         0                         0                   0   \n",
      "981                         0                         0                   0   \n",
      "982                         0                         0                   0   \n",
      "983                         0                         0                   0   \n",
      "984                         0                         0                   0   \n",
      "985                         0                         0                   0   \n",
      "986                         0                         0                   0   \n",
      "987                         0                         0                   0   \n",
      "988                         0                         0                   0   \n",
      "989                         0                         0                   0   \n",
      "990                         0                         0                   0   \n",
      "991                         0                         0                   0   \n",
      "992                         0                         0                   0   \n",
      "993                         0                         0                   0   \n",
      "994                         0                         0                   0   \n",
      "995                         0                         0                   0   \n",
      "996                         0                         0                   0   \n",
      "997                         0                         0                   0   \n",
      "998                         0                         0                   0   \n",
      "999                         0                         0                   0   \n",
      "\n",
      "     search_word_golf  search_word_horror  search_word_iphone  \\\n",
      "0                   0                   0                   0   \n",
      "1                   0                   0                   0   \n",
      "2                   0                   0                   0   \n",
      "3                   0                   0                   0   \n",
      "4                   0                   0                   0   \n",
      "5                   0                   0                   0   \n",
      "6                   0                   0                   0   \n",
      "7                   0                   0                   0   \n",
      "8                   0                   0                   0   \n",
      "9                   0                   0                   0   \n",
      "10                  0                   0                   0   \n",
      "11                  0                   0                   0   \n",
      "12                  0                   0                   0   \n",
      "13                  0                   0                   0   \n",
      "14                  0                   0                   0   \n",
      "15                  0                   0                   0   \n",
      "16                  0                   0                   0   \n",
      "17                  0                   0                   0   \n",
      "18                  0                   0                   0   \n",
      "19                  0                   0                   0   \n",
      "20                  0                   0                   0   \n",
      "21                  0                   0                   0   \n",
      "22                  0                   0                   0   \n",
      "23                  0                   0                   0   \n",
      "24                  0                   0                   0   \n",
      "25                  0                   0                   0   \n",
      "26                  0                   0                   0   \n",
      "27                  0                   0                   0   \n",
      "28                  0                   0                   0   \n",
      "29                  0                   0                   0   \n",
      "..                ...                 ...                 ...   \n",
      "970                 0                   0                   0   \n",
      "971                 0                   0                   0   \n",
      "972                 0                   0                   0   \n",
      "973                 0                   0                   0   \n",
      "974                 0                   0                   0   \n",
      "975                 0                   0                   0   \n",
      "976                 0                   0                   0   \n",
      "977                 0                   0                   0   \n",
      "978                 0                   0                   0   \n",
      "979                 0                   0                   0   \n",
      "980                 0                   0                   0   \n",
      "981                 0                   0                   0   \n",
      "982                 0                   0                   0   \n",
      "983                 0                   0                   0   \n",
      "984                 0                   0                   0   \n",
      "985                 0                   0                   0   \n",
      "986                 0                   0                   0   \n",
      "987                 0                   0                   0   \n",
      "988                 0                   0                   0   \n",
      "989                 0                   0                   0   \n",
      "990                 0                   0                   0   \n",
      "991                 0                   0                   0   \n",
      "992                 0                   0                   0   \n",
      "993                 0                   0                   0   \n",
      "994                 0                   0                   0   \n",
      "995                 0                   0                   0   \n",
      "996                 0                   0                   0   \n",
      "997                 0                   0                   0   \n",
      "998                 0                   0                   0   \n",
      "999                 0                   0                   0   \n",
      "\n",
      "     search_word_laugh          ...           desc_punctuation_count  \\\n",
      "0                    0          ...                              242   \n",
      "1                    0          ...                               24   \n",
      "2                    0          ...                                5   \n",
      "3                    0          ...                               16   \n",
      "4                    0          ...                               34   \n",
      "5                    0          ...                               13   \n",
      "6                    0          ...                               19   \n",
      "7                    0          ...                               14   \n",
      "8                    0          ...                              798   \n",
      "9                    0          ...                                8   \n",
      "10                   0          ...                               11   \n",
      "11                   0          ...                                7   \n",
      "12                   0          ...                                7   \n",
      "13                   0          ...                               14   \n",
      "14                   0          ...                               16   \n",
      "15                   0          ...                               10   \n",
      "16                   0          ...                               51   \n",
      "17                   0          ...                                0   \n",
      "18                   0          ...                               65   \n",
      "19                   0          ...                                8   \n",
      "20                   0          ...                                5   \n",
      "21                   0          ...                               20   \n",
      "22                   0          ...                               16   \n",
      "23                   0          ...                                3   \n",
      "24                   0          ...                               72   \n",
      "25                   0          ...                               27   \n",
      "26                   0          ...                              959   \n",
      "27                   0          ...                                6   \n",
      "28                   0          ...                              121   \n",
      "29                   0          ...                               21   \n",
      "..                 ...          ...                              ...   \n",
      "970                  0          ...                               32   \n",
      "971                  0          ...                               16   \n",
      "972                  0          ...                               44   \n",
      "973                  0          ...                              103   \n",
      "974                  0          ...                               83   \n",
      "975                  0          ...                              130   \n",
      "976                  0          ...                               82   \n",
      "977                  0          ...                              166   \n",
      "978                  0          ...                               66   \n",
      "979                  0          ...                              106   \n",
      "980                  0          ...                               11   \n",
      "981                  0          ...                              134   \n",
      "982                  0          ...                               71   \n",
      "983                  0          ...                               66   \n",
      "984                  0          ...                               15   \n",
      "985                  0          ...                               76   \n",
      "986                  0          ...                               42   \n",
      "987                  0          ...                               10   \n",
      "988                  0          ...                                3   \n",
      "989                  0          ...                               13   \n",
      "990                  0          ...                               43   \n",
      "991                  0          ...                               11   \n",
      "992                  0          ...                              102   \n",
      "993                  0          ...                               91   \n",
      "994                  0          ...                               44   \n",
      "995                  0          ...                              391   \n",
      "996                  0          ...                              107   \n",
      "997                  0          ...                               87   \n",
      "998                  0          ...                              524   \n",
      "999                  0          ...                                6   \n",
      "\n",
      "     desc_title_word_count  desc_upper_case_word_count  desc_stopwords_count  \\\n",
      "0                       61                          12                    53   \n",
      "1                        7                           2                    31   \n",
      "2                        6                           0                    18   \n",
      "3                        3                           2                    16   \n",
      "4                        4                           3                     0   \n",
      "5                        7                           2                     0   \n",
      "6                        5                           3                    15   \n",
      "7                       20                           0                    22   \n",
      "8                        5                           5                     0   \n",
      "9                        1                           1                     2   \n",
      "10                       5                           0                    14   \n",
      "11                       1                           0                     2   \n",
      "12                      15                           2                    23   \n",
      "13                      16                           2                    34   \n",
      "14                       3                           2                    16   \n",
      "15                      11                           1                     9   \n",
      "16                       1                           0                     0   \n",
      "17                       3                           0                     0   \n",
      "18                      36                          15                    14   \n",
      "19                      20                           0                    11   \n",
      "20                       4                           1                     0   \n",
      "21                      12                           0                     0   \n",
      "22                      13                           0                     0   \n",
      "23                       6                           1                     0   \n",
      "24                      22                           2                     0   \n",
      "25                      11                           0                     0   \n",
      "26                       7                          13                     0   \n",
      "27                       4                           2                     2   \n",
      "28                      55                          27                     0   \n",
      "29                      15                           0                     3   \n",
      "..                     ...                         ...                   ...   \n",
      "970                     10                           1                    25   \n",
      "971                      9                           5                    12   \n",
      "972                     17                           1                    26   \n",
      "973                     14                           2                     8   \n",
      "974                     58                           4                    51   \n",
      "975                     23                           6                    13   \n",
      "976                     18                           3                     6   \n",
      "977                     54                          12                    52   \n",
      "978                     24                           0                    34   \n",
      "979                     13                           7                    45   \n",
      "980                     20                           0                    22   \n",
      "981                     41                           9                    49   \n",
      "982                      6                           0                    22   \n",
      "983                     39                           1                   138   \n",
      "984                      4                           0                     0   \n",
      "985                     30                           7                    15   \n",
      "986                     25                           1                    43   \n",
      "987                      2                           0                     1   \n",
      "988                     15                           0                     0   \n",
      "989                     19                           0                    21   \n",
      "990                     32                           4                     6   \n",
      "991                     20                           0                    21   \n",
      "992                     82                          21                   172   \n",
      "993                     12                           0                     2   \n",
      "994                     24                           1                    96   \n",
      "995                     15                           0                     8   \n",
      "996                     51                           0                    98   \n",
      "997                      5                           0                     0   \n",
      "998                     20                          12                    63   \n",
      "999                     24                           0                     3   \n",
      "\n",
      "     tags_char_count  tags_word_count  tags_word_density  \\\n",
      "0                514               57           8.862069   \n",
      "1                162               15          10.125000   \n",
      "2                161               14          10.733333   \n",
      "3                 96                9           9.600000   \n",
      "4                204               21           9.272727   \n",
      "5                276               30           8.903226   \n",
      "6                274               30           8.838710   \n",
      "7                199               23           8.291667   \n",
      "8                666               57          11.482759   \n",
      "9                 55                6           7.857143   \n",
      "10                66                7           8.250000   \n",
      "11                98               12           7.538462   \n",
      "12               114               11           9.500000   \n",
      "13               106               12           8.153846   \n",
      "14               548               40          13.365854   \n",
      "15                13                1           6.500000   \n",
      "16                 3                1           1.500000   \n",
      "17               395               39           9.875000   \n",
      "18               213               26           7.888889   \n",
      "19               482               48           9.836735   \n",
      "20               134               13           9.571429   \n",
      "21               204               22           8.869565   \n",
      "22               200               16          11.764706   \n",
      "23               326               26          12.074074   \n",
      "24                 3                1           1.500000   \n",
      "25               171               17           9.500000   \n",
      "26               524               33          15.411765   \n",
      "27                80                6          11.428571   \n",
      "28               312               23          13.000000   \n",
      "29               217               18          11.421053   \n",
      "..               ...              ...                ...   \n",
      "970               86                8           9.555556   \n",
      "971              165               15          10.312500   \n",
      "972               70                8           7.777778   \n",
      "973              144               16           8.470588   \n",
      "974              528               60           8.655738   \n",
      "975              183               17          10.166667   \n",
      "976              112               14           7.466667   \n",
      "977              373               40           9.097561   \n",
      "978              564               49          11.280000   \n",
      "979                3                1           1.500000   \n",
      "980              473               70           6.661972   \n",
      "981              289               31           9.031250   \n",
      "982              352               38           9.025641   \n",
      "983              490               53           9.074074   \n",
      "984                3                1           1.500000   \n",
      "985              301               44           6.688889   \n",
      "986              540               57           9.310345   \n",
      "987               97               10           8.818182   \n",
      "988              359               47           7.479167   \n",
      "989              264               41           6.285714   \n",
      "990              530               84           6.235294   \n",
      "991              196               28           6.758621   \n",
      "992              426               49           8.520000   \n",
      "993              217               26           8.037037   \n",
      "994              511               58           8.661017   \n",
      "995              176               22           7.652174   \n",
      "996              600               64           9.230769   \n",
      "997              217               17          12.055556   \n",
      "998              506               69           7.228571   \n",
      "999              413               55           7.375000   \n",
      "\n",
      "     tags_punctuation_count  tags_upper_case_word_count  tags_stopwords_count  \n",
      "0                        90                           0                     3  \n",
      "1                        34                           1                     0  \n",
      "2                        35                           1                     0  \n",
      "3                        25                           1                     0  \n",
      "4                        44                           0                     0  \n",
      "5                        42                           2                     1  \n",
      "6                        47                           1                     0  \n",
      "7                        40                           3                     0  \n",
      "8                       312                           2                     1  \n",
      "9                        17                           0                     0  \n",
      "10                       13                           0                     0  \n",
      "11                       14                           0                     0  \n",
      "12                       25                           0                     0  \n",
      "13                       16                           1                     0  \n",
      "14                      102                           4                     0  \n",
      "15                        4                           0                     0  \n",
      "16                        0                           0                     0  \n",
      "17                       84                           0                     0  \n",
      "18                       34                           4                     0  \n",
      "19                       98                           1                     0  \n",
      "20                       29                           1                     0  \n",
      "21                       35                           2                     0  \n",
      "22                       55                           0                     0  \n",
      "23                       83                           1                     0  \n",
      "24                        0                           0                     0  \n",
      "25                       31                           0                     0  \n",
      "26                      276                           3                     0  \n",
      "27                       18                           1                     0  \n",
      "28                       64                           0                     0  \n",
      "29                       30                           0                     1  \n",
      "..                      ...                         ...                   ...  \n",
      "970                      22                           0                     0  \n",
      "971                      34                           0                     0  \n",
      "972                      13                           0                     1  \n",
      "973                      40                           0                     1  \n",
      "974                      64                           2                     6  \n",
      "975                      44                           0                     0  \n",
      "976                      24                           0                     0  \n",
      "977                      56                           0                     0  \n",
      "978                      96                           0                     2  \n",
      "979                       0                           0                     0  \n",
      "980                      53                           0                     2  \n",
      "981                      65                           2                     1  \n",
      "982                      62                           0                     1  \n",
      "983                      85                           0                     3  \n",
      "984                       0                           0                     0  \n",
      "985                      39                           2                     8  \n",
      "986                     106                           0                     0  \n",
      "987                      15                           0                     0  \n",
      "988                      40                           0                     0  \n",
      "989                      34                           0                     0  \n",
      "990                      67                           6                     5  \n",
      "991                      23                           0                     0  \n",
      "992                      74                           1                     2  \n",
      "993                      23                           0                     0  \n",
      "994                      91                           0                     0  \n",
      "995                      31                           0                     0  \n",
      "996                     147                           0                     0  \n",
      "997                     102                           4                     0  \n",
      "998                      64                           0                    11  \n",
      "999                      50                           0                     0  \n",
      "\n",
      "[989 rows x 45 columns]>\n"
     ]
    }
   ],
   "source": [
    "#add the relevent count features to num_df and use in notebook 6 Feature Union\n",
    "%store -r num_df\n",
    "\n",
    "num_df[['title_char_count','title_word_count','title_punctuation_count','title_upper_case_word_count','title_stopwords_count','desc_char_count',\n",
    "        'desc_word_count','desc_word_density','desc_punctuation_count','desc_title_word_count','desc_upper_case_word_count','desc_stopwords_count',\n",
    "       'tags_char_count','tags_word_count','tags_word_density','tags_punctuation_count','tags_upper_case_word_count','tags_stopwords_count']] = exp1_df[['title_char_count',\n",
    "       'title_word_count','title_punctuation_count','title_upper_case_word_count','title_stopwords_count','desc_char_count',\n",
    "        'desc_word_count','desc_word_density','desc_punctuation_count','desc_title_word_count','desc_upper_case_word_count','desc_stopwords_count',\n",
    "       'tags_char_count','tags_word_count','tags_word_density','tags_punctuation_count','tags_upper_case_word_count','tags_stopwords_count']]\n",
    "\n",
    "print(num_df.info)"
   ]
  },
  {
   "cell_type": "code",
   "execution_count": 41,
   "metadata": {},
   "outputs": [
    {
     "name": "stdout",
     "output_type": "stream",
     "text": [
      "Stored 'word_df' (DataFrame)\n",
      "Stored 'exp1_df' (DataFrame)\n",
      "Stored 'num_df' (DataFrame)\n"
     ]
    }
   ],
   "source": [
    "%store word_df\n",
    "%store exp1_df\n",
    "%store num_df\n"
   ]
  }
 ],
 "metadata": {
  "kernelspec": {
   "display_name": "Python 3",
   "language": "python",
   "name": "python3"
  },
  "language_info": {
   "codemirror_mode": {
    "name": "ipython",
    "version": 3
   },
   "file_extension": ".py",
   "mimetype": "text/x-python",
   "name": "python",
   "nbconvert_exporter": "python",
   "pygments_lexer": "ipython3",
   "version": "3.7.0"
  }
 },
 "nbformat": 4,
 "nbformat_minor": 2
}
