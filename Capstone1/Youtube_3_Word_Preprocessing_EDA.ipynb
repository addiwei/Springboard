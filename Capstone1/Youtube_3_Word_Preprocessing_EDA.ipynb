{
 "cells": [
  {
   "cell_type": "code",
   "execution_count": 12,
   "metadata": {},
   "outputs": [
    {
     "name": "stdout",
     "output_type": "stream",
     "text": [
      "(989, 5)\n",
      "                                         description  \\\n",
      "0  15 Things You Didn't Know About SIEMENS | SUBS...   \n",
      "1  From digitalisation to automation, weƒ??re cha...   \n",
      "2  Are you interested in what Siemens does and wh...   \n",
      "3  The most powerful HVDC transformer in the worl...   \n",
      "4  Articolul complet pe site: https://cavaleria.r...   \n",
      "\n",
      "                               localized.description  \\\n",
      "0  15 Things You Didn't Know About SIEMENS | SUBS...   \n",
      "1  From digitalisation to automation, weƒ??re cha...   \n",
      "2  Are you interested in what Siemens does and wh...   \n",
      "3  The most powerful HVDC transformer in the worl...   \n",
      "4  Articolul complet pe site: https://cavaleria.r...   \n",
      "\n",
      "                                     localized.title  \\\n",
      "0            15 Things You Didn't Know About SIEMENS   \n",
      "1                What is it like to work at Siemens?   \n",
      "2                  Siemens - More than just business   \n",
      "3  Siemens presents: The first 1,100 kV HVDC Tran...   \n",
      "4  Ce ??nseamnŽŸ sŽŸ lucrezi la Siemens - Cavaler...   \n",
      "\n",
      "                                                tags  \\\n",
      "0  ['Alux', 'Alux.com', 'Alux Youtube', 'luxury l...   \n",
      "1  ['Siemens', 'Siemens UK', 'careers', 'jobs', '...   \n",
      "2  ['SIEMENS', 'products', 'Energy', 'Healthcare'...   \n",
      "3  ['Siemens', 'HVDC', 'Transformer', '1100kV', '...   \n",
      "4  ['Cavaleria.ro', 'hacking', 'siemens', 'job', ...   \n",
      "\n",
      "                                               title  \n",
      "0            15 Things You Didn't Know About SIEMENS  \n",
      "1                What is it like to work at Siemens?  \n",
      "2                  Siemens - More than just business  \n",
      "3  Siemens presents: The first 1,100 kV HVDC Tran...  \n",
      "4  Ce ??nseamnŽŸ sŽŸ lucrezi la Siemens - Cavaler...  \n"
     ]
    }
   ],
   "source": [
    "%store -r word_df\n",
    "\n",
    "import pandas as pd\n",
    "\n",
    "print(word_df.shape)\n",
    "print(word_df.head())\n",
    "\n"
   ]
  },
  {
   "cell_type": "code",
   "execution_count": 10,
   "metadata": {},
   "outputs": [
    {
     "name": "stdout",
     "output_type": "stream",
     "text": [
      "True\n",
      "False\n"
     ]
    }
   ],
   "source": [
    "#Check to see if these two columns are the same\n",
    "print(word_df['localized.title'].equals(word_df['title']))\n",
    "print(word_df['localized.description'].equals(word_df['description']))"
   ]
  },
  {
   "cell_type": "code",
   "execution_count": 7,
   "metadata": {},
   "outputs": [],
   "source": [
    "# Drop it, so we're down to \n",
    "word_df = word_df.drop(columns=['localized.title'])"
   ]
  },
  {
   "cell_type": "code",
   "execution_count": 14,
   "metadata": {},
   "outputs": [
    {
     "ename": "NameError",
     "evalue": "name 'df' is not defined",
     "output_type": "error",
     "traceback": [
      "\u001b[1;31m---------------------------------------------------------------------------\u001b[0m",
      "\u001b[1;31mNameError\u001b[0m                                 Traceback (most recent call last)",
      "\u001b[1;32m<ipython-input-14-a26cf46980d0>\u001b[0m in \u001b[0;36m<module>\u001b[1;34m()\u001b[0m\n\u001b[1;32m----> 1\u001b[1;33m \u001b[0mcheck_df\u001b[0m \u001b[1;33m=\u001b[0m \u001b[0mdf\u001b[0m\u001b[1;33m.\u001b[0m\u001b[0mwhere\u001b[0m\u001b[1;33m(\u001b[0m\u001b[0mword_df\u001b[0m\u001b[1;33m[\u001b[0m\u001b[1;34m'localized.description'\u001b[0m\u001b[1;33m]\u001b[0m\u001b[1;33m.\u001b[0m\u001b[0mvalues\u001b[0m\u001b[1;33m==\u001b[0m\u001b[0mword_df\u001b[0m\u001b[1;33m[\u001b[0m\u001b[1;34m'description'\u001b[0m\u001b[1;33m]\u001b[0m\u001b[1;33m.\u001b[0m\u001b[0mvalues\u001b[0m\u001b[1;33m)\u001b[0m\u001b[1;33m\u001b[0m\u001b[0m\n\u001b[0m",
      "\u001b[1;31mNameError\u001b[0m: name 'df' is not defined"
     ]
    }
   ],
   "source": [
    "check_df = df.where(word_df['localized.description'].values==word_df['description'].values)"
   ]
  }
 ],
 "metadata": {
  "kernelspec": {
   "display_name": "Python 3",
   "language": "python",
   "name": "python3"
  },
  "language_info": {
   "codemirror_mode": {
    "name": "ipython",
    "version": 3
   },
   "file_extension": ".py",
   "mimetype": "text/x-python",
   "name": "python",
   "nbconvert_exporter": "python",
   "pygments_lexer": "ipython3",
   "version": "3.6.5"
  }
 },
 "nbformat": 4,
 "nbformat_minor": 2
}
