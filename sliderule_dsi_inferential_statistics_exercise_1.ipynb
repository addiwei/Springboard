{
 "cells": [
  {
   "cell_type": "markdown",
   "metadata": {},
   "source": [
    "# What is the True Normal Human Body Temperature? \n",
    "\n",
    "#### Background\n",
    "\n",
    "The mean normal body temperature was held to be 37$^{\\circ}$C or 98.6$^{\\circ}$F for more than 120 years since it was first conceptualized and reported by Carl Wunderlich in a famous 1868 book. But, is this value statistically correct?"
   ]
  },
  {
   "cell_type": "markdown",
   "metadata": {},
   "source": [
    "<h3>Exercises</h3>\n",
    "\n",
    "<p>In this exercise, you will analyze a dataset of human body temperatures and employ the concepts of hypothesis testing, confidence intervals, and statistical significance.</p>\n",
    "\n",
    "<p>Answer the following questions <b>in this notebook below and submit to your Github account</b>.</p> \n",
    "\n",
    "<ol>\n",
    "<li>  Is the distribution of body temperatures normal? \n",
    "    <ul>\n",
    "    <li> Although this is not a requirement for the Central Limit Theorem to hold (read the introduction on Wikipedia's page about the CLT carefully: https://en.wikipedia.org/wiki/Central_limit_theorem), it gives us some peace of mind that the population may also be normally distributed if we assume that this sample is representative of the population.\n",
    "    <li> Think about the way you're going to check for the normality of the distribution. Graphical methods are usually used first, but there are also other ways: https://en.wikipedia.org/wiki/Normality_test\n",
    "    </ul>\n",
    "<li>  Is the sample size large? Are the observations independent?\n",
    "    <ul>\n",
    "    <li> Remember that this is a condition for the Central Limit Theorem, and hence the statistical tests we are using, to apply.\n",
    "    </ul>\n",
    "<li>  Is the true population mean really 98.6 degrees F?\n",
    "    <ul>\n",
    "    <li> First, try a bootstrap hypothesis test.\n",
    "    <li> Now, let's try frequentist statistical testing. Would you use a one-sample or two-sample test? Why?\n",
    "    <li> In this situation, is it appropriate to use the $t$ or $z$ statistic? \n",
    "    <li> Now try using the other test. How is the result be different? Why?\n",
    "    </ul>\n",
    "<li>  Draw a small sample of size 10 from the data and repeat both frequentist tests. \n",
    "    <ul>\n",
    "    <li> Which one is the correct one to use? \n",
    "    <li> What do you notice? What does this tell you about the difference in application of the $t$ and $z$ statistic?\n",
    "    </ul>\n",
    "<li>  At what temperature should we consider someone's temperature to be \"abnormal\"?\n",
    "    <ul>\n",
    "    <li> As in the previous example, try calculating everything using the boostrap approach, as well as the frequentist approach.\n",
    "    <li> Start by computing the margin of error and confidence interval. When calculating the confidence interval, keep in mind that you should use the appropriate formula for one draw, and not N draws.\n",
    "    </ul>\n",
    "<li>  Is there a significant difference between males and females in normal temperature?\n",
    "    <ul>\n",
    "    <li> What testing approach did you use and why?\n",
    "    <li> Write a story with your conclusion in the context of the original problem.\n",
    "    </ul>\n",
    "</ol>\n",
    "\n",
    "You can include written notes in notebook cells using Markdown: \n",
    "   - In the control panel at the top, choose Cell > Cell Type > Markdown\n",
    "   - Markdown syntax: http://nestacms.com/docs/creating-content/markdown-cheat-sheet\n",
    "\n",
    "#### Resources\n",
    "\n",
    "+ Information and data sources: http://www.amstat.org/publications/jse/datasets/normtemp.txt, http://www.amstat.org/publications/jse/jse_data_archive.htm\n",
    "+ Markdown syntax: http://nestacms.com/docs/creating-content/markdown-cheat-sheet\n",
    "\n",
    "****"
   ]
  },
  {
   "cell_type": "code",
   "execution_count": 73,
   "metadata": {},
   "outputs": [],
   "source": [
    "import pandas as pd\n",
    "import seaborn as sns\n",
    "from statsmodels.graphics.gofplots import qqplot\n",
    "from scipy.stats import shapiro\n",
    "import numpy as np\n",
    "from scipy import stats\n",
    "import statsmodels.stats.weightstats\n",
    "\n",
    "\n",
    "\n",
    "df = pd.read_csv('data/human_body_temperature.csv')"
   ]
  },
  {
   "cell_type": "code",
   "execution_count": 5,
   "metadata": {},
   "outputs": [
    {
     "data": {
      "text/html": [
       "<div>\n",
       "<style scoped>\n",
       "    .dataframe tbody tr th:only-of-type {\n",
       "        vertical-align: middle;\n",
       "    }\n",
       "\n",
       "    .dataframe tbody tr th {\n",
       "        vertical-align: top;\n",
       "    }\n",
       "\n",
       "    .dataframe thead th {\n",
       "        text-align: right;\n",
       "    }\n",
       "</style>\n",
       "<table border=\"1\" class=\"dataframe\">\n",
       "  <thead>\n",
       "    <tr style=\"text-align: right;\">\n",
       "      <th></th>\n",
       "      <th>temperature</th>\n",
       "      <th>gender</th>\n",
       "      <th>heart_rate</th>\n",
       "    </tr>\n",
       "  </thead>\n",
       "  <tbody>\n",
       "    <tr>\n",
       "      <th>0</th>\n",
       "      <td>99.3</td>\n",
       "      <td>F</td>\n",
       "      <td>68.0</td>\n",
       "    </tr>\n",
       "    <tr>\n",
       "      <th>1</th>\n",
       "      <td>98.4</td>\n",
       "      <td>F</td>\n",
       "      <td>81.0</td>\n",
       "    </tr>\n",
       "    <tr>\n",
       "      <th>2</th>\n",
       "      <td>97.8</td>\n",
       "      <td>M</td>\n",
       "      <td>73.0</td>\n",
       "    </tr>\n",
       "    <tr>\n",
       "      <th>3</th>\n",
       "      <td>99.2</td>\n",
       "      <td>F</td>\n",
       "      <td>66.0</td>\n",
       "    </tr>\n",
       "    <tr>\n",
       "      <th>4</th>\n",
       "      <td>98.0</td>\n",
       "      <td>F</td>\n",
       "      <td>73.0</td>\n",
       "    </tr>\n",
       "    <tr>\n",
       "      <th>5</th>\n",
       "      <td>99.2</td>\n",
       "      <td>M</td>\n",
       "      <td>83.0</td>\n",
       "    </tr>\n",
       "    <tr>\n",
       "      <th>6</th>\n",
       "      <td>98.0</td>\n",
       "      <td>M</td>\n",
       "      <td>71.0</td>\n",
       "    </tr>\n",
       "    <tr>\n",
       "      <th>7</th>\n",
       "      <td>98.8</td>\n",
       "      <td>M</td>\n",
       "      <td>78.0</td>\n",
       "    </tr>\n",
       "    <tr>\n",
       "      <th>8</th>\n",
       "      <td>98.4</td>\n",
       "      <td>F</td>\n",
       "      <td>84.0</td>\n",
       "    </tr>\n",
       "    <tr>\n",
       "      <th>9</th>\n",
       "      <td>98.6</td>\n",
       "      <td>F</td>\n",
       "      <td>86.0</td>\n",
       "    </tr>\n",
       "  </tbody>\n",
       "</table>\n",
       "</div>"
      ],
      "text/plain": [
       "   temperature gender  heart_rate\n",
       "0         99.3      F        68.0\n",
       "1         98.4      F        81.0\n",
       "2         97.8      M        73.0\n",
       "3         99.2      F        66.0\n",
       "4         98.0      F        73.0\n",
       "5         99.2      M        83.0\n",
       "6         98.0      M        71.0\n",
       "7         98.8      M        78.0\n",
       "8         98.4      F        84.0\n",
       "9         98.6      F        86.0"
      ]
     },
     "execution_count": 5,
     "metadata": {},
     "output_type": "execute_result"
    }
   ],
   "source": [
    "df.head(10)"
   ]
  },
  {
   "cell_type": "code",
   "execution_count": 10,
   "metadata": {},
   "outputs": [
    {
     "data": {
      "text/plain": [
       "(130, 3)"
      ]
     },
     "execution_count": 10,
     "metadata": {},
     "output_type": "execute_result"
    }
   ],
   "source": [
    "df.shape"
   ]
  },
  {
   "cell_type": "code",
   "execution_count": 11,
   "metadata": {},
   "outputs": [
    {
     "name": "stderr",
     "output_type": "stream",
     "text": [
      "C:\\Users\\z002xczx\\AppData\\Local\\Continuum\\anaconda3\\lib\\site-packages\\scipy\\stats\\stats.py:1713: FutureWarning: Using a non-tuple sequence for multidimensional indexing is deprecated; use `arr[tuple(seq)]` instead of `arr[seq]`. In the future this will be interpreted as an array index, `arr[np.array(seq)]`, which will result either in an error or a different result.\n",
      "  return np.add.reduce(sorted[indexer] * weights, axis=axis) / sumval\n"
     ]
    },
    {
     "data": {
      "text/plain": [
       "<matplotlib.axes._subplots.AxesSubplot at 0x4d6c208>"
      ]
     },
     "execution_count": 11,
     "metadata": {},
     "output_type": "execute_result"
    },
    {
     "data": {
      "image/png": "[encoded data removed]",
      "text/plain": [
       "<Figure size 432x288 with 1 Axes>"
      ]
     },
     "metadata": {
      "needs_background": "light"
     },
     "output_type": "display_data"
    }
   ],
   "source": [
    "#Answer to number 1 in cells 11 to 17\n",
    "#First implement graphical method for testing normality\n",
    "#Look at histogram of temperature. Obseration:  Appears roughly normal\n",
    "sns.distplot(df.temperature, bins=12)"
   ]
  },
  {
   "cell_type": "code",
   "execution_count": 14,
   "metadata": {},
   "outputs": [
    {
     "data": {
      "image/png": "[encoded data removed]",
      "text/plain": [
       "<Figure size 432x288 with 1 Axes>"
      ]
     },
     "execution_count": 14,
     "metadata": {},
     "output_type": "execute_result"
    },
    {
     "data": {
      "image/png": "[encoded data removed]",
      "text/plain": [
       "<Figure size 432x288 with 1 Axes>"
      ]
     },
     "metadata": {
      "needs_background": "light"
     },
     "output_type": "display_data"
    }
   ],
   "source": [
    "#Next look at QQ plot and observed a close fit with a line with minor deviations at the top and bottom.\n",
    "qqplot(df.temperature, line='s')"
   ]
  },
  {
   "cell_type": "code",
   "execution_count": 105,
   "metadata": {},
   "outputs": [
    {
     "name": "stdout",
     "output_type": "stream",
     "text": [
      "Skewness: -0.004367976879081625\n",
      "Skewness test value is very close to 0 so this provides further evidence of normal distribution\n"
     ]
    }
   ],
   "source": [
    "# Finally, do a skewness test: skewness should be about 0 for normally distributed data\n",
    "\n",
    "print('Skewness: ' + str(scipy.stats.skew(df.temperature, axis=0)))\n",
    "print('Skewness test value is very close to 0 so this provides further evidence of normal distribution')"
   ]
  },
  {
   "cell_type": "code",
   "execution_count": 114,
   "metadata": {},
   "outputs": [
    {
     "name": "stdout",
     "output_type": "stream",
     "text": [
      "Statistics=0.987, p=0.233\n",
      "Based on graphical methods the data appears normal from histogram and qqplot. Also from the test statistic, we have failed to reject the null hypothesis that the data is normally distributed.\n"
     ]
    }
   ],
   "source": [
    "# Statistical normality test - use hypothesis testing with p as test statistics and 5% significance level\n",
    "# H0 = data is normally distributed, Ha = data is not normally distributed\n",
    "\n",
    "# normality test fails to reject null nypothesis\n",
    "stat, p = shapiro(df.temperature)\n",
    "print('Statistics=%.3f, p=%.3f' % (stat, p))\n",
    "print('Based on graphical methods the data appears normal from histogram and qqplot. Also from the test statistic, we have failed to reject the null hypothesis that the data is normally distributed.')"
   ]
  },
  {
   "cell_type": "code",
   "execution_count": null,
   "metadata": {},
   "outputs": [],
   "source": [
    "# Answer to question number 2\n",
    "print('Since the sample data is only 130 out of the entire population of the world, the sample size is small or less than 10% of the overall population.  We can conclude the observations are independent.')"
   ]
  },
  {
   "cell_type": "code",
   "execution_count": 24,
   "metadata": {},
   "outputs": [
    {
     "name": "stdout",
     "output_type": "stream",
     "text": [
      "98.24923076923078\n"
     ]
    }
   ],
   "source": [
    "# Answer to question number 3: Is the true population mean really 98.6 degrees F?\n",
    "#Boostrap Hypothesis test:   \n",
    "#H0: mean = 98.6     Ha: mean <> 98.6,  with 5 % significant level, use the bootstrap sample average as test statistic\n",
    "print(np.mean(df.temperature))"
   ]
  },
  {
   "cell_type": "code",
   "execution_count": 25,
   "metadata": {},
   "outputs": [],
   "source": [
    "# Function to draw bootstrap replicates\n",
    "def draw_bs_reps(data, func, size=1):\n",
    "    \"\"\"Draw bootstrap replicates from a data set.\"\"\"\n",
    "    n = len(data)\n",
    "    \n",
    "    # Initialize array of replicates\n",
    "    reps = np.empty(size)\n",
    "    \n",
    "    for i in range(size):\n",
    "        # Generate bootstrap sample\n",
    "        bs_sample = np.random.choice(data, n)\n",
    "        \n",
    "        # Compute replicate\n",
    "        reps[i] = func(bs_sample)\n",
    "        \n",
    "    return reps"
   ]
  },
  {
   "cell_type": "code",
   "execution_count": null,
   "metadata": {},
   "outputs": [],
   "source": [
    "# we do not have data from 1868 therefore we're going to generate many sets of data assuming null hyp. is true\n",
    "translated_mean = df.temperature - np.mean(df.temperature) + 98.6 "
   ]
  },
  {
   "cell_type": "code",
   "execution_count": null,
   "metadata": {},
   "outputs": [],
   "source": [
    "# Creating bootstrap replciates of translated sample data mean\n",
    "bs_replicates = draw_bs_reps(translated_mean, np.mean, size=10000)"
   ]
  },
  {
   "cell_type": "code",
   "execution_count": 108,
   "metadata": {},
   "outputs": [
    {
     "name": "stdout",
     "output_type": "stream",
     "text": [
      "p =  0.0217\n",
      "The low p-value suggests that we can reject null hypothesis.\n"
     ]
    }
   ],
   "source": [
    "# Compute fraction of replicates that are equal to observed sample data mean and print p value\n",
    "\n",
    "p = np.sum(bs_replicates == np.mean(df.temperature)) / 10000\n",
    "\n",
    "# Print the p-value\n",
    "print('p = ', p)\n",
    "print('The low p-value suggests that we can reject null hypothesis.')"
   ]
  },
  {
   "cell_type": "code",
   "execution_count": 53,
   "metadata": {},
   "outputs": [
    {
     "name": "stdout",
     "output_type": "stream",
     "text": [
      "Since we are comparing a sample mean to a known population mean, and there is no knowledge of the data collected from 1886, then a One-Sample T-Test will be appropriate\n",
      "Also, since we do not know population standard deviation, t-statistic is more appropriate\n"
     ]
    }
   ],
   "source": [
    "# Answer to 3 part 2-  \n",
    "print('Since we are comparing a sample mean to a known population mean, and there is no knowledge of the data collected from 1886, then a One-Sample T-Test will be appropriate')\n"
   ]
  },
  {
   "cell_type": "code",
   "execution_count": 110,
   "metadata": {},
   "outputs": [
    {
     "name": "stdout",
     "output_type": "stream",
     "text": [
      "t stat:-5.4548232923645195\n",
      "p value: 2.4106320415561276e-07\n",
      "p value is very small so reject null hypothesis again that mean temp is equal 98.6\n"
     ]
    }
   ],
   "source": [
    "# Use scipy 1 sample, 2 tailed t-test to observe p value\n",
    "true_mu = 98.6\n",
    "\n",
    "onesample_results = scipy.stats.ttest_1samp(df.temperature, true_mu)\n",
    "\n",
    "print('t stat:' + str(onesample_results[0]) +  '\\np value: ' +  str(onesample_results[1]))\n",
    "print('p value is very small so reject null hypothesis again that mean temp is equal 98.6')"
   ]
  },
  {
   "cell_type": "code",
   "execution_count": null,
   "metadata": {},
   "outputs": [],
   "source": [
    "# Answer to 3 part 3:\n",
    "print('Since we do not know population standard deviation, t-statistic is more appropriate')\n"
   ]
  },
  {
   "cell_type": "code",
   "execution_count": 112,
   "metadata": {},
   "outputs": [
    {
     "name": "stdout",
     "output_type": "stream",
     "text": [
      "z stat:-5.4548232923645195\n",
      "p value: 4.9021570141012155e-08\n"
     ]
    }
   ],
   "source": [
    "# Answer to 3 part 4: Perform a Z test and compare results\n",
    "\n",
    "z_test_results = statsmodels.stats.weightstats.ztest(x1=df.temperature, x2=None, value=98.6, alternative='two-sided', usevar='pooled', ddof=1.0)\n",
    "\n",
    "print('z stat:' + str(z_test_results[0]) +  '\\np value: ' +  str(z_test_results[1]))\n",
    "\n"
   ]
  },
  {
   "cell_type": "code",
   "execution_count": 80,
   "metadata": {},
   "outputs": [
    {
     "name": "stdout",
     "output_type": "stream",
     "text": [
      "     temperature gender  heart_rate\n",
      "5           98.6      F        82.0\n",
      "44          98.4      F        79.0\n",
      "84          99.4      M        70.0\n",
      "42          97.6      F        61.0\n",
      "99          98.0      M        64.0\n",
      "68          98.8      F        70.0\n",
      "110         98.9      M        80.0\n",
      "37          96.7      M        71.0\n",
      "114         98.0      M        67.0\n",
      "70          97.8      F        62.0\n"
     ]
    }
   ],
   "source": [
    "# Answer to 4\n",
    "np.random.seed(42)\n",
    "\n",
    "rand10 = df.loc[np.random.permutation(df.index)[:10]]\n",
    "\n",
    "print(rand10)"
   ]
  },
  {
   "cell_type": "code",
   "execution_count": 82,
   "metadata": {},
   "outputs": [
    {
     "name": "stdout",
     "output_type": "stream",
     "text": [
      "t stat:-1.5606191828511504\n",
      "p value: 0.15304624869561917\n",
      "p value is very small so reject null hypothesis again that mean temp is equal 98.6\n"
     ]
    }
   ],
   "source": [
    "# Repeat 1 sample t-test w/ exact same parameters and sig. level\n",
    "onesample_results = scipy.stats.ttest_1samp(rand10.temperature, true_mu)\n",
    "\n",
    "print('t stat:' + str(onesample_results[0]) +  '\\np value: ' +  str(onesample_results[1]))\n",
    "print('p value is larger so we failed to reject null hypothesis that mean temp is equal 98.6')\n",
    "print('Smaller data set increases the chance of a type II error since the data set was purely random')"
   ]
  },
  {
   "cell_type": "code",
   "execution_count": 113,
   "metadata": {},
   "outputs": [
    {
     "name": "stdout",
     "output_type": "stream",
     "text": [
      "z stat:-1.5606191828511504\n",
      "p value: 0.11861362990253162\n"
     ]
    }
   ],
   "source": [
    "# Repeat 1 sample z-test w/ exact same parameters and sig. level\n",
    "\n",
    "z_test_results = statsmodels.stats.weightstats.ztest(x1=rand10.temperature, x2=None, value=98.6, alternative='two-sided', usevar='pooled', ddof=1.0)\n",
    "\n",
    "print('z stat:' + str(z_test_results[0]) +  '\\np value: ' +  str(z_test_results[1]))"
   ]
  },
  {
   "cell_type": "code",
   "execution_count": 88,
   "metadata": {},
   "outputs": [
    {
     "name": "stdout",
     "output_type": "stream",
     "text": [
      "Margin of error is equal to 0.12542357692309736\n",
      "95% confidence interval = [98.12384615 98.37538462] temperature\n"
     ]
    }
   ],
   "source": [
    "# Answer to number 5 using bootstrap confidence interval\n",
    "\n",
    "conf_int = np.percentile(bs_replicates, [2.5, 97.5])\n",
    "mean_bs = np.mean(bs_replicates)\n",
    "print('Margin of error is equal to ' + str(mean_bs - conf_int[0]))\n",
    "print('95% confidence interval =', conf_int, 'temperature')"
   ]
  },
  {
   "cell_type": "code",
   "execution_count": 90,
   "metadata": {},
   "outputs": [
    {
     "name": "stdout",
     "output_type": "stream",
     "text": [
      "Margin of error is equal to 1.526730769230781\n",
      "95% confidence interval = [96.7225 99.4775] temperature\n"
     ]
    }
   ],
   "source": [
    "# Answer to number 5 using frequentist method\n",
    "\n",
    "conf_int = np.percentile(df.temperature, [2.5, 97.5])\n",
    "mean_sample = np.mean(df.temperature)\n",
    "print('Margin of error is equal to ' + str(mean_sample - conf_int[0]))\n",
    "print('95% confidence interval =', conf_int, 'temperature')"
   ]
  },
  {
   "cell_type": "code",
   "execution_count": 67,
   "metadata": {},
   "outputs": [
    {
     "name": "stdout",
     "output_type": "stream",
     "text": [
      "H0: temp. are equal between male and females \n",
      "Ha: temp. not equal between male and females \n",
      "Significance level: 5%\n"
     ]
    }
   ],
   "source": [
    "# Answer to Question number 6 - is there a difference in female vs. male temperature?\n",
    "# Just use a simple t test to observe p value\n",
    "# First state hypothesis \n",
    "print('H0: temp. are equal between male and females \\nHa: temp. not equal between male and females \\nSignificance level: 5%')"
   ]
  },
  {
   "cell_type": "code",
   "execution_count": 63,
   "metadata": {},
   "outputs": [],
   "source": [
    "# create separate data frames for male and female\n",
    "males = df.loc[df.gender=='M']\n",
    "females = df.loc[df.gender=='F']"
   ]
  },
  {
   "cell_type": "code",
   "execution_count": 68,
   "metadata": {},
   "outputs": [
    {
     "name": "stdout",
     "output_type": "stream",
     "text": [
      "t stat:-2.2854345381656103\n",
      "Two tailed p value: 0.02393188312239561\n",
      "p value is below significance level, therefore reject null hypothesis that males and females have the same temperature\n"
     ]
    }
   ],
   "source": [
    "twosample_results = stats.ttest_ind(males.temperature,females.temperature)\n",
    "\n",
    "print('t stat:' + str(twosample_results[0]) +  '\\nTwo tailed p value: ' +  str(twosample_results[1]))\n",
    "print('p value is below significance level, therefore reject null hypothesis that males and females have the same temperature')"
   ]
  },
  {
   "cell_type": "code",
   "execution_count": 107,
   "metadata": {},
   "outputs": [
    {
     "name": "stdout",
     "output_type": "stream",
     "text": [
      "In 1868, there was no information the data collected was random, normal, and indepedent so these would have to be assumed in order to apply CLT testing.  \n",
      "Since there is no data and information on the data collected in 1864, it would be useless or irrelevant to apply in modern times.\n",
      "Also, realistically there are multiple factors that could affect the temperature of the human body: \n",
      "1. Sample bias \n",
      "2. Environmental temperature (time of day) \n",
      "3. Bodily infections (cold, flu, etc.) \n",
      "4. Female pregnancy \n",
      "5. Body hormonal changes \n",
      "6. Location of measurement \n",
      "7. Age \n",
      "8. Temperature measurement type/calibration \n",
      "9. Time since last meal / exercise\n",
      "Conclusion:  There is simply not enough data from either the 1868 study and the recent 130 sample to make any reasonable prediction about the mean human body temperature\n"
     ]
    }
   ],
   "source": [
    "# Answer to number 6 part 2 \n",
    "print('In 1868, there was no information the data collected was random, normal, and indepedent so these would have to be assumed in order to apply CLT testing.  ')\n",
    "print('Since there is no data and information on the data collected in 1864, it would be useless or irrelevant to apply in modern times.')\n",
    "print('Also, realistically there are multiple factors that could affect the temperature of the human body: \\n1. Sample bias \\n2. Environmental temperature (time of day) \\n3. Bodily infections (cold, flu, etc.) \\n4. Female pregnancy \\n5. Body hormonal changes \\n6. Location of measurement \\n7. Age \\n8. Temperature measurement type/calibration \\n9. Time since last meal / exercise') \n",
    "print('Conclusion:  There is simply not enough data from either the 1868 study and the recent 130 sample to make any reasonable prediction about the mean human body temperature')"
   ]
  }
 ],
 "metadata": {
  "kernelspec": {
   "display_name": "Python 3",
   "language": "python",
   "name": "python3"
  },
  "language_info": {
   "codemirror_mode": {
    "name": "ipython",
    "version": 3
   },
   "file_extension": ".py",
   "mimetype": "text/x-python",
   "name": "python",
   "nbconvert_exporter": "python",
   "pygments_lexer": "ipython3",
   "version": "3.7.0"
  }
 },
 "nbformat": 4,
 "nbformat_minor": 1
}
